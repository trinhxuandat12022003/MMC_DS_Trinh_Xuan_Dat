{
  "nbformat": 4,
  "nbformat_minor": 0,
  "metadata": {
    "colab": {
      "provenance": []
    },
    "kernelspec": {
      "name": "python3",
      "display_name": "Python 3"
    },
    "language_info": {
      "name": "python"
    }
  },
  "cells": [
    {
      "cell_type": "markdown",
      "source": [
        "## Bài 1: Trùng lặp (list+set or list+dict) [link](https://leetcode.com/problems/contains-duplicate/)\n",
        "Cho một mảng số nguyên nums, trả về True nếu bất kỳ giá trị nào xuất hiện ít nhất hai lần trong mảng và trả về false nếu mọi phần tử đều khác biệt.  \n",
        "```\n",
        "Example 1:\n",
        "Input: nums = [1,2,3,1]\n",
        "Output: true\n",
        "\n",
        "Example 2:\n",
        "Input: nums = [1,2,3,4]\n",
        "Output: false\n",
        "\n",
        "Example 3:\n",
        "Input: nums = [1,1,1,3,3,4,3,2,4,2]\n",
        "Output: true\n",
        "```"
      ],
      "metadata": {
        "id": "YGWz73_h2lRF"
      }
    },
    {
      "cell_type": "code",
      "execution_count": 8,
      "metadata": {
        "id": "AZ5MT_3z2evo",
        "colab": {
          "base_uri": "https://localhost:8080/"
        },
        "outputId": "c175ab83-a26e-4ded-fbc9-7582b5a4f812"
      },
      "outputs": [
        {
          "output_type": "stream",
          "name": "stdout",
          "text": [
            "1 5 5 6\n",
            "False\n"
          ]
        }
      ],
      "source": [
        "# Pass your code here\n",
        "arr = list(map(int, input().split()))\n",
        "duplicated = True\n",
        "for i in range(len(arr)):\n",
        "  if(arr.count(arr[i]) > 1):\n",
        "    duplicated = False\n",
        "    break\n",
        "print(duplicated)\n"
      ]
    },
    {
      "cell_type": "markdown",
      "source": [
        "## Bài 2: Đảo chữ nhóm (list+dict) [Link](https://leetcode.com/problems/group-anagrams/description/)\n",
        "Cho một mảng các chuỗi strs, hãy nhóm các đảo chữ cái lại với nhau. Bạn có thể trả lời câu trả lời theo bất kỳ thứ tự nào.\n",
        "\n",
        "Đảo chữ là một từ hoặc cụm từ được hình thành bằng cách sắp xếp lại các chữ cái của một từ hoặc cụm từ khác, thường sử dụng tất cả các chữ cái gốc chính xác một lần.\n",
        "\n",
        "```\n",
        "Example 1:\n",
        "Input: strs = [\"eat\",\"tea\",\"tan\",\"ate\",\"nat\",\"bat\"]\n",
        "Output: [[\"bat\"],[\"nat\",\"tan\"],[\"ate\",\"eat\",\"tea\"]]\n",
        "\n",
        "Example 2:\n",
        "Input: strs = [\"\"]\n",
        "Output: [[\"\"]]\n",
        "\n",
        "Example 3:\n",
        "Input: strs = [\"a\"]\n",
        "Output: [[\"a\"]]\n",
        "```"
      ],
      "metadata": {
        "id": "Y3_k1qYi3tJ5"
      }
    },
    {
      "cell_type": "code",
      "source": [
        "# Pass your code here\n",
        "def groupAnagrams(strs):\n",
        "    anagrams = {}\n",
        "    for word in strs:\n",
        "        sorted_word = ''.join(sorted(word))\n",
        "        if sorted_word in anagrams:\n",
        "            anagrams[sorted_word].append(word)\n",
        "        else:\n",
        "            anagrams[sorted_word] = [word]\n",
        "    return list(anagrams.values())\n",
        "\n",
        "arr = list(map(str, input().split()))\n",
        "print(groupAnagrams(arr))"
      ],
      "metadata": {
        "id": "9BoWv8lHz3-z",
        "colab": {
          "base_uri": "https://localhost:8080/"
        },
        "outputId": "72a7fe7a-8e92-41a4-f41f-d7d15b42f7a3"
      },
      "execution_count": 9,
      "outputs": [
        {
          "output_type": "stream",
          "name": "stdout",
          "text": [
            "a\n",
            "[['a']]\n"
          ]
        }
      ]
    },
    {
      "cell_type": "code",
      "source": [],
      "metadata": {
        "id": "EQo-s0SJC4Ff"
      },
      "execution_count": null,
      "outputs": []
    },
    {
      "cell_type": "markdown",
      "source": [
        "## Bài 3: Tổng 2 số (list+set or list+dict) [Link](https://leetcode.com/problems/two-sum/description/)\n",
        "Cho một mảng các số nguyên nums và một số nguyên đích target, trả về chỉ số của hai số sao cho tổng của chúng = target.\n",
        "\n",
        "Bạn có thể giả định rằng mỗi đầu vào sẽ có chính xác một giải pháp và bạn không được sử dụng cùng một phần tử hai lần.\n",
        "\n",
        "Bạn có thể trả lời câu trả lời theo bất kỳ thứ tự nào.\n",
        "\n",
        "```\n",
        "Example 1:\n",
        "Input: nums = [2,7,11,15], target = 9\n",
        "Output: [0,1]\n",
        "Explanation: Because nums[0] + nums[1] == 9, we return [0, 1].\n",
        "\n",
        "Example 2:\n",
        "Input: nums = [3,2,4], target = 6\n",
        "Output: [1,2]\n",
        "\n",
        "Example 3:\n",
        "Input: nums = [3,3], target = 6\n",
        "Output: [0,1]\n",
        "```"
      ],
      "metadata": {
        "id": "_85Svydr4B7I"
      }
    },
    {
      "cell_type": "code",
      "source": [
        "# Pass your code here\n",
        "arr = list(map(int, input().split()))\n",
        "target = int(input())\n",
        "for i in range(len(arr)):\n",
        "  for j in range(i+1, len(arr)):\n",
        "    if(arr[i] + arr[j] == target ):\n",
        "      print(i, j)\n",
        "      break\n"
      ],
      "metadata": {
        "id": "Z7Yu2Eqr1Kih",
        "colab": {
          "base_uri": "https://localhost:8080/"
        },
        "outputId": "5a3d2cc9-21a7-4515-b27f-2d415f745909"
      },
      "execution_count": 10,
      "outputs": [
        {
          "output_type": "stream",
          "name": "stdout",
          "text": [
            "5 9 7 6 2 4 6\n",
            "16\n",
            "1 2\n"
          ]
        }
      ]
    },
    {
      "cell_type": "code",
      "source": [],
      "metadata": {
        "id": "Q-fjh72WDRMV"
      },
      "execution_count": null,
      "outputs": []
    }
  ]
}