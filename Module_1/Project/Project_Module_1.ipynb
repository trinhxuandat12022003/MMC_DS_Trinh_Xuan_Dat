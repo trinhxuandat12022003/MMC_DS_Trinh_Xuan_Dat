{
  "cells": [
    {
      "cell_type": "markdown",
      "metadata": {
        "id": "Q6NpnFzmr7Tg"
      },
      "source": [
        "# Task 1"
      ]
    },
    {
      "cell_type": "code",
      "execution_count": 3,
      "metadata": {
        "id": "ZiTRpmNGn2gr"
      },
      "outputs": [],
      "source": [
        "import os\n",
        "os.chdir(\"/content/drive/MyDrive/Data Files\")"
      ]
    },
    {
      "cell_type": "code",
      "execution_count": 4,
      "metadata": {
        "colab": {
          "base_uri": "https://localhost:8080/"
        },
        "id": "bapbuPGUokBO",
        "outputId": "d625a62f-03a1-47c0-eb12-936cf012448d"
      },
      "outputs": [
        {
          "output_type": "execute_result",
          "data": {
            "text/plain": [
              "<_io.TextIOWrapper name='/content/drive/MyDrive/Data Files/class1.txt' mode='r' encoding='UTF-8'>"
            ]
          },
          "metadata": {},
          "execution_count": 4
        }
      ],
      "source": [
        "FILE_PATH = \"/content/drive/MyDrive/Data Files/class1.txt\"\n",
        "f = open(FILE_PATH, \"r\")\n",
        "\n",
        "f"
      ]
    },
    {
      "cell_type": "code",
      "execution_count": 5,
      "metadata": {
        "id": "daqSVAkopHZl"
      },
      "outputs": [],
      "source": [
        "def openClass():\n",
        "  while True:\n",
        "    filename = input(\"Enter name class: \")\n",
        "    file_path = \"./Data Files/\" + filename + \".txt\"\n",
        "    try:\n",
        "      f = open(FILE_PATH, \"r+\")\n",
        "    except Exception as e:\n",
        "      print(e)\n",
        "    else:\n",
        "      print(\"\\n successfully opened\\n\", filename)\n",
        "      f.close()\n",
        "      break"
      ]
    },
    {
      "cell_type": "code",
      "execution_count": 6,
      "metadata": {
        "colab": {
          "base_uri": "https://localhost:8080/"
        },
        "id": "OKCYvjctp0GI",
        "outputId": "2cacdfea-868a-4a31-9357-013d30129d0f"
      },
      "outputs": [
        {
          "output_type": "stream",
          "name": "stdout",
          "text": [
            "Enter name class: class5\n",
            "\n",
            " successfully opened\n",
            " class5\n"
          ]
        }
      ],
      "source": [
        "openClass()"
      ]
    },
    {
      "cell_type": "markdown",
      "metadata": {
        "id": "6FiwuLf0qpb1"
      },
      "source": [
        "# Task 2"
      ]
    },
    {
      "cell_type": "code",
      "execution_count": 10,
      "metadata": {
        "id": "M3YfDzU9suGD"
      },
      "outputs": [],
      "source": [
        "def analyzeClass():\n",
        "  while True:\n",
        "    filename = input(\"Enter name class: \")\n",
        "    filePath = \"/content/drive/MyDrive/Data Files/\" + filename + \".txt\"\n",
        "    try:\n",
        "      f = open(FILE_PATH, \"r+\")\n",
        "    except Exception as e:\n",
        "      print(e)\n",
        "    else:\n",
        "      print(\"\\n SUCCESSFULY OPENED\\n\", filename)\n",
        "\n",
        "    print(\"****ANALYZING****\")\n",
        "    k = 0  #numer of lines\n",
        "    error = 0  #number of eror\n",
        "\n",
        "    for line in f.readlines(): # vong lap kiem tra loi du lieu\n",
        "      k += 1\n",
        "      listValue = line.rstrip(\"\\n\").split(\",\")\n",
        "      if len(listValue) != 26:\n",
        "        print(\"Invalid line of data: does not cointain exactly 26 values: \\n\")\n",
        "        print(line, \"\\n\")\n",
        "        error += 1\n",
        "      elif not listValue[0][1:].isnumeric() or len(listValue[0]) != 9:\n",
        "        print(\"Invalid line of data: N# is invalid \\n\")\n",
        "        error += 1\n",
        "    if error == 0:\n",
        "      print(\"No errors found\")\n",
        "\n",
        "    print(\"****REPORT****\\n\" )\n",
        "    print(\"Total valid lines of data \", k - error, \"\\n\")\n",
        "    print(\"Total invalid lines of data\", error, \"\\n\")\n",
        "\n",
        "    choice = input(\"Do you want to nhập thêm ? (0: không, 1: có)\")\n",
        "    if choice == \"0\":\n",
        "      print(\"Good bye - Thank You !\")\n",
        "      break\n"
      ]
    },
    {
      "cell_type": "code",
      "execution_count": 11,
      "metadata": {
        "colab": {
          "base_uri": "https://localhost:8080/"
        },
        "id": "EzAl4SvSp_JO",
        "outputId": "32a5bb42-ba1e-4950-81d2-b736712a66af"
      },
      "outputs": [
        {
          "output_type": "stream",
          "name": "stdout",
          "text": [
            "Enter name class: class 2\n",
            "\n",
            " SUCCESSFULY OPENED\n",
            " class 2\n",
            "****ANALYZING****\n",
            "No errors found\n",
            "****REPORT****\n",
            "\n",
            "Total valid lines of data  20 \n",
            "\n",
            "Total invalid lines of data 0 \n",
            "\n",
            "Do you want to nhập thêm ? (0: không, 1: có)0\n",
            "Good bye - Thank You !\n"
          ]
        }
      ],
      "source": [
        "analyzeClass()\n"
      ]
    },
    {
      "cell_type": "markdown",
      "source": [
        "# Task 3"
      ],
      "metadata": {
        "id": "hLuRZC5i3E2q"
      }
    },
    {
      "cell_type": "code",
      "execution_count": 16,
      "metadata": {
        "id": "5_VBUVqVvmnA",
        "colab": {
          "base_uri": "https://localhost:8080/",
          "height": 543
        },
        "outputId": "f8999e25-8276-4536-d4f7-bc58aa5d2074"
      },
      "outputs": [
        {
          "output_type": "stream",
          "name": "stdout",
          "text": [
            "Enter name class: class 1\n",
            "[Errno 2] No such file or directory: '/content/drive/MyDrive/Data Files/class 1.txt'\n",
            "****ANALYZING****\n",
            "Enter name class: class1\n",
            "\n",
            " SUCCESSFULLY OPENED  class1\n",
            "****ANALYZING****\n",
            "Invalid line of data: does not contain exactly 26 values: \n",
            "\n",
            "N00000001,A,A,D,D,C,D,D,A,,C,D,B,C,,B,C,B,D,A,C,,A,,C,D\n",
            " \n",
            "\n",
            "**** REPORT ****\n",
            "\n",
            "Total valid lines of data:  0 \n",
            "\n",
            "Total invalid lines of data:  1 \n",
            "\n"
          ]
        },
        {
          "output_type": "error",
          "ename": "ZeroDivisionError",
          "evalue": "division by zero",
          "traceback": [
            "\u001b[0;31m---------------------------------------------------------------------------\u001b[0m",
            "\u001b[0;31mZeroDivisionError\u001b[0m                         Traceback (most recent call last)",
            "\u001b[0;32m<ipython-input-16-d51ebbe20601>\u001b[0m in \u001b[0;36m<cell line: 1>\u001b[0;34m()\u001b[0m\n\u001b[1;32m     48\u001b[0m     \u001b[0mprint\u001b[0m\u001b[0;34m(\u001b[0m\u001b[0;34m\"Total valid lines of data: \"\u001b[0m\u001b[0;34m,\u001b[0m \u001b[0mk\u001b[0m \u001b[0;34m-\u001b[0m \u001b[0merror\u001b[0m\u001b[0;34m,\u001b[0m\u001b[0;34m\"\\n\"\u001b[0m\u001b[0;34m)\u001b[0m\u001b[0;34m\u001b[0m\u001b[0;34m\u001b[0m\u001b[0m\n\u001b[1;32m     49\u001b[0m     \u001b[0mprint\u001b[0m\u001b[0;34m(\u001b[0m\u001b[0;34m\"Total invalid lines of data: \"\u001b[0m\u001b[0;34m,\u001b[0m \u001b[0merror\u001b[0m\u001b[0;34m,\u001b[0m\u001b[0;34m\"\\n\"\u001b[0m\u001b[0;34m)\u001b[0m\u001b[0;34m\u001b[0m\u001b[0;34m\u001b[0m\u001b[0m\n\u001b[0;32m---> 50\u001b[0;31m     \u001b[0mprint\u001b[0m\u001b[0;34m(\u001b[0m\u001b[0;34m\"Mean (average) score:\"\u001b[0m\u001b[0;34m,\u001b[0m \u001b[0msum\u001b[0m\u001b[0;34m(\u001b[0m\u001b[0mgrade\u001b[0m\u001b[0;34m)\u001b[0m\u001b[0;34m/\u001b[0m\u001b[0mlen\u001b[0m\u001b[0;34m(\u001b[0m\u001b[0mgrade\u001b[0m\u001b[0;34m)\u001b[0m\u001b[0;34m,\u001b[0m\u001b[0;34m\"\\n\"\u001b[0m\u001b[0;34m)\u001b[0m\u001b[0;34m\u001b[0m\u001b[0;34m\u001b[0m\u001b[0m\n\u001b[0m\u001b[1;32m     51\u001b[0m     \u001b[0mprint\u001b[0m\u001b[0;34m(\u001b[0m\u001b[0;34m\"Highest score\"\u001b[0m\u001b[0;34m,\u001b[0m \u001b[0mmax\u001b[0m\u001b[0;34m(\u001b[0m\u001b[0mgrade\u001b[0m\u001b[0;34m)\u001b[0m\u001b[0;34m,\u001b[0m\u001b[0;34m\"\\n\"\u001b[0m\u001b[0;34m)\u001b[0m\u001b[0;34m\u001b[0m\u001b[0;34m\u001b[0m\u001b[0m\n\u001b[1;32m     52\u001b[0m     \u001b[0mprint\u001b[0m\u001b[0;34m(\u001b[0m\u001b[0;34m\"Lowest score\"\u001b[0m\u001b[0;34m,\u001b[0m \u001b[0mmin\u001b[0m\u001b[0;34m(\u001b[0m\u001b[0mgrade\u001b[0m\u001b[0;34m)\u001b[0m\u001b[0;34m,\u001b[0m\u001b[0;34m\"\\n\"\u001b[0m\u001b[0;34m)\u001b[0m\u001b[0;34m\u001b[0m\u001b[0;34m\u001b[0m\u001b[0m\n",
            "\u001b[0;31mZeroDivisionError\u001b[0m: division by zero"
          ]
        }
      ],
      "source": [
        "while True:\n",
        "  filename = input(\"Enter name class: \")\n",
        "  FILE_PATH = \"/content/drive/MyDrive/Data Files/\" + filename + \".txt\"\n",
        "  try:\n",
        "    f = open(FILE_PATH, \"r+\")\n",
        "  except Exception as e:\n",
        "    print(e)\n",
        "  else:\n",
        "    print(\"\\n SUCCESSFULLY OPENED \", filename)\n",
        "\n",
        "  print(\"****ANALYZING****\")\n",
        "  k = 0\n",
        "  error = 0\n",
        "  grade = []\n",
        "  valid_line = []\n",
        "  answer_key = \"B,A,D,D,C,B,D,A,C,C,D,B,A,B,A,C,B,D,A,C,A,A,B,D,D\".split(\",\")\n",
        "\n",
        "  for line in f.readlines():\n",
        "    k += 1\n",
        "    listValue = line.rstrip(\"\\n\").split(\", \")\n",
        "    if(len(listValue) != 26):\n",
        "      print(\"Invalid line of data: does not contain exactly 26 values: \\n\")\n",
        "      print(line,\"\\n\")\n",
        "      error += 1\n",
        "    elif not listValue[0][1:].isnumeric() or len(listValue[0]) !=9:\n",
        "      print(\"Invalid line of data: N# is invalid \\n\")\n",
        "      print(line, \"\\n\")\n",
        "      error += 1\n",
        "    else:\n",
        "      valid_line.append(listValue)\n",
        "\n",
        "    for line in valid_line:\n",
        "      answer = line[1:]\n",
        "      score = 0\n",
        "      for j in range(25):\n",
        "        if(answer[j] == answer.key[j]):\n",
        "          score += 4\n",
        "        elif(answer[j] == \"\"):\n",
        "          score += 0\n",
        "        else:\n",
        "          score -= 1\n",
        "        grade.append(score)\n",
        "\n",
        "      if error == 0:\n",
        "        print(\"No errors found!\\n\")\n",
        "\n",
        "    print(\"**** REPORT ****\\n\")\n",
        "    print(\"Total valid lines of data: \", k - error,\"\\n\")\n",
        "    print(\"Total invalid lines of data: \", error,\"\\n\")\n",
        "    print(\"Mean (average) score:\", sum(grade)/len(grade),\"\\n\")\n",
        "    print(\"Highest score\", max(grade),\"\\n\")\n",
        "    print(\"Lowest score\", min(grade),\"\\n\")\n",
        "    print(\"Range of scores\", max(grade) - min(grade),\"\\n\")\n",
        "\n",
        "    s = sorted(grade)\n",
        "    n = len(grade)\n",
        "    if n % 2 == 1:\n",
        "      median = s[n//2]\n",
        "    else:\n",
        "      median = sum(s[n//2 - 1: n//2 + 1])/2.0\n",
        "\n",
        "    print(\"Median Score: \", median, \"\\n\")\n",
        "    choice = input(\"Do you want nhập thêm không? (0: không, 1: có)\")\n",
        "    if choice == \"0\":\n",
        "        print(\"Goodbye - Thank you !\")\n",
        "        break\n"
      ]
    },
    {
      "cell_type": "markdown",
      "source": [
        "# Task 4"
      ],
      "metadata": {
        "id": "saIasQ-X7Opj"
      }
    },
    {
      "cell_type": "code",
      "source": [
        "while True:\n",
        "    filename = input(\"Enter name class: \")\n",
        "    FILE_PATH = \"./Data_Files/\" + filename + \".txt\"\n",
        "    try:\n",
        "        f = open(FILE_PATH,\"r+\")\n",
        "    except Exception as e:\n",
        "        print(e)\n",
        "    else:\n",
        "        print(\"\\n SUCCESSFULLY OPENED\",filename)\n",
        "\n",
        "    print(\"**** ANALYZING ****\")\n",
        "\n",
        "    student_number = []\n",
        "    grade = [] # list grade\n",
        "    valid_line = []\n",
        "\n",
        "    answer_key = \"B,A,D,D,C,B,D,A,C,C,D,B,A,B,A,C,B,D,A,C,A,A,B,D,D\".split(\",\")\n",
        "\n",
        "    for line in f.readlines(): # Vòng lặp kiểm tra các lỗi của dữ liệu\n",
        "        listValue = line.rstrip(\"\\n\").split(\",\")\n",
        "\n",
        "        if len(listValue) == 26 and listValue[0][1:].isnumeric() and len(listValue[0]) == 9:\n",
        "            valid_line.append(listValue)\n",
        "\n",
        "    for line in valid_line: # chấm điểm\n",
        "        student_number.append(line[0])\n",
        "        answer = line[1:]\n",
        "\n",
        "        score = 0\n",
        "        for j in range(25):\n",
        "\n",
        "            if answer[j] == answer_key[j]:\n",
        "                score += 4\n",
        "            elif answer[j] == \"\":\n",
        "                score += 0\n",
        "            else:\n",
        "                score -= 1\n",
        "        grade.append(score)\n",
        "\n",
        "    FILE_PATH_GRADE = \"./Data_Files/\" + filename + \"_grade.txt\"\n",
        "\n",
        "    with open(FILE_PATH_GRADE,\"w\") as fw:\n",
        "        for sn, gr in zip(student_number,grade):\n",
        "            fw.write(sn + \",\" + str(gr) + \"\\n\")\n",
        "        print(\"Sucessfully write file \" + filename + \"_grade.txt \\n\")\n",
        "    f.close()\n",
        "    choice = input(\"Do you want input more? (0: không, 1: có)\")\n",
        "    if choice == \"0\":\n",
        "        print(\"Goodbye - Thank you !\")\n",
        "        break\n",
        ""
      ],
      "metadata": {
        "colab": {
          "base_uri": "https://localhost:8080/",
          "height": 280
        },
        "id": "K-COAu2L5go5",
        "outputId": "147920ce-c9d5-4e25-8b5f-e24264479335"
      },
      "execution_count": 17,
      "outputs": [
        {
          "output_type": "stream",
          "name": "stdout",
          "text": [
            "Enter name class: class1\n",
            "[Errno 2] No such file or directory: './Data_Files/class1.txt'\n",
            "**** ANALYZING ****\n"
          ]
        },
        {
          "output_type": "error",
          "ename": "FileNotFoundError",
          "evalue": "[Errno 2] No such file or directory: './Data_Files/class1_grade.txt'",
          "traceback": [
            "\u001b[0;31m---------------------------------------------------------------------------\u001b[0m",
            "\u001b[0;31mFileNotFoundError\u001b[0m                         Traceback (most recent call last)",
            "\u001b[0;32m<ipython-input-17-6a1095756b49>\u001b[0m in \u001b[0;36m<cell line: 1>\u001b[0;34m()\u001b[0m\n\u001b[1;32m     40\u001b[0m     \u001b[0mFILE_PATH_GRADE\u001b[0m \u001b[0;34m=\u001b[0m \u001b[0;34m\"./Data_Files/\"\u001b[0m \u001b[0;34m+\u001b[0m \u001b[0mfilename\u001b[0m \u001b[0;34m+\u001b[0m \u001b[0;34m\"_grade.txt\"\u001b[0m\u001b[0;34m\u001b[0m\u001b[0;34m\u001b[0m\u001b[0m\n\u001b[1;32m     41\u001b[0m \u001b[0;34m\u001b[0m\u001b[0m\n\u001b[0;32m---> 42\u001b[0;31m     \u001b[0;32mwith\u001b[0m \u001b[0mopen\u001b[0m\u001b[0;34m(\u001b[0m\u001b[0mFILE_PATH_GRADE\u001b[0m\u001b[0;34m,\u001b[0m\u001b[0;34m\"w\"\u001b[0m\u001b[0;34m)\u001b[0m \u001b[0;32mas\u001b[0m \u001b[0mfw\u001b[0m\u001b[0;34m:\u001b[0m\u001b[0;34m\u001b[0m\u001b[0;34m\u001b[0m\u001b[0m\n\u001b[0m\u001b[1;32m     43\u001b[0m         \u001b[0;32mfor\u001b[0m \u001b[0msn\u001b[0m\u001b[0;34m,\u001b[0m \u001b[0mgr\u001b[0m \u001b[0;32min\u001b[0m \u001b[0mzip\u001b[0m\u001b[0;34m(\u001b[0m\u001b[0mstudent_number\u001b[0m\u001b[0;34m,\u001b[0m\u001b[0mgrade\u001b[0m\u001b[0;34m)\u001b[0m\u001b[0;34m:\u001b[0m\u001b[0;34m\u001b[0m\u001b[0;34m\u001b[0m\u001b[0m\n\u001b[1;32m     44\u001b[0m             \u001b[0mfw\u001b[0m\u001b[0;34m.\u001b[0m\u001b[0mwrite\u001b[0m\u001b[0;34m(\u001b[0m\u001b[0msn\u001b[0m \u001b[0;34m+\u001b[0m \u001b[0;34m\",\"\u001b[0m \u001b[0;34m+\u001b[0m \u001b[0mstr\u001b[0m\u001b[0;34m(\u001b[0m\u001b[0mgr\u001b[0m\u001b[0;34m)\u001b[0m \u001b[0;34m+\u001b[0m \u001b[0;34m\"\\n\"\u001b[0m\u001b[0;34m)\u001b[0m\u001b[0;34m\u001b[0m\u001b[0;34m\u001b[0m\u001b[0m\n",
            "\u001b[0;31mFileNotFoundError\u001b[0m: [Errno 2] No such file or directory: './Data_Files/class1_grade.txt'"
          ]
        }
      ]
    },
    {
      "cell_type": "markdown",
      "source": [
        "# Task 5"
      ],
      "metadata": {
        "id": "BN1s871r7V7R"
      }
    },
    {
      "cell_type": "code",
      "source": [
        "import numpy as np\n",
        "import pandas as pd"
      ],
      "metadata": {
        "id": "F_SRz4nU7DEH"
      },
      "execution_count": 18,
      "outputs": []
    },
    {
      "cell_type": "code",
      "source": [
        "for i in range(1,9):\n",
        "    FILE_PATH_DATA = \"/content/drive/MyDrive/Data Files/class\" + str(i) + \".txt\"\n",
        "    FILE_PATH_DATA_TASK_5 = \"/content/drive/MyDrive/Data Files/class\" + str(i) + \"_task5.txt\"\n",
        "\n",
        "    with open(FILE_PATH_DATA,\"r\") as f:\n",
        "        with open(FILE_PATH_DATA_TASK_5,\"w\") as fw:\n",
        "            for line in f.readlines():\n",
        "                listValue = line.rstrip(\"\\n\").split(\",\")\n",
        "                if len(listValue) == 26 and listValue[0][1:].isnumeric() and len(listValue[0]) == 9:\n",
        "                    fw.write(line)"
      ],
      "metadata": {
        "id": "OENeC0pp7eJ4"
      },
      "execution_count": 19,
      "outputs": []
    },
    {
      "cell_type": "code",
      "source": [
        "while True:\n",
        "    filename = input(\"Enter name class: \")\n",
        "    FILE_PATH = \"./Data_Files/\" + filename + \"_task5.txt\"\n",
        "    try:\n",
        "        df = pd.read_csv(FILE_PATH,delimiter=\",\",header = None, index_col=0)\n",
        "        df.index.name = \"student_number\"\n",
        "        df = df.fillna(0)\n",
        "    except Exception as e:\n",
        "        print(e)\n",
        "    else:\n",
        "        print(\"\\n SUCCESSFULLY OPENED\",filename)\n",
        "        break;\n",
        "df"
      ],
      "metadata": {
        "colab": {
          "base_uri": "https://localhost:8080/",
          "height": 460
        },
        "id": "0MMWSOA17zco",
        "outputId": "96910382-136f-40fc-9285-bcf113e4449e"
      },
      "execution_count": 20,
      "outputs": [
        {
          "output_type": "stream",
          "name": "stdout",
          "text": [
            "Enter name class: class1\n",
            "[Errno 2] No such file or directory: './Data_Files/class1_task5.txt'\n",
            "Enter name class: class5\n",
            "[Errno 2] No such file or directory: './Data_Files/class5_task5.txt'\n"
          ]
        },
        {
          "output_type": "error",
          "ename": "KeyboardInterrupt",
          "evalue": "Interrupted by user",
          "traceback": [
            "\u001b[0;31m---------------------------------------------------------------------------\u001b[0m",
            "\u001b[0;31mKeyboardInterrupt\u001b[0m                         Traceback (most recent call last)",
            "\u001b[0;32m<ipython-input-20-beaba4b145ef>\u001b[0m in \u001b[0;36m<cell line: 1>\u001b[0;34m()\u001b[0m\n\u001b[1;32m      1\u001b[0m \u001b[0;32mwhile\u001b[0m \u001b[0;32mTrue\u001b[0m\u001b[0;34m:\u001b[0m\u001b[0;34m\u001b[0m\u001b[0;34m\u001b[0m\u001b[0m\n\u001b[0;32m----> 2\u001b[0;31m     \u001b[0mfilename\u001b[0m \u001b[0;34m=\u001b[0m \u001b[0minput\u001b[0m\u001b[0;34m(\u001b[0m\u001b[0;34m\"Enter name class: \"\u001b[0m\u001b[0;34m)\u001b[0m\u001b[0;34m\u001b[0m\u001b[0;34m\u001b[0m\u001b[0m\n\u001b[0m\u001b[1;32m      3\u001b[0m     \u001b[0mFILE_PATH\u001b[0m \u001b[0;34m=\u001b[0m \u001b[0;34m\"./Data_Files/\"\u001b[0m \u001b[0;34m+\u001b[0m \u001b[0mfilename\u001b[0m \u001b[0;34m+\u001b[0m \u001b[0;34m\"_task5.txt\"\u001b[0m\u001b[0;34m\u001b[0m\u001b[0;34m\u001b[0m\u001b[0m\n\u001b[1;32m      4\u001b[0m     \u001b[0;32mtry\u001b[0m\u001b[0;34m:\u001b[0m\u001b[0;34m\u001b[0m\u001b[0;34m\u001b[0m\u001b[0m\n\u001b[1;32m      5\u001b[0m         \u001b[0mdf\u001b[0m \u001b[0;34m=\u001b[0m \u001b[0mpd\u001b[0m\u001b[0;34m.\u001b[0m\u001b[0mread_csv\u001b[0m\u001b[0;34m(\u001b[0m\u001b[0mFILE_PATH\u001b[0m\u001b[0;34m,\u001b[0m\u001b[0mdelimiter\u001b[0m\u001b[0;34m=\u001b[0m\u001b[0;34m\",\"\u001b[0m\u001b[0;34m,\u001b[0m\u001b[0mheader\u001b[0m \u001b[0;34m=\u001b[0m \u001b[0;32mNone\u001b[0m\u001b[0;34m,\u001b[0m \u001b[0mindex_col\u001b[0m\u001b[0;34m=\u001b[0m\u001b[0;36m0\u001b[0m\u001b[0;34m)\u001b[0m\u001b[0;34m\u001b[0m\u001b[0;34m\u001b[0m\u001b[0m\n",
            "\u001b[0;32m/usr/local/lib/python3.10/dist-packages/ipykernel/kernelbase.py\u001b[0m in \u001b[0;36mraw_input\u001b[0;34m(self, prompt)\u001b[0m\n\u001b[1;32m    849\u001b[0m                 \u001b[0;34m\"raw_input was called, but this frontend does not support input requests.\"\u001b[0m\u001b[0;34m\u001b[0m\u001b[0;34m\u001b[0m\u001b[0m\n\u001b[1;32m    850\u001b[0m             )\n\u001b[0;32m--> 851\u001b[0;31m         return self._input_request(str(prompt),\n\u001b[0m\u001b[1;32m    852\u001b[0m             \u001b[0mself\u001b[0m\u001b[0;34m.\u001b[0m\u001b[0m_parent_ident\u001b[0m\u001b[0;34m,\u001b[0m\u001b[0;34m\u001b[0m\u001b[0;34m\u001b[0m\u001b[0m\n\u001b[1;32m    853\u001b[0m             \u001b[0mself\u001b[0m\u001b[0;34m.\u001b[0m\u001b[0m_parent_header\u001b[0m\u001b[0;34m,\u001b[0m\u001b[0;34m\u001b[0m\u001b[0;34m\u001b[0m\u001b[0m\n",
            "\u001b[0;32m/usr/local/lib/python3.10/dist-packages/ipykernel/kernelbase.py\u001b[0m in \u001b[0;36m_input_request\u001b[0;34m(self, prompt, ident, parent, password)\u001b[0m\n\u001b[1;32m    893\u001b[0m             \u001b[0;32mexcept\u001b[0m \u001b[0mKeyboardInterrupt\u001b[0m\u001b[0;34m:\u001b[0m\u001b[0;34m\u001b[0m\u001b[0;34m\u001b[0m\u001b[0m\n\u001b[1;32m    894\u001b[0m                 \u001b[0;31m# re-raise KeyboardInterrupt, to truncate traceback\u001b[0m\u001b[0;34m\u001b[0m\u001b[0;34m\u001b[0m\u001b[0m\n\u001b[0;32m--> 895\u001b[0;31m                 \u001b[0;32mraise\u001b[0m \u001b[0mKeyboardInterrupt\u001b[0m\u001b[0;34m(\u001b[0m\u001b[0;34m\"Interrupted by user\"\u001b[0m\u001b[0;34m)\u001b[0m \u001b[0;32mfrom\u001b[0m \u001b[0;32mNone\u001b[0m\u001b[0;34m\u001b[0m\u001b[0;34m\u001b[0m\u001b[0m\n\u001b[0m\u001b[1;32m    896\u001b[0m             \u001b[0;32mexcept\u001b[0m \u001b[0mException\u001b[0m \u001b[0;32mas\u001b[0m \u001b[0me\u001b[0m\u001b[0;34m:\u001b[0m\u001b[0;34m\u001b[0m\u001b[0;34m\u001b[0m\u001b[0m\n\u001b[1;32m    897\u001b[0m                 \u001b[0mself\u001b[0m\u001b[0;34m.\u001b[0m\u001b[0mlog\u001b[0m\u001b[0;34m.\u001b[0m\u001b[0mwarning\u001b[0m\u001b[0;34m(\u001b[0m\u001b[0;34m\"Invalid Message:\"\u001b[0m\u001b[0;34m,\u001b[0m \u001b[0mexc_info\u001b[0m\u001b[0;34m=\u001b[0m\u001b[0;32mTrue\u001b[0m\u001b[0;34m)\u001b[0m\u001b[0;34m\u001b[0m\u001b[0;34m\u001b[0m\u001b[0m\n",
            "\u001b[0;31mKeyboardInterrupt\u001b[0m: Interrupted by user"
          ]
        }
      ]
    }
  ],
  "metadata": {
    "colab": {
      "provenance": []
    },
    "kernelspec": {
      "display_name": "Python 3",
      "name": "python3"
    },
    "language_info": {
      "name": "python"
    }
  },
  "nbformat": 4,
  "nbformat_minor": 0
}