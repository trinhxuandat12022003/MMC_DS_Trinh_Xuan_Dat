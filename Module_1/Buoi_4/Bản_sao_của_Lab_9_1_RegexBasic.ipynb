{
  "nbformat": 4,
  "nbformat_minor": 0,
  "metadata": {
    "colab": {
      "provenance": []
    },
    "kernelspec": {
      "name": "python3",
      "display_name": "Python 3"
    },
    "language_info": {
      "name": "python"
    }
  },
  "cells": [
    {
      "cell_type": "markdown",
      "source": [
        "## Bài tập 1: Lấy số điện thoại từ một văn bản\n",
        "Cho một văn bản đầu vào, viết một chương trình Python sử dụng regex để trích xuất tất cả các số điện thoại có trong văn bản."
      ],
      "metadata": {
        "id": "E_V5EQmSIqCT"
      }
    },
    {
      "cell_type": "code",
      "execution_count": 4,
      "metadata": {
        "colab": {
          "base_uri": "https://localhost:8080/"
        },
        "id": "014IQFh1Cj_J",
        "outputId": "d5f3ffe1-c44e-4f3f-b8c3-ce48f43ba7ca"
      },
      "outputs": [
        {
          "output_type": "stream",
          "name": "stdout",
          "text": [
            "[]\n"
          ]
        }
      ],
      "source": [
        "import re\n",
        "\n",
        "def extract_phone_numbers(text):\n",
        "    phone_pattern = r'b0\\d{9}\\b'\n",
        "    phone_numbers = re.findall(phone_pattern, text)\n",
        "    return phone_numbers\n",
        "\n",
        "# Example usage:\n",
        "text = \"Liên hệ với tôi qua số điện thoại 0987654321.\"\n",
        "print(extract_phone_numbers(text))\n"
      ]
    },
    {
      "cell_type": "markdown",
      "source": [
        "### Đáp án"
      ],
      "metadata": {
        "id": "y-eig7AbIhUj"
      }
    },
    {
      "cell_type": "markdown",
      "source": [
        "```\\b0\\d{9}\\b```\n",
        "\n",
        "* **\\b**: Đây là một \"word boundary\", nó đảm bảo rằng chúng ta chỉ kết hợp với số điện thoại khi nó xuất hiện như một từ riêng lẻ (không phải một phần của một từ khác).\n",
        "* **0**: Chữ số 0 đứng đầu.\n",
        "* **\\d{9}**: Tiếp theo là bất kỳ chữ số nào (0-9) xuất hiện chính xác 9 lần.\n",
        "* **\\b**: \"Word boundary\" khác ở cuối, để đảm bảo số điện thoại kết thúc như một từ riêng lẻ."
      ],
      "metadata": {
        "id": "9--LUIDnIlUD"
      }
    },
    {
      "cell_type": "markdown",
      "source": [
        "## Bài tập 2: Lấy email từ một văn bản\n",
        "Viết một chương trình Python để trích xuất tất cả các địa chỉ email từ một văn bản đầu vào bằng cách sử dụng regex."
      ],
      "metadata": {
        "id": "DjGcqtl7Iu6q"
      }
    },
    {
      "cell_type": "code",
      "source": [
        "import re\n",
        "\n",
        "def extract_emails(text):\n",
        "    email_pattern = r'\\b[A-Za-z0-9._%+-]+@[A-Za-z0-9.-]+\\.[A-Z|a-z]{2,}\\b'\n",
        "    emails = re.findall(email_pattern, text)\n",
        "    return emails\n",
        "\n",
        "# Example usage:\n",
        "text = \"Email liên hệ: example@gmail.com hoặc contact@domain.com.\"\n",
        "print(extract_emails(text))"
      ],
      "metadata": {
        "colab": {
          "base_uri": "https://localhost:8080/"
        },
        "id": "fRfqNs_oIwXm",
        "outputId": "bc9e0816-a3cd-40bc-b12b-ff4d06919c42"
      },
      "execution_count": 5,
      "outputs": [
        {
          "output_type": "stream",
          "name": "stdout",
          "text": [
            "['example@gmail.com', 'contact@domain.com']\n"
          ]
        }
      ]
    },
    {
      "cell_type": "markdown",
      "source": [
        "#### Đáp án"
      ],
      "metadata": {
        "id": "PVqEQJhiJ42t"
      }
    },
    {
      "cell_type": "markdown",
      "source": [
        "```\\b[A-Za-z0-9._%+-]+@[A-Za-z0-9.-]+\\.[A-Z|a-z]{2,}\\b```\n",
        "* **\\b**: Đây là một \"word boundary\", nó đảm bảo rằng biểu thức chỉ phù hợp với một địa chỉ email khi nó xuất hiện như một từ riêng lẻ, không phải một phần của một từ khác.\n",
        "\n",
        "* **[A-Za-z0-9._%+-]+**: Đây là một nhóm ký tự, nó phù hợp với một hoặc nhiều ký tự trong khoảng từ A đến Z (in hoa), a đến z (in thường), hoặc từ 0 đến 9, hoặc các ký tự . _ % + -.\n",
        "\n",
        "* **@**: Ký tự @ cần phải xuất hiện sau phần trên để tạo thành một địa chỉ email hợp lệ.\n",
        "\n",
        "* **[A-Za-z0-9.-]+**: Đây là một nhóm ký tự, nó phù hợp với một hoặc nhiều ký tự trong khoảng từ A đến Z (in hoa), a đến z (in thường), hoặc từ 0 đến 9, hoặc các ký tự . và -.\n",
        "\n",
        "* **\\\\.**: Ký tự dấu chấm \".\" phải xuất hiện sau phần trên để phù hợp với một địa chỉ email hợp lệ.\n",
        "\n",
        "* **[A-Z|a-z]{2,}**: Đây là một nhóm ký tự, nó phù hợp với hai ký tự trở lên trong khoảng từ A đến Z hoặc từ a đến z. Điều này đại diện cho phần mở rộng tên miền, như .com, .net, .org, vv.\n",
        "\n",
        "* **\\b**: Đây là một \"word boundary\", nó đảm bảo rằng địa chỉ email kết thúc như một từ riêng lẻ, không phải một phần của một từ khác."
      ],
      "metadata": {
        "id": "UDxyHN6IJYdx"
      }
    },
    {
      "cell_type": "markdown",
      "source": [
        "## Bài tập 3: Lấy số điện thoại và email từ một đoạn mã HTML\n",
        "Viết một chương trình Python để trích xuất tất cả các số điện thoại và địa chỉ email từ một đoạn mã HTML đầu vào bằng cách sử dụng regex."
      ],
      "metadata": {
        "id": "_FewMtGNKIhd"
      }
    },
    {
      "cell_type": "code",
      "source": [
        "import re\n",
        "\n",
        "def extract_phone_and_emails(html):\n",
        "    phone_pattern = r'\\b0\\d{9}\\b'\n",
        "    email_pattern = r'\\b[A-Za-z0-9._%+-]+@[A-Za-z0-9.-]+\\.[A-Z|a-z]{2,}\\b'\n",
        "    phones = re.findall(phone_pattern, html)\n",
        "    emails = re.findall(email_pattern, html)\n",
        "    return phones, emails\n",
        "\n",
        "# Example usage:\n",
        "html_code = \"\"\"\n",
        "<html>\n",
        "<body>\n",
        "<p>Liên hệ qua số điện thoại: 0825294200 hoặc email: contact@example.com.</p>\n",
        "<p>Hỗ trợ: support@domain.com</p>\n",
        "</body>\n",
        "</html>\n",
        "\"\"\"\n",
        "phones, emails = extract_phone_and_emails(html_code)\n",
        "print(\"Phone numbers:\", phones)\n",
        "print(\"Emails:\", emails)\n"
      ],
      "metadata": {
        "id": "-tmJlRXOKKld",
        "colab": {
          "base_uri": "https://localhost:8080/"
        },
        "outputId": "af134021-311d-4c87-9ecb-da119802e624"
      },
      "execution_count": 6,
      "outputs": [
        {
          "output_type": "stream",
          "name": "stdout",
          "text": [
            "Phone numbers: ['0825294200']\n",
            "Emails: ['contact@example.com', 'support@domain.com']\n"
          ]
        }
      ]
    },
    {
      "cell_type": "code",
      "source": [],
      "metadata": {
        "id": "tzGdKaQvP6it"
      },
      "execution_count": null,
      "outputs": []
    }
  ]
}