{
  "nbformat": 4,
  "nbformat_minor": 0,
  "metadata": {
    "kernelspec": {
      "display_name": "Python 3",
      "language": "python",
      "name": "python3"
    },
    "language_info": {
      "codemirror_mode": {
        "name": "ipython",
        "version": 3
      },
      "file_extension": ".py",
      "mimetype": "text/x-python",
      "name": "python",
      "nbconvert_exporter": "python",
      "pygments_lexer": "ipython3",
      "version": "3.7.6"
    },
    "colab": {
      "provenance": []
    }
  },
  "cells": [
    {
      "cell_type": "markdown",
      "metadata": {
        "id": "5IXlvgLmTSih"
      },
      "source": [
        "#Lab 9.2 Ghi tệp tin trong Python\n",
        "\n",
        "Thời lượng ước tính: **25** phút\n",
        "\n",
        "## Mục tiêu\n",
        "\n",
        "Sau khi hoàn thành bài lab này, bạn sẽ có thể:\n",
        "\n",
        "-   Ghi vào tệp tin sử dụng thư viện Python\n"
      ]
    },
    {
      "cell_type": "markdown",
      "metadata": {
        "id": "Z-66BvvyTSix"
      },
      "source": [
        "<h2>Mục lục</h2>\n",
        "<div class=\"alert alert-block alert-info\" style=\"margin-top: 20px\">\n",
        "    <ul>\n",
        "        <li><a href=\"write\">Ghi tệp tin</a></li>\n",
        "        <li><a href=\"Append\">Ghi thêm tệp tin</a></li>\n",
        "        <li><a href=\"add\">Các mode tệp tin khác</a></li>\n",
        "        <li><a href=\"copy\">Sao chép tệp tin</a></li>\n",
        "    </ul>\n",
        "\n",
        "</div>\n",
        "\n",
        "<hr>\n"
      ]
    },
    {
      "cell_type": "markdown",
      "metadata": {
        "id": "hyDEesPDTSiz"
      },
      "source": [
        "<h2 id=\"write\">Ghi tệp tin</h2>\n"
      ]
    },
    {
      "cell_type": "markdown",
      "metadata": {
        "id": "eGzXg_b0TSiz"
      },
      "source": [
        " Ta có thể mở một đối tượng tệp sử dụng phương thức <code>write()</code> để lưu tệp văn bản ra một danh sách. Để viết mode, đối số phải được thiết lập để ghi <b>w</b>. Hãy ghi tệp <b>Example2.txt</b> với dòng: <b>“This is line A”</b>\n"
      ]
    },
    {
      "cell_type": "code",
      "metadata": {
        "id": "mkOO6oNyTSi0",
        "colab": {
          "base_uri": "https://localhost:8080/",
          "height": 193
        },
        "outputId": "0ee76e3e-77e1-445a-b2e0-104358f4053f"
      },
      "source": [
        "# Write line to file\n",
        "exmp2 = '/resources/data/Example2.txt'\n",
        "with open(exmp2, 'w') as writefile:\n",
        "    writefile.write(\"This is line A\")"
      ],
      "execution_count": 1,
      "outputs": [
        {
          "output_type": "error",
          "ename": "FileNotFoundError",
          "evalue": "[Errno 2] No such file or directory: '/resources/data/Example2.txt'",
          "traceback": [
            "\u001b[0;31m---------------------------------------------------------------------------\u001b[0m",
            "\u001b[0;31mFileNotFoundError\u001b[0m                         Traceback (most recent call last)",
            "\u001b[0;32m<ipython-input-1-1f53e86afa02>\u001b[0m in \u001b[0;36m<cell line: 3>\u001b[0;34m()\u001b[0m\n\u001b[1;32m      1\u001b[0m \u001b[0;31m# Write line to file\u001b[0m\u001b[0;34m\u001b[0m\u001b[0;34m\u001b[0m\u001b[0m\n\u001b[1;32m      2\u001b[0m \u001b[0mexmp2\u001b[0m \u001b[0;34m=\u001b[0m \u001b[0;34m'/resources/data/Example2.txt'\u001b[0m\u001b[0;34m\u001b[0m\u001b[0;34m\u001b[0m\u001b[0m\n\u001b[0;32m----> 3\u001b[0;31m \u001b[0;32mwith\u001b[0m \u001b[0mopen\u001b[0m\u001b[0;34m(\u001b[0m\u001b[0mexmp2\u001b[0m\u001b[0;34m,\u001b[0m \u001b[0;34m'w'\u001b[0m\u001b[0;34m)\u001b[0m \u001b[0;32mas\u001b[0m \u001b[0mwritefile\u001b[0m\u001b[0;34m:\u001b[0m\u001b[0;34m\u001b[0m\u001b[0;34m\u001b[0m\u001b[0m\n\u001b[0m\u001b[1;32m      4\u001b[0m     \u001b[0mwritefile\u001b[0m\u001b[0;34m.\u001b[0m\u001b[0mwrite\u001b[0m\u001b[0;34m(\u001b[0m\u001b[0;34m\"This is line A\"\u001b[0m\u001b[0;34m)\u001b[0m\u001b[0;34m\u001b[0m\u001b[0;34m\u001b[0m\u001b[0m\n",
            "\u001b[0;31mFileNotFoundError\u001b[0m: [Errno 2] No such file or directory: '/resources/data/Example2.txt'"
          ]
        }
      ]
    },
    {
      "cell_type": "markdown",
      "metadata": {
        "id": "qoxGJFcaTSi5"
      },
      "source": [
        "Ta có thể đọc tệp xem nó có hoạt động không\n"
      ]
    },
    {
      "cell_type": "code",
      "metadata": {
        "id": "NoRc2NgMTSi6"
      },
      "source": [
        "# Read file\n",
        "\n",
        "with open(exmp2, 'r') as testwritefile:\n",
        "    print(testwritefile.read())"
      ],
      "execution_count": null,
      "outputs": []
    },
    {
      "cell_type": "markdown",
      "metadata": {
        "id": "VX1qaRmYTSi6"
      },
      "source": [
        "Ta có thể đọc nhiều dòng\n"
      ]
    },
    {
      "cell_type": "code",
      "metadata": {
        "id": "1j0u8Fy6TSi7"
      },
      "source": [
        "# Write lines to file\n",
        "\n",
        "with open(exmp2, 'w') as writefile:\n",
        "    writefile.write(\"This is line A\\n\")\n",
        "    writefile.write(\"This is line B\\n\")"
      ],
      "execution_count": null,
      "outputs": []
    },
    {
      "cell_type": "markdown",
      "metadata": {
        "id": "9jvWfBQ-TSi7"
      },
      "source": [
        "Phương thức <code>.write()</code> hoạt động tương tự như phương thức <code>.readline()</code>, ngoại trừ việc thay vì đọc một dòng mới, nó sẽ ghi một dòng mới. Quá trình này được minh họa trong hình, mã màu khác nhau của lưới biểu thị một dòng mới được thêm vào tệp sau mỗi lần gọi phương thức.\n"
      ]
    },
    {
      "cell_type": "markdown",
      "metadata": {
        "id": "WbM-n4rvTSi8"
      },
      "source": [
        "<img src=\"https://cf-courses-data.s3.us.cloud-object-storage.appdomain.cloud/IBMDeveloperSkillsNetwork-PY0101EN-SkillsNetwork/labs/Module%204/images/WriteLine.png\" width=\"500\" />\n"
      ]
    },
    {
      "cell_type": "markdown",
      "metadata": {
        "id": "1A_P6DYSTSi8"
      },
      "source": [
        "Bạn có thể kiểm tra tệp tin xem kết quả của bạn có chính xác không\n"
      ]
    },
    {
      "cell_type": "code",
      "metadata": {
        "id": "tOrAYmqMTSi8",
        "colab": {
          "base_uri": "https://localhost:8080/",
          "height": 193
        },
        "outputId": "6531ee98-fbaa-497b-9b5e-e3f11503c7c6"
      },
      "source": [
        "# Check whether write to file\n",
        "\n",
        "with open(exmp2, 'r') as testwritefile:\n",
        "    print(testwritefile.read())"
      ],
      "execution_count": 4,
      "outputs": [
        {
          "output_type": "error",
          "ename": "FileNotFoundError",
          "evalue": "[Errno 2] No such file or directory: '/resources/data/Example2.txt'",
          "traceback": [
            "\u001b[0;31m---------------------------------------------------------------------------\u001b[0m",
            "\u001b[0;31mFileNotFoundError\u001b[0m                         Traceback (most recent call last)",
            "\u001b[0;32m<ipython-input-4-1915d8d9632a>\u001b[0m in \u001b[0;36m<cell line: 3>\u001b[0;34m()\u001b[0m\n\u001b[1;32m      1\u001b[0m \u001b[0;31m# Check whether write to file\u001b[0m\u001b[0;34m\u001b[0m\u001b[0;34m\u001b[0m\u001b[0m\n\u001b[1;32m      2\u001b[0m \u001b[0;34m\u001b[0m\u001b[0m\n\u001b[0;32m----> 3\u001b[0;31m \u001b[0;32mwith\u001b[0m \u001b[0mopen\u001b[0m\u001b[0;34m(\u001b[0m\u001b[0mexmp2\u001b[0m\u001b[0;34m,\u001b[0m \u001b[0;34m'r'\u001b[0m\u001b[0;34m)\u001b[0m \u001b[0;32mas\u001b[0m \u001b[0mtestwritefile\u001b[0m\u001b[0;34m:\u001b[0m\u001b[0;34m\u001b[0m\u001b[0;34m\u001b[0m\u001b[0m\n\u001b[0m\u001b[1;32m      4\u001b[0m     \u001b[0mprint\u001b[0m\u001b[0;34m(\u001b[0m\u001b[0mtestwritefile\u001b[0m\u001b[0;34m.\u001b[0m\u001b[0mread\u001b[0m\u001b[0;34m(\u001b[0m\u001b[0;34m)\u001b[0m\u001b[0;34m)\u001b[0m\u001b[0;34m\u001b[0m\u001b[0;34m\u001b[0m\u001b[0m\n",
            "\u001b[0;31mFileNotFoundError\u001b[0m: [Errno 2] No such file or directory: '/resources/data/Example2.txt'"
          ]
        }
      ]
    },
    {
      "cell_type": "markdown",
      "metadata": {
        "id": "bg0N5mDVTSi9"
      },
      "source": [
        "Chúng ta ghi danh sách vào tệp <b>.txt</b> như sau:\n"
      ]
    },
    {
      "cell_type": "code",
      "metadata": {
        "id": "6-x0O8drTSi9",
        "colab": {
          "base_uri": "https://localhost:8080/"
        },
        "outputId": "9b84cb92-0351-43a9-d200-542a3dae70ad"
      },
      "source": [
        "# Sample list of text\n",
        "\n",
        "Lines = [\"This is line A\\n\", \"This is line B\\n\", \"This is line C\\n\"]\n",
        "Lines"
      ],
      "execution_count": 2,
      "outputs": [
        {
          "output_type": "execute_result",
          "data": {
            "text/plain": [
              "['This is line A\\n', 'This is line B\\n', 'This is line C\\n']"
            ]
          },
          "metadata": {},
          "execution_count": 2
        }
      ]
    },
    {
      "cell_type": "code",
      "metadata": {
        "id": "Fu6GuXM9TSi-",
        "colab": {
          "base_uri": "https://localhost:8080/"
        },
        "outputId": "88bf98e2-7918-4099-9deb-61056e0397ba"
      },
      "source": [
        "# Write the strings in the list to text file\n",
        "\n",
        "with open('Example2.txt', 'w') as writefile:\n",
        "    for line in Lines:\n",
        "        print(line)\n",
        "        writefile.write(line)"
      ],
      "execution_count": 3,
      "outputs": [
        {
          "output_type": "stream",
          "name": "stdout",
          "text": [
            "This is line A\n",
            "\n",
            "This is line B\n",
            "\n",
            "This is line C\n",
            "\n"
          ]
        }
      ]
    },
    {
      "cell_type": "markdown",
      "metadata": {
        "id": "Peh6H2uJTSi-"
      },
      "source": [
        "Chúng ta có thể xác thực tệp được viết bằng cách đọc và in ra các giá trị:\n"
      ]
    },
    {
      "cell_type": "code",
      "metadata": {
        "id": "DJXMFVHBTSi-",
        "colab": {
          "base_uri": "https://localhost:8080/"
        },
        "outputId": "457951a5-272b-43cf-a475-e48696e79160"
      },
      "source": [
        "# Verify if writing to file is successfully executed\n",
        "\n",
        "with open('Example2.txt', 'r') as testwritefile:\n",
        "    print(testwritefile.read())"
      ],
      "execution_count": 5,
      "outputs": [
        {
          "output_type": "stream",
          "name": "stdout",
          "text": [
            "This is line A\n",
            "This is line B\n",
            "This is line C\n",
            "\n"
          ]
        }
      ]
    },
    {
      "cell_type": "markdown",
      "metadata": {
        "id": "pBYNDnAwTSi_"
      },
      "source": [
        "Tuy nhiên, lưu ý rằng việc đặt mode thành **w** sẽ ghi đè lên tất cả dữ liệu hiện có trong tệp.\n"
      ]
    },
    {
      "cell_type": "code",
      "metadata": {
        "id": "Ef4ZPlLoTSi_",
        "colab": {
          "base_uri": "https://localhost:8080/"
        },
        "outputId": "1f5a6903-d264-4a71-f65d-478be16060f6"
      },
      "source": [
        "with open('Example2.txt', 'w') as writefile:\n",
        "    writefile.write(\"Overwrite\\n\")\n",
        "with open('Example2.txt', 'r') as testwritefile:\n",
        "    print(testwritefile.read())"
      ],
      "execution_count": 6,
      "outputs": [
        {
          "output_type": "stream",
          "name": "stdout",
          "text": [
            "Overwrite\n",
            "\n"
          ]
        }
      ]
    },
    {
      "cell_type": "markdown",
      "metadata": {
        "id": "K5Hjcrt5TSjA"
      },
      "source": [
        "<hr>\n",
        "<h2 id=\"Append\">Ghi thêm tệp tin (Appending Files)</h2>\n"
      ]
    },
    {
      "cell_type": "markdown",
      "metadata": {
        "id": "aNDFKit9TSjA"
      },
      "source": [
        "Chúng ta có thể ghi vào tệp mà không làm mất bất kỳ dữ liệu hiện có nào như sau bằng cách đặt đối số mode thành append **a**. Bạn có thể thêm một dòng mới như sau:\n"
      ]
    },
    {
      "cell_type": "code",
      "metadata": {
        "id": "zdHLhJOkTSjA"
      },
      "source": [
        "# Write a new line to text file\n",
        "\n",
        "with open('Example2.txt', 'a') as testwritefile:\n",
        "    testwritefile.write(\"This is line C\\n\")\n",
        "    testwritefile.write(\"This is line D\\n\")\n",
        "    testwritefile.write(\"This is line E\\n\")"
      ],
      "execution_count": 7,
      "outputs": []
    },
    {
      "cell_type": "markdown",
      "metadata": {
        "id": "hqlu2ek0TSjA"
      },
      "source": [
        "Bạn có thể xác thực tệp đã thay đổi bằng cách chạy ô sau:"
      ]
    },
    {
      "cell_type": "code",
      "metadata": {
        "id": "UBD3MPruTSjB",
        "colab": {
          "base_uri": "https://localhost:8080/"
        },
        "outputId": "0069acf6-82b9-474e-addc-cab17ca506a8"
      },
      "source": [
        "# Verify if the new line is in the text file\n",
        "\n",
        "with open('Example2.txt', 'r') as testwritefile:\n",
        "    print(testwritefile.read())"
      ],
      "execution_count": 8,
      "outputs": [
        {
          "output_type": "stream",
          "name": "stdout",
          "text": [
            "Overwrite\n",
            "This is line C\n",
            "This is line D\n",
            "This is line E\n",
            "\n"
          ]
        }
      ]
    },
    {
      "cell_type": "markdown",
      "metadata": {
        "id": "-vA8_wsHTSjB"
      },
      "source": [
        "<hr>\n",
        "<h2 id=\"add\">Các mode khác</h2>\n"
      ]
    },
    {
      "cell_type": "markdown",
      "metadata": {
        "id": "olfwBOdvTSjC"
      },
      "source": [
        "Việc mở tệp bằng  **a** hoặc **w** và sau đó mở lại trong **r** để đọc bất kỳ dòng nào khá là không hiệu quả. May mắn thay, chúng ta có thể truy cập tệp ở các mode sau:\n",
        "\n",
        "-   **r+**  Đọc và ghi. Không thể cắt ngắn tệp.\n",
        "-   **w+** : Ghi và đọc. Cắt bớt tệp.\n",
        "-   **a+** : Ghi thêm và Đọc. Tạo một tệp mới, nếu không có tệp nào tồn tại. Bạn không cần phải tìm hiểu chi tiết cụ thể của từng mode cho lab này.\n"
      ]
    },
    {
      "cell_type": "markdown",
      "metadata": {
        "id": "NREhHHeSTSjC"
      },
      "source": [
        "Hãy thử mode **a+**:\n"
      ]
    },
    {
      "cell_type": "code",
      "metadata": {
        "id": "-yRXter0TSjD",
        "colab": {
          "base_uri": "https://localhost:8080/"
        },
        "outputId": "a903be16-5557-409f-a8b2-fb4741230c6e"
      },
      "source": [
        "with open('Example2.txt', 'a+') as testwritefile:\n",
        "    testwritefile.write(\"This is line E\\n\")\n",
        "    print(testwritefile.read())"
      ],
      "execution_count": 9,
      "outputs": [
        {
          "output_type": "stream",
          "name": "stdout",
          "text": [
            "\n"
          ]
        }
      ]
    },
    {
      "cell_type": "markdown",
      "metadata": {
        "id": "ZtyS0jnYTSjD"
      },
      "source": [
        "Không có lỗi nhưng <code>read() </code> cũng không xuất ra bất kỳ thứ gì. Điều này là do vị trí của chúng ta trong tệp."
      ]
    },
    {
      "cell_type": "markdown",
      "metadata": {
        "id": "NUVtTQo8TSjD"
      },
      "source": [
        "Hầu hết các phương thức tệp mà chúng ta đã xem đều hoạt động ở một vị trí nhất định trong tệp. <code>.write() </code> ghi tại một vị trí nhất định trong tệp. <code>.read()</code> đọc tại một vị trí nhất định trong tệp, v.v. Bạn có thể coi điều này giống như việc di chuyển con trỏ của bạn trong sổ ghi chú để thực hiện các thay đổi tại vị trí cụ thể.\n"
      ]
    },
    {
      "cell_type": "markdown",
      "metadata": {
        "id": "YWXnJwXETSjE"
      },
      "source": [
        "Mở tệp trong **w** cũng giống như mở tệp .txt, di chuyển con trỏ của bạn đến đầu tệp văn bản, viết văn bản mới và xóa mọi thứ sau đó.\n",
        "Trong khi đó, việc mở tệp bằng **a** tương tự như mở tệp .txt, di chuyển con trỏ của bạn đến cuối và sau đó thêm các đoạn văn bản mới. <br>\n",
        "Thường rất hữu ích khi biết vị trí của 'cursor' (con trỏ) trong tệp và có thể kiểm soát nó. Các phương pháp sau đây cho phép chúng ta thực hiện chính xác điều này -\n",
        "\n",
        "-   <code>.tell()</code> - trả về vị trí hiện tại tính bằng byte\n",
        "-   <code>.seek(offset,from)</code> - thay đổi vị trí của byte 'offset' đối với 'from'. From có thể lấy giá trị 0,1,2 tương ứng với phần đầu, liên quan đến vị trí hiện tại và kết thúc\n"
      ]
    },
    {
      "cell_type": "markdown",
      "metadata": {
        "id": "skgl7RZvTSjF"
      },
      "source": [
        "Bây giờ ta hãy quay lại với **a+**\n"
      ]
    },
    {
      "cell_type": "code",
      "metadata": {
        "id": "v5sQBJwOTSjH",
        "colab": {
          "base_uri": "https://localhost:8080/"
        },
        "outputId": "296f7408-5728-4d25-8f93-f5f659ae1cec"
      },
      "source": [
        "with open('Example2.txt', 'a+') as testwritefile:\n",
        "    print(\"Initial Location: {}\".format(testwritefile.tell()))\n",
        "\n",
        "    data = testwritefile.read()\n",
        "    if (not data):  #empty strings return false in python\n",
        "            print('Read nothing')\n",
        "    else:\n",
        "            print(testwritefile.read())\n",
        "\n",
        "    testwritefile.seek(0,0) # move 0 bytes from beginning.\n",
        "\n",
        "    print(\"\\nNew Location : {}\".format(testwritefile.tell()))\n",
        "    data = testwritefile.read()\n",
        "    if (not data):\n",
        "            print('Read nothing')\n",
        "    else:\n",
        "            print(data)\n",
        "\n",
        "    print(\"Location after read: {}\".format(testwritefile.tell()) )"
      ],
      "execution_count": 10,
      "outputs": [
        {
          "output_type": "stream",
          "name": "stdout",
          "text": [
            "Initial Location: 70\n",
            "Read nothing\n",
            "\n",
            "New Location : 0\n",
            "Overwrite\n",
            "This is line C\n",
            "This is line D\n",
            "This is line E\n",
            "This is line E\n",
            "\n",
            "Location after read: 70\n"
          ]
        }
      ]
    },
    {
      "cell_type": "markdown",
      "metadata": {
        "id": "LQ-XIW_uTSjH"
      },
      "source": [
        "Cuối cùng, một lưu ý về sự khác biệt giữa **w+** và **r+**. Cả hai mode này đều cho phép truy cập các phương thức đọc và ghi. Tuy nhiên, việc mở tệp trong **w+** sẽ ghi đè tệp đó và xóa tất cả dữ liệu hiện có. <br>\n",
        "Để làm việc với tệp trên dữ liệu hiện có, hãy sử dụng **r+** và **a+**. Trong khi sử dụng **r+**, bạn nên thêm phương thức <code>.truncate()</code> vào cuối dữ liệu của bạn. Điều này sẽ giảm tệp dữ liệu của bạn và xóa mọi thứ đi cùng  phần giảm đó. <br>\n",
        "Trong khối code sau, Chạy code như lúc đầu và sau đó chạy nó với <code>.truncate()</code>.\n"
      ]
    },
    {
      "cell_type": "code",
      "metadata": {
        "id": "xb7iU4H0TSjI",
        "colab": {
          "base_uri": "https://localhost:8080/"
        },
        "outputId": "0b481796-68c8-4d43-b96a-9493f4cc34ab"
      },
      "source": [
        "with open('Example2.txt', 'r+') as testwritefile:\n",
        "    data = testwritefile.readlines()\n",
        "    testwritefile.seek(0,0) #write at beginning of file\n",
        "\n",
        "    testwritefile.write(\"Line 1\" + \"\\n\")\n",
        "    testwritefile.write(\"Line 2\" + \"\\n\")\n",
        "    testwritefile.write(\"Line 3\" + \"\\n\")\n",
        "    testwritefile.write(\"finished\\n\")\n",
        "    #Uncomment the line below\n",
        "    #testwritefile.truncate()\n",
        "    testwritefile.seek(0,0)\n",
        "    print(testwritefile.read())\n"
      ],
      "execution_count": 11,
      "outputs": [
        {
          "output_type": "stream",
          "name": "stdout",
          "text": [
            "Line 1\n",
            "Line 2\n",
            "Line 3\n",
            "finished\n",
            "is line D\n",
            "This is line E\n",
            "This is line E\n",
            "\n"
          ]
        }
      ]
    },
    {
      "cell_type": "markdown",
      "metadata": {
        "id": "3BBIQxCtTSjJ"
      },
      "source": [
        "<hr>\n"
      ]
    },
    {
      "cell_type": "markdown",
      "metadata": {
        "id": "sPqxaQwSTSjJ"
      },
      "source": [
        "<h2 id=\"copy\">Sao chép một tệp tin</h2>\n"
      ]
    },
    {
      "cell_type": "markdown",
      "metadata": {
        "id": "0m_tneo6TSjK"
      },
      "source": [
        "Hãy sao chép tệp <b>Example2.txt</b> vào tệp <b>Example3.txt</b>:\n"
      ]
    },
    {
      "cell_type": "code",
      "metadata": {
        "id": "0VhaWIBsTSjK"
      },
      "source": [
        "# Copy file to another\n",
        "\n",
        "with open('Example2.txt','r') as readfile:\n",
        "    with open('Example3.txt','w') as writefile:\n",
        "          for line in readfile:\n",
        "                writefile.write(line)"
      ],
      "execution_count": 12,
      "outputs": []
    },
    {
      "cell_type": "markdown",
      "metadata": {
        "id": "jppXHTcETSjK"
      },
      "source": [
        "Ta có thể đọc tệp tin để xem mọi thứ có hoạt động không:\n"
      ]
    },
    {
      "cell_type": "code",
      "metadata": {
        "id": "DzoOu1RgTSjL",
        "colab": {
          "base_uri": "https://localhost:8080/"
        },
        "outputId": "0b26ea87-5cdf-48b1-c675-2c9f32dc6015"
      },
      "source": [
        "# Verify if the copy is successfully executed\n",
        "\n",
        "with open('Example3.txt','r') as testwritefile:\n",
        "    print(testwritefile.read())"
      ],
      "execution_count": 13,
      "outputs": [
        {
          "output_type": "stream",
          "name": "stdout",
          "text": [
            "Line 1\n",
            "Line 2\n",
            "Line 3\n",
            "finished\n",
            "is line D\n",
            "This is line E\n",
            "This is line E\n",
            "\n"
          ]
        }
      ]
    },
    {
      "cell_type": "markdown",
      "metadata": {
        "id": "MwmxtfhTTSjL"
      },
      "source": [
        "Sau khi đọc tệp, chúng ta cũng có thể ghi dữ liệu vào tệp và lưu chúng ở các định dạng tệp khác nhau như **.txt, .csv, .xls (đối với tệp excel), v.v.**. Bạn sẽ gặp những định dàng này trong các ví dụ khác\n"
      ]
    },
    {
      "cell_type": "markdown",
      "metadata": {
        "id": "AtMGcPoXTSjL"
      },
      "source": [
        "Bây giờ hãy chuyển đến thư mục để đảm bảo tệp <b>.txt</b> tồn tại và chứa dữ liệu tóm tắt mà chúng ta đã viết.\n"
      ]
    },
    {
      "cell_type": "markdown",
      "metadata": {
        "id": "VqFl6mEbTSjM"
      },
      "source": [
        "<hr>\n"
      ]
    },
    {
      "cell_type": "markdown",
      "metadata": {
        "id": "sCGCFxnsTSjM"
      },
      "source": [
        "<h2>Exercise </h2>\n"
      ]
    },
    {
      "cell_type": "markdown",
      "metadata": {
        "id": "WY7pEAS6TSjM"
      },
      "source": [
        "Câu lạc bộ người hâm mộ Raptors của trường đại học địa phương của bạn duy trì danh sách các thành viên tích cực của mình trên tài liệu .txt. Hàng tháng, họ cập nhật tệp bằng cách loại bỏ các thành viên không hoạt động. Bạn đã được giao nhiệm vụ tự động hóa điều này bằng các kỹ năng python của mình. <br>\n",
        "Với tệp currentMem, loại từng thành viên có 'no' trong cột không hoạt động của họ. Theo dõi từng thành viên đã bị loại bỏ và thêm họ vào tệp exMem. Đảm bảo định dạng của tệp gốc được giữ nguyên.\n",
        "(_Gợi ý: Làm điều này bằng cách đọc/ghi toàn bộ dòng và đảm bảo vẫn giữ nguyên tiêu đề_)\n",
        "<br>\n",
        "Chạy khối code bên dưới trước khi bắt đầu exercise. Khung code đã cung cấp cho bạn, bạn chỉ chỉnh sửa hàm cleanFiles.\n"
      ]
    },
    {
      "cell_type": "code",
      "metadata": {
        "id": "s9MX6A01TSjN"
      },
      "source": [
        "#Run this prior to starting the exercise\n",
        "from random import randint as rnd\n",
        "\n",
        "memReg = 'members.txt'\n",
        "exReg = 'inactive.txt'\n",
        "fee =('yes','no')\n",
        "\n",
        "def genFiles(current,old):\n",
        "    with open(current,'w+') as writefile:\n",
        "        writefile.write('Membership No  Date Joined  Active  \\n')\n",
        "        data = \"{:^13}  {:<11}  {:<6}\\n\"\n",
        "\n",
        "        for rowno in range(20):\n",
        "            date = str(rnd(2015,2020))+ '-' + str(rnd(1,12))+'-'+str(rnd(1,25))\n",
        "            writefile.write(data.format(rnd(10000,99999),date,fee[rnd(0,1)]))\n",
        "\n",
        "\n",
        "    with open(old,'w+') as writefile:\n",
        "        writefile.write('Membership No  Date Joined  Active  \\n')\n",
        "        data = \"{:^13}  {:<11}  {:<6}\\n\"\n",
        "        for rowno in range(3):\n",
        "            date = str(rnd(2015,2020))+ '-' + str(rnd(1,12))+'-'+str(rnd(1,25))\n",
        "            writefile.write(data.format(rnd(10000,99999),date,fee[1]))\n",
        "\n",
        "\n",
        "genFiles(memReg,exReg)\n"
      ],
      "execution_count": 14,
      "outputs": []
    },
    {
      "cell_type": "markdown",
      "metadata": {
        "id": "25fG9kClTSjN"
      },
      "source": [
        "Bạn nhập lời giải ở dưới:\n"
      ]
    },
    {
      "cell_type": "code",
      "metadata": {
        "id": "Mc7LNITQTSjO",
        "colab": {
          "base_uri": "https://localhost:8080/"
        },
        "outputId": "2f290bd3-1314-4ebd-fea3-7140e60e41c2"
      },
      "source": [
        "\n",
        "def cleanFiles(currentMem,exMem):\n",
        "\n",
        "    with open(currentMem,'r+') as writeFile:\n",
        "        with open(exMem,'a+') as appendFile:\n",
        "            #get the data\n",
        "            writeFile.seek(0)\n",
        "            members = writeFile.readlines()\n",
        "            #remove header\n",
        "            header = members[0]\n",
        "            members.pop(0)\n",
        "\n",
        "            inactive = [member for member in members if ('no' in member)]\n",
        "            '''\n",
        "            The above is the same as\n",
        "\n",
        "            for member in active:\n",
        "            if 'no' in member:\n",
        "                inactive.append(member)\n",
        "            '''\n",
        "            #go to the beginning of the write file\n",
        "            writeFile.seek(0)\n",
        "            writeFile.write(header)\n",
        "            for member in members:\n",
        "                if (member in inactive):\n",
        "                    appendFile.write(member)\n",
        "                else:\n",
        "                    writeFile.write(member)\n",
        "            writeFile.truncate()\n",
        "\n",
        "\n",
        "\n",
        "\n",
        "# Code to help you see the files\n",
        "# Leave as is\n",
        "memReg = 'members.txt'\n",
        "exReg = 'inactive.txt'\n",
        "cleanFiles(memReg,exReg)\n",
        "\n",
        "\n",
        "headers = \"Membership No  Date Joined  Active  \\n\"\n",
        "with open(memReg,'r') as readFile:\n",
        "    print(\"Active Members: \\n\\n\")\n",
        "    print(readFile.read())\n",
        "\n",
        "with open(exReg,'r') as readFile:\n",
        "    print(\"Inactive Members: \\n\\n\")\n",
        "    print(readFile.read())\n",
        "\n"
      ],
      "execution_count": 15,
      "outputs": [
        {
          "output_type": "stream",
          "name": "stdout",
          "text": [
            "Active Members: \n",
            "\n",
            "\n",
            "Membership No  Date Joined  Active  \n",
            "    30627      2018-11-24   yes   \n",
            "    79344      2018-10-16   yes   \n",
            "    95766      2016-10-20   yes   \n",
            "    60981      2020-11-1    yes   \n",
            "    93057      2020-9-22    yes   \n",
            "    62902      2019-8-25    yes   \n",
            "    75251      2020-12-20   yes   \n",
            "    64922      2018-10-2    yes   \n",
            "    30904      2019-6-19    yes   \n",
            "    61712      2018-6-15    yes   \n",
            "    32531      2020-11-18   yes   \n",
            "\n",
            "Inactive Members: \n",
            "\n",
            "\n",
            "Membership No  Date Joined  Active  \n",
            "    31322      2015-11-4    no    \n",
            "    75018      2016-2-22    no    \n",
            "    30906      2017-10-17   no    \n",
            "    40629      2020-4-25    no    \n",
            "    98719      2017-10-9    no    \n",
            "    39980      2020-7-22    no    \n",
            "    41733      2016-8-13    no    \n",
            "    15227      2020-7-7     no    \n",
            "    39381      2016-4-9     no    \n",
            "    69769      2018-6-24    no    \n",
            "    39075      2015-2-24    no    \n",
            "    30110      2018-1-14    no    \n",
            "\n"
          ]
        }
      ]
    },
    {
      "cell_type": "markdown",
      "metadata": {
        "id": "8YvYf10QTSjO"
      },
      "source": [
        "Chạy khối code sau để xác thực code của bạn:"
      ]
    },
    {
      "cell_type": "code",
      "metadata": {
        "id": "4_pCXFIGTSjP",
        "colab": {
          "base_uri": "https://localhost:8080/"
        },
        "outputId": "5cef5b68-15ae-4b89-c9cc-3ce57ac2dcbf"
      },
      "source": [
        "def testMsg(passed):\n",
        "    if passed:\n",
        "       return 'Test Passed'\n",
        "    else :\n",
        "       return 'Test Failed'\n",
        "\n",
        "testWrite = \"testWrite.txt\"\n",
        "testAppend = \"testAppend.txt\"\n",
        "passed = True\n",
        "\n",
        "genFiles(testWrite,testAppend)\n",
        "\n",
        "with open(testWrite,'r') as file:\n",
        "    ogWrite = file.readlines()\n",
        "\n",
        "with open(testAppend,'r') as file:\n",
        "    ogAppend = file.readlines()\n",
        "\n",
        "try:\n",
        "    cleanFiles(testWrite,testAppend)\n",
        "except:\n",
        "    print('Error')\n",
        "\n",
        "with open(testWrite,'r') as file:\n",
        "    clWrite = file.readlines()\n",
        "\n",
        "with open(testAppend,'r') as file:\n",
        "    clAppend = file.readlines()\n",
        "\n",
        "# checking if total no of rows is same, including headers\n",
        "\n",
        "if (len(ogWrite) + len(ogAppend) != len(clWrite) + len(clAppend)):\n",
        "    print(\"The number of rows do not add up. Make sure your final files have the same header and format.\")\n",
        "    passed = False\n",
        "\n",
        "for line in clWrite:\n",
        "    if  'no' in line:\n",
        "        passed = False\n",
        "        print(\"Inactive members in file\")\n",
        "        break\n",
        "    else:\n",
        "        if line not in ogWrite:\n",
        "            print(\"Data in file does not match original file\")\n",
        "            passed = False\n",
        "print (\"{}\".format(testMsg(passed)))\n",
        "\n",
        "\n"
      ],
      "execution_count": 16,
      "outputs": [
        {
          "output_type": "stream",
          "name": "stdout",
          "text": [
            "Test Passed\n"
          ]
        }
      ]
    },
    {
      "cell_type": "markdown",
      "metadata": {
        "id": "DU6-Nwo8TSjP"
      },
      "source": [
        "<details><summary>Bấm vào đây để xem lời giải</summary>\n",
        "\n",
        "```python\n",
        "def cleanFiles(currentMem,exMem):\n",
        "    with open(currentMem,'r+') as writeFile:\n",
        "        with open(exMem,'a+') as appendFile:\n",
        "            #get the data\n",
        "            writeFile.seek(0)\n",
        "            members = writeFile.readlines()\n",
        "            #remove header\n",
        "            header = members[0]\n",
        "            members.pop(0)\n",
        "                \n",
        "            inactive = [member for member in members if ('no' in member)]\n",
        "            '''\n",
        "            The above is the same as\n",
        "\n",
        "            for member in active:\n",
        "            if 'no' in member:\n",
        "                inactive.append(member)\n",
        "            '''\n",
        "            #go to the beginning of the write file\n",
        "            writeFile.seek(0)\n",
        "            writeFile.write(header)\n",
        "            for member in members:\n",
        "                if (member in inactive):\n",
        "                    appendFile.write(member)\n",
        "                else:\n",
        "                    writeFile.write(member)      \n",
        "            writeFile.truncate()\n",
        "                \n",
        "memReg = 'members.txt'\n",
        "exReg = 'inactive.txt'\n",
        "cleanFiles(memReg,exReg)\n",
        "\n",
        "# code to help you see the files\n",
        "\n",
        "headers = \"Membership No  Date Joined  Active  \\n\"\n",
        "\n",
        "with open(memReg,'r') as readFile:\n",
        "    print(\"Active Members: \\n\\n\")\n",
        "    print(readFile.read())\n",
        "    \n",
        "with open(exReg,'r') as readFile:\n",
        "    print(\"Inactive Members: \\n\\n\")\n",
        "    print(readFile.read())\n",
        "    \n",
        "```\n",
        "\n",
        "</details>\n"
      ]
    },
    {
      "cell_type": "markdown",
      "metadata": {
        "id": "OGBoSSJATSjQ"
      },
      "source": [
        "<hr>\n",
        "Nguồn: IBM\n",
        "<hr>\n"
      ]
    }
  ]
}