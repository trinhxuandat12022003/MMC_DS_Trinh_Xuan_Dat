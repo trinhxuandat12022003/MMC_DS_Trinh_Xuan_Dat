{
  "nbformat": 4,
  "nbformat_minor": 0,
  "metadata": {
    "kernelspec": {
      "display_name": "Python 3",
      "language": "python",
      "name": "python3"
    },
    "language_info": {
      "codemirror_mode": {
        "name": "ipython",
        "version": 3
      },
      "file_extension": ".py",
      "mimetype": "text/x-python",
      "name": "python",
      "nbconvert_exporter": "python",
      "pygments_lexer": "ipython3",
      "version": "3.6.8"
    },
    "colab": {
      "provenance": []
    }
  },
  "cells": [
    {
      "cell_type": "markdown",
      "metadata": {
        "id": "uGGiSa1WIw-o"
      },
      "source": [
        "<h1>Lab 7.2 Các thao tác với string</h1>\n",
        "\n",
        "Thời lượng ước tính: **15** phút"
      ]
    },
    {
      "cell_type": "markdown",
      "metadata": {
        "id": "JNZdvQ57Iw-p"
      },
      "source": [
        "<p><strong>Xin chào!</strong> Notebook này sẽ dạy bạn về các thao tác với string (chuỗi) trong Ngôn ngữ lập trình Python. Ở phần cuối của notebook này, bạn sẽ biết các thao tác string cơ bản trong Python, bao gồm lập chỉ mục, escape sequence (dãy thoát) và các tác động đến string.</p>"
      ]
    },
    {
      "cell_type": "markdown",
      "metadata": {
        "id": "0kCVLxIfIw-p"
      },
      "source": [
        "<div class=\"alert alert-block alert-info\" style=\"margin-top: 20px\">\n",
        "    <a href=\"https://cocl.us/topNotebooksPython101Coursera\">\n",
        "         <img src=\"https://s3-api.us-geo.objectstorage.softlayer.net/cf-courses-data/CognitiveClass/PY0101EN/Ad/TopAd.png\" width=\"750\" align=\"center\">\n",
        "    </a>\n",
        "</div>"
      ]
    },
    {
      "cell_type": "markdown",
      "metadata": {
        "id": "Yn2X7jDFIw-q"
      },
      "source": [
        "<h2>Mục lục</h2>\n",
        "<div class=\"alert alert-block alert-info\" style=\"margin-top: 20px\">\n",
        "    <ul>\n",
        "        <li>\n",
        "            <a href=\"#strings\">String là gì?</a>\n",
        "        </li>\n",
        "        <li>\n",
        "            <a href=\"#index\">Indexing (Chỉ mục)</a>\n",
        "            <ul>\n",
        "                <li><a href=\"neg\">Chỉ mục âm</a></li>\n",
        "                <li><a href=\"slice\">Slicing</a></li>\n",
        "                <li><a href=\"stride\">Stride</a></li>\n",
        "                <li><a href=\"concat\">Nối String</a></li>\n",
        "            </ul>\n",
        "        </li>\n",
        "        <li>\n",
        "            <a href=\"#escape\">Escape Sequence</a>\n",
        "        </li>\n",
        "        <li>\n",
        "            <a href=\"#operations\">Thao tác với String</a>\n",
        "        </li>\n",
        "        <li>\n",
        "            <a href=\"#quiz\">Quiz về Strings</a>\n",
        "        </li>\n",
        "    </ul>\n",
        "    <p>\n",
        "        Thời lượng ước tính: <strong>15 phút</strong>\n",
        "    </p>\n",
        "</div>\n",
        "\n",
        "<hr>"
      ]
    },
    {
      "cell_type": "markdown",
      "metadata": {
        "id": "X9LLnH0fIw-q"
      },
      "source": [
        "<h2 id=\"strings\">String là gì?</h2>"
      ]
    },
    {
      "cell_type": "markdown",
      "metadata": {
        "id": "9Od13zsFIw-r"
      },
      "source": [
        "Ví dụ sau cho thấy một string chứa trong cặp dấu nháy kép:"
      ]
    },
    {
      "cell_type": "code",
      "metadata": {
        "id": "4SHlZ_3cIw-r",
        "colab": {
          "base_uri": "https://localhost:8080/",
          "height": 36
        },
        "outputId": "cce2a098-6304-4897-e475-488c110a96b5"
      },
      "source": [
        "# Use quotation marks for defining string\n",
        "\n",
        "\"Michael Jackson\""
      ],
      "execution_count": 1,
      "outputs": [
        {
          "output_type": "execute_result",
          "data": {
            "text/plain": [
              "'Michael Jackson'"
            ],
            "application/vnd.google.colaboratory.intrinsic+json": {
              "type": "string"
            }
          },
          "metadata": {},
          "execution_count": 1
        }
      ]
    },
    {
      "cell_type": "markdown",
      "metadata": {
        "id": "VRJWHtBvIw-s"
      },
      "source": [
        "Chúng ta cũng có thể sử dụng dấu nháy đơn:"
      ]
    },
    {
      "cell_type": "code",
      "metadata": {
        "id": "DEwLYbihIw-s",
        "colab": {
          "base_uri": "https://localhost:8080/",
          "height": 36
        },
        "outputId": "2f47b394-54b8-4900-dbb0-68002a8da19c"
      },
      "source": [
        "# Use single quotation marks for defining string\n",
        "\n",
        "'Michael Jackson'"
      ],
      "execution_count": 2,
      "outputs": [
        {
          "output_type": "execute_result",
          "data": {
            "text/plain": [
              "'Michael Jackson'"
            ],
            "application/vnd.google.colaboratory.intrinsic+json": {
              "type": "string"
            }
          },
          "metadata": {},
          "execution_count": 2
        }
      ]
    },
    {
      "cell_type": "markdown",
      "metadata": {
        "id": "vM5sL0l9Iw-s"
      },
      "source": [
        "String có thể là sự kết hợp của khoảng trắng và chữ số:"
      ]
    },
    {
      "cell_type": "code",
      "metadata": {
        "id": "P5unS99wIw-s",
        "colab": {
          "base_uri": "https://localhost:8080/",
          "height": 36
        },
        "outputId": "b47e59da-25aa-4d9f-d3c5-a9b4d00e0a90"
      },
      "source": [
        "# Digitals and spaces in string\n",
        "\n",
        "'1 2 3 4 5 6 '"
      ],
      "execution_count": 3,
      "outputs": [
        {
          "output_type": "execute_result",
          "data": {
            "text/plain": [
              "'1 2 3 4 5 6 '"
            ],
            "application/vnd.google.colaboratory.intrinsic+json": {
              "type": "string"
            }
          },
          "metadata": {},
          "execution_count": 3
        }
      ]
    },
    {
      "cell_type": "markdown",
      "metadata": {
        "id": "8AbVaxOhIw-t"
      },
      "source": [
        "String cũng có thể là sự kết hợp của các ký tự đặc biệt:"
      ]
    },
    {
      "cell_type": "code",
      "metadata": {
        "id": "0LbO6tgeIw-t",
        "colab": {
          "base_uri": "https://localhost:8080/",
          "height": 36
        },
        "outputId": "ee65c00f-3db6-4d33-c193-df285a647297"
      },
      "source": [
        "# Special characters in string\n",
        "\n",
        "'@#2_#]&*^%$'"
      ],
      "execution_count": 4,
      "outputs": [
        {
          "output_type": "execute_result",
          "data": {
            "text/plain": [
              "'@#2_#]&*^%$'"
            ],
            "application/vnd.google.colaboratory.intrinsic+json": {
              "type": "string"
            }
          },
          "metadata": {},
          "execution_count": 4
        }
      ]
    },
    {
      "cell_type": "markdown",
      "metadata": {
        "id": "oxGsl71hIw-t"
      },
      "source": [
        "Chúng ta có thể in ra string sử dụng câu lệnh print:"
      ]
    },
    {
      "cell_type": "code",
      "metadata": {
        "id": "5OjWtNIPIw-t",
        "colab": {
          "base_uri": "https://localhost:8080/"
        },
        "outputId": "82ca2dbc-ba2c-4d3b-e5d9-3e44fe89695e"
      },
      "source": [
        "# Print the string\n",
        "\n",
        "print(\"hello!\")"
      ],
      "execution_count": 5,
      "outputs": [
        {
          "output_type": "stream",
          "name": "stdout",
          "text": [
            "hello!\n"
          ]
        }
      ]
    },
    {
      "cell_type": "markdown",
      "metadata": {
        "id": "-t2kWkMjIw-u"
      },
      "source": [
        "Chúng ta có thể liên kết hoặc gán string cho một biến khác:\n"
      ]
    },
    {
      "cell_type": "code",
      "metadata": {
        "id": "p2hY2mgkIw-u",
        "colab": {
          "base_uri": "https://localhost:8080/",
          "height": 36
        },
        "outputId": "10d4b422-2821-4e12-8de5-ba61078a1b08"
      },
      "source": [
        "# Assign string to variable\n",
        "\n",
        "Name = \"Michael Jackson\"\n",
        "Name"
      ],
      "execution_count": 6,
      "outputs": [
        {
          "output_type": "execute_result",
          "data": {
            "text/plain": [
              "'Michael Jackson'"
            ],
            "application/vnd.google.colaboratory.intrinsic+json": {
              "type": "string"
            }
          },
          "metadata": {},
          "execution_count": 6
        }
      ]
    },
    {
      "cell_type": "markdown",
      "metadata": {
        "id": "K1ne2nJJIw-u"
      },
      "source": [
        "<hr>"
      ]
    },
    {
      "cell_type": "markdown",
      "metadata": {
        "id": "9cKf6pPsIw-u"
      },
      "source": [
        "<h2 id=\"index\">Chỉ mục</h2>"
      ]
    },
    {
      "cell_type": "markdown",
      "metadata": {
        "id": "wn-RdOJvIw-v"
      },
      "source": [
        "Sẽ rất hữu ích nếu coi string là một dãy có thứ tự. Mỗi phần tử trong dãy có thể được truy cập bằng cách sử dụng một chỉ số được biểu thị bằng mảng số:  "
      ]
    },
    {
      "cell_type": "markdown",
      "metadata": {
        "id": "A1Xygi5OIw-v"
      },
      "source": [
        "<img src=\"https://s3-api.us-geo.objectstorage.softlayer.net/cf-courses-data/CognitiveClass/PY0101EN/Chapter%201/Images/StringsIndex.png\" width=\"600\" align=\"center\" />"
      ]
    },
    {
      "cell_type": "markdown",
      "metadata": {
        "id": "9Vu5myzXIw-v"
      },
      "source": [
        "Chỉ mục đầu tiên có thể được truy cập như sau:"
      ]
    },
    {
      "cell_type": "markdown",
      "metadata": {
        "id": "87FzQ3w8Iw-v"
      },
      "source": [
        "<hr/>\n",
        "<div class=\"alert alert-success alertsuccess\" style=\"margin-top: 20px\">\n",
        "[Tip]: Bởi vì chỉ mục bắt đầu từ 0, có nghĩa là chỉ mục đầu tiên nằm trên chỉ mục 0.\n",
        "</div>\n",
        "<hr/>"
      ]
    },
    {
      "cell_type": "code",
      "metadata": {
        "id": "AiC3IP9-Iw-w",
        "colab": {
          "base_uri": "https://localhost:8080/"
        },
        "outputId": "161d1662-9c1b-4f62-8966-16316990f841"
      },
      "source": [
        "# Print the first element in the string\n",
        "\n",
        "print(Name[0])"
      ],
      "execution_count": 8,
      "outputs": [
        {
          "output_type": "stream",
          "name": "stdout",
          "text": [
            "M\n"
          ]
        }
      ]
    },
    {
      "cell_type": "markdown",
      "metadata": {
        "id": "npSZD_6SIw-w"
      },
      "source": [
        "Chúng ta có thể truy cập chỉ mục 6:"
      ]
    },
    {
      "cell_type": "code",
      "metadata": {
        "id": "CwjqCofWIw-w",
        "colab": {
          "base_uri": "https://localhost:8080/"
        },
        "outputId": "354acb45-4f6b-469c-8bd8-bb920f52f106"
      },
      "source": [
        "# Print the element on index 6 in the string\n",
        "\n",
        "print(Name[6])"
      ],
      "execution_count": 9,
      "outputs": [
        {
          "output_type": "stream",
          "name": "stdout",
          "text": [
            "l\n"
          ]
        }
      ]
    },
    {
      "cell_type": "markdown",
      "metadata": {
        "id": "5NV5RJRoIw-w"
      },
      "source": [
        "Hơn nữa, chúng ta có thể truy cập chỉ mục thứ 13:"
      ]
    },
    {
      "cell_type": "code",
      "metadata": {
        "id": "Utjb2vKfIw-x",
        "colab": {
          "base_uri": "https://localhost:8080/"
        },
        "outputId": "d3edcef0-a597-4709-bf84-4abda7440cc0"
      },
      "source": [
        "# Print the element on the 13th index in the string\n",
        "\n",
        "print(Name[13])"
      ],
      "execution_count": 10,
      "outputs": [
        {
          "output_type": "stream",
          "name": "stdout",
          "text": [
            "o\n"
          ]
        }
      ]
    },
    {
      "cell_type": "markdown",
      "metadata": {
        "id": "gAHwanv4Iw-x"
      },
      "source": [
        "<h3 id=\"neg\">Chỉ mục âm</h3>"
      ]
    },
    {
      "cell_type": "markdown",
      "metadata": {
        "id": "QiVK3RtlIw-x"
      },
      "source": [
        " Chúng ta có thể dùng chỉ mục âm với string:"
      ]
    },
    {
      "cell_type": "markdown",
      "metadata": {
        "id": "D06mKfJUIw-x"
      },
      "source": [
        "<img src=\"https://s3-api.us-geo.objectstorage.softlayer.net/cf-courses-data/CognitiveClass/PY0101EN/Chapter%201/Images/StringsNeg.png\" width=\"600\" align=\"center\" />"
      ]
    },
    {
      "cell_type": "markdown",
      "metadata": {
        "id": "T2ezEC7sIw-x"
      },
      "source": [
        "Chỉ mục âm có thể giúp chúng ta đếm phần tử từ cuối string."
      ]
    },
    {
      "cell_type": "markdown",
      "metadata": {
        "id": "bhA18GRtIw-y"
      },
      "source": [
        "Phần tử cuối cùng được cho bởi chỉ mục -1:"
      ]
    },
    {
      "cell_type": "code",
      "metadata": {
        "id": "WVuMSryCIw-y",
        "colab": {
          "base_uri": "https://localhost:8080/"
        },
        "outputId": "75702e94-86be-4e00-c8b7-6287de274002"
      },
      "source": [
        "# Print the last element in the string\n",
        "\n",
        "print(Name[-1])"
      ],
      "execution_count": 11,
      "outputs": [
        {
          "output_type": "stream",
          "name": "stdout",
          "text": [
            "n\n"
          ]
        }
      ]
    },
    {
      "cell_type": "markdown",
      "metadata": {
        "id": "I0LHZvdnIw-y"
      },
      "source": [
        "Phần tử đầu tiên có thể nhận được bằng chỉ mục -15:"
      ]
    },
    {
      "cell_type": "code",
      "metadata": {
        "id": "hHSpAEJPIw-y",
        "colab": {
          "base_uri": "https://localhost:8080/"
        },
        "outputId": "4542b9e7-f204-4fa5-e846-5229626a4c16"
      },
      "source": [
        "# Print the first element in the string\n",
        "\n",
        "print(Name[-15])"
      ],
      "execution_count": 12,
      "outputs": [
        {
          "output_type": "stream",
          "name": "stdout",
          "text": [
            "M\n"
          ]
        }
      ]
    },
    {
      "cell_type": "markdown",
      "metadata": {
        "id": "paAlmQZqIw-y"
      },
      "source": [
        "Chúng ta có thể tìm số ký tự trong một string bằng cách sử dụng <code>len</code>, viết tắt của length:"
      ]
    },
    {
      "cell_type": "code",
      "metadata": {
        "id": "Vzx9VNcbIw-z",
        "colab": {
          "base_uri": "https://localhost:8080/"
        },
        "outputId": "bec822c6-c9ba-4cff-8102-b6cb19336182"
      },
      "source": [
        "# Find the length of string\n",
        "\n",
        "len(\"Michael Jackson\")"
      ],
      "execution_count": 13,
      "outputs": [
        {
          "output_type": "execute_result",
          "data": {
            "text/plain": [
              "15"
            ]
          },
          "metadata": {},
          "execution_count": 13
        }
      ]
    },
    {
      "cell_type": "markdown",
      "metadata": {
        "id": "khQnYozQIw-z"
      },
      "source": [
        "<h3 id=\"slice\">Slicing</h3>"
      ]
    },
    {
      "cell_type": "markdown",
      "metadata": {
        "id": "4OjlgibjIw-z"
      },
      "source": [
        "Chúng ta có thể lấy nhiều ký tự từ một string bằng cách sử dụng slicing (lấy khoảng giá trị), chúng ta có thể lấy phần tử 0 đến 4 và 8 đến 12:  "
      ]
    },
    {
      "cell_type": "markdown",
      "metadata": {
        "id": "PFIZKA1WIw-z"
      },
      "source": [
        "<img src=\"https://s3-api.us-geo.objectstorage.softlayer.net/cf-courses-data/CognitiveClass/PY0101EN/Chapter%201/Images/StringsSlice.png\" width=\"600\" align=\"center\" />"
      ]
    },
    {
      "cell_type": "markdown",
      "metadata": {
        "id": "r3TWrnj7Iw-z"
      },
      "source": [
        "<hr/>\n",
        "<div class=\"alert alert-success alertsuccess\" style=\"margin-top: 20px\">\n",
        "[Tip]: Khi lấy khoảng giá trị, số đầu tiên là chỉ mục (bắt đầu từ 0) và số thứ hai là độ dài từ chỉ mục đến phần tử cuối cùng bạn muốn (bắt đầu từ 1)\n",
        "</div>\n",
        "<hr/>"
      ]
    },
    {
      "cell_type": "code",
      "metadata": {
        "id": "KJSXJ12IIw-0"
      },
      "source": [
        "# Take the slice on variable Name with only index 0 to index 3\n",
        "\n",
        "Name[0:4]"
      ],
      "execution_count": null,
      "outputs": []
    },
    {
      "cell_type": "code",
      "metadata": {
        "id": "6fD9vuG1Iw-0"
      },
      "source": [
        "# Take the slice on variable Name with only index 8 to index 11\n",
        "\n",
        "Name[8:12]"
      ],
      "execution_count": null,
      "outputs": []
    },
    {
      "cell_type": "markdown",
      "metadata": {
        "id": "S9A2Pc1wIw-0"
      },
      "source": [
        "<h3 id=\"stride\">Stride</h3>"
      ]
    },
    {
      "cell_type": "markdown",
      "metadata": {
        "id": "d_tYE51JIw-1"
      },
      "source": [
        "Chúng ta cũng có thể nhập giá trị stride như sau, với '2' cho biết rằng chúng ta đang chọn mọi biến thứ hai:"
      ]
    },
    {
      "cell_type": "markdown",
      "metadata": {
        "id": "46FHvY4vIw-1"
      },
      "source": [
        "<img src=\"https://s3-api.us-geo.objectstorage.softlayer.net/cf-courses-data/CognitiveClass/PY0101EN/Chapter%201/Images/StringsStride.png\" width=\"600\" align=\"center\" />"
      ]
    },
    {
      "cell_type": "code",
      "metadata": {
        "id": "8eay9_vHIw-1",
        "colab": {
          "base_uri": "https://localhost:8080/",
          "height": 36
        },
        "outputId": "70e30762-1ce2-4dd8-d302-3699235e6b7b"
      },
      "source": [
        "# Get every second element. The elments on index 1, 3, 5 ...\n",
        "\n",
        "Name[::2]"
      ],
      "execution_count": 19,
      "outputs": [
        {
          "output_type": "execute_result",
          "data": {
            "text/plain": [
              "'McalJcsn'"
            ],
            "application/vnd.google.colaboratory.intrinsic+json": {
              "type": "string"
            }
          },
          "metadata": {},
          "execution_count": 19
        }
      ]
    },
    {
      "cell_type": "markdown",
      "metadata": {
        "id": "tw12GxokIw-1"
      },
      "source": [
        "Chúng ta cũng có thể kết hợp slicing với stride. Trong trường hợp này, chúng ta chọn năm phần tử đầu tiên và sau đó sử dụng stride:"
      ]
    },
    {
      "cell_type": "code",
      "metadata": {
        "id": "2lB3icdbIw-1",
        "colab": {
          "base_uri": "https://localhost:8080/",
          "height": 36
        },
        "outputId": "af9d9cf4-e326-41f3-8663-720dcf3d5b88"
      },
      "source": [
        "# Get every second element in the range from index 0 to index 4\n",
        "\n",
        "Name[0:5:2]"
      ],
      "execution_count": 20,
      "outputs": [
        {
          "output_type": "execute_result",
          "data": {
            "text/plain": [
              "'Mca'"
            ],
            "application/vnd.google.colaboratory.intrinsic+json": {
              "type": "string"
            }
          },
          "metadata": {},
          "execution_count": 20
        }
      ]
    },
    {
      "cell_type": "markdown",
      "metadata": {
        "id": "OD_cW3VUIw-2"
      },
      "source": [
        "<h3 id=\"concat\">Nối String</h3>"
      ]
    },
    {
      "cell_type": "markdown",
      "metadata": {
        "id": "mX8WG3T6Iw-2"
      },
      "source": [
        "Chúng ta có thể nối hoặc kết hợp các string bằng cách sử dụng các ký hiệu cộng và kết quả được một string mới là sự kết hợp của cả hai:\n"
      ]
    },
    {
      "cell_type": "code",
      "metadata": {
        "id": "DxCcpBUtIw-2",
        "colab": {
          "base_uri": "https://localhost:8080/",
          "height": 36
        },
        "outputId": "cdc660d3-37fd-4c6b-d2b7-5d5e850c317e"
      },
      "source": [
        "# Concatenate two strings\n",
        "\n",
        "Statement = Name + \"is the best\"\n",
        "Statement"
      ],
      "execution_count": 21,
      "outputs": [
        {
          "output_type": "execute_result",
          "data": {
            "text/plain": [
              "'Michael Jacksonis the best'"
            ],
            "application/vnd.google.colaboratory.intrinsic+json": {
              "type": "string"
            }
          },
          "metadata": {},
          "execution_count": 21
        }
      ]
    },
    {
      "cell_type": "markdown",
      "metadata": {
        "id": "Ui-R0Yz5Iw-2"
      },
      "source": [
        "Để sao chép các giá trị của một string, chúng ta chỉ cần nhân string với số lần chúng ta muốn sao chép nó. Trong trường hợp này là 3. Kết quả là một string mới, bao gồm 3 bản sao của string ban đầu:"
      ]
    },
    {
      "cell_type": "code",
      "metadata": {
        "id": "WYMq656gIw-3",
        "colab": {
          "base_uri": "https://localhost:8080/",
          "height": 36
        },
        "outputId": "b12b6025-78dc-4514-fdc2-4fa60445ef3c"
      },
      "source": [
        "# Print the string for 3 times\n",
        "\n",
        "3 * \"Michael Jackson\""
      ],
      "execution_count": 24,
      "outputs": [
        {
          "output_type": "execute_result",
          "data": {
            "text/plain": [
              "'Michael JacksonMichael JacksonMichael Jackson'"
            ],
            "application/vnd.google.colaboratory.intrinsic+json": {
              "type": "string"
            }
          },
          "metadata": {},
          "execution_count": 24
        }
      ]
    },
    {
      "cell_type": "markdown",
      "metadata": {
        "id": "0TZK6PUDIw-3"
      },
      "source": [
        "Bạn có thể tạo một string mới bằng cách đặt nó thành biến ban đầu. Được nối với một string mới, kết quả là string mới thay đổi từ Michael Jackson thành \"Michael Jackson is the best\".\n"
      ]
    },
    {
      "cell_type": "code",
      "metadata": {
        "id": "48GlcpNKIw-3",
        "colab": {
          "base_uri": "https://localhost:8080/",
          "height": 36
        },
        "outputId": "ed392d19-4863-43b7-be36-6365ea07c3f5"
      },
      "source": [
        "# Concatenate strings\n",
        "\n",
        "Name = \"Michael Jackson\"\n",
        "Name = Name + \" is the best\"\n",
        "Name"
      ],
      "execution_count": 25,
      "outputs": [
        {
          "output_type": "execute_result",
          "data": {
            "text/plain": [
              "'Michael Jackson is the best'"
            ],
            "application/vnd.google.colaboratory.intrinsic+json": {
              "type": "string"
            }
          },
          "metadata": {},
          "execution_count": 25
        }
      ]
    },
    {
      "cell_type": "markdown",
      "metadata": {
        "id": "AY5D1ZUuIw-3"
      },
      "source": [
        "<hr>"
      ]
    },
    {
      "cell_type": "markdown",
      "metadata": {
        "id": "_7Y9c93GIw-4"
      },
      "source": [
        "<h2 id=\"escape\">Escape Sequence</h2>"
      ]
    },
    {
      "cell_type": "markdown",
      "metadata": {
        "id": "0TQHZ-qbIw-4"
      },
      "source": [
        "Dấu gạch chéo ngược biểu thị sự bắt đầu của escape sequence. Escape thể hiện rằng các string có thể khó nhập. Ví dụ, \\n đại diện cho một dòng mới. Đầu ra được đưa ra bởi một dòng mới sau khi bắt gặp \\n:"
      ]
    },
    {
      "cell_type": "code",
      "metadata": {
        "id": "pf_uGt7wIw-4",
        "colab": {
          "base_uri": "https://localhost:8080/"
        },
        "outputId": "f59e024c-91a6-4b06-dd54-1f31e244fade"
      },
      "source": [
        "# New line escape sequence\n",
        "\n",
        "print(\" Michael Jackson \\n is the best\" )"
      ],
      "execution_count": 26,
      "outputs": [
        {
          "output_type": "stream",
          "name": "stdout",
          "text": [
            " Michael Jackson \n",
            " is the best\n"
          ]
        }
      ]
    },
    {
      "cell_type": "markdown",
      "metadata": {
        "id": "CkKvwn0AIw-4"
      },
      "source": [
        "Tương tự, \\t thể hiện một khoảng cách (tương tự tạo khoảng cách khi nhấn nút tab):"
      ]
    },
    {
      "cell_type": "code",
      "metadata": {
        "id": "oB1ekiRFIw-5",
        "colab": {
          "base_uri": "https://localhost:8080/"
        },
        "outputId": "3569865f-7dd1-4f86-dcf1-919755634e09"
      },
      "source": [
        "# Tab escape sequence\n",
        "\n",
        "print(\" Michael Jackson \\t is the best\" )"
      ],
      "execution_count": 27,
      "outputs": [
        {
          "output_type": "stream",
          "name": "stdout",
          "text": [
            " Michael Jackson \t is the best\n"
          ]
        }
      ]
    },
    {
      "cell_type": "markdown",
      "metadata": {
        "id": "AqGNcZsXIw-5"
      },
      "source": [
        "Nếu bạn muốn đặt dấu gạch chéo ngược trong string của mình, hãy sử dụng dấu gạch chéo ngược kép:"
      ]
    },
    {
      "cell_type": "code",
      "metadata": {
        "id": "SGPbWHuPIw-5",
        "colab": {
          "base_uri": "https://localhost:8080/"
        },
        "outputId": "68daa7aa-4d68-4a00-e7fc-a16c14d90e0b"
      },
      "source": [
        "# Include back slash in string\n",
        "\n",
        "print(\" Michael Jackson \\\\ is the best\" )\n",
        "print(\" Michael Jackson \\ is the best\" )"
      ],
      "execution_count": 31,
      "outputs": [
        {
          "output_type": "stream",
          "name": "stdout",
          "text": [
            " Michael Jackson \\ is the best\n",
            " Michael Jackson \\ is the best\n"
          ]
        }
      ]
    },
    {
      "cell_type": "markdown",
      "metadata": {
        "id": "WZUly_-XIw-5"
      },
      "source": [
        "Chúng ta cũng có thể đặt \"r\" trước string để hiển thị dấu gạch chéo ngược:"
      ]
    },
    {
      "cell_type": "code",
      "metadata": {
        "id": "u9sGu58oIw-5",
        "colab": {
          "base_uri": "https://localhost:8080/"
        },
        "outputId": "032d0454-1b4a-4eb9-fbd0-19cb98d13344"
      },
      "source": [
        "# r will tell python that string will be display as raw string\n",
        "\n",
        "print(r\" Michael Jackson \\ is the best\" )"
      ],
      "execution_count": 30,
      "outputs": [
        {
          "output_type": "stream",
          "name": "stdout",
          "text": [
            " Michael Jackson \\ is the best\n"
          ]
        }
      ]
    },
    {
      "cell_type": "markdown",
      "metadata": {
        "id": "P36EttTQIw-5"
      },
      "source": [
        "<hr>"
      ]
    },
    {
      "cell_type": "markdown",
      "metadata": {
        "id": "6F63b5w3Iw-6"
      },
      "source": [
        "<h2 id=\"operations\">Thao tác với String</h2>"
      ]
    },
    {
      "cell_type": "markdown",
      "metadata": {
        "id": "3RnqtPEcIw-6"
      },
      "source": [
        "Có nhiều phương thức thao tác string trong Python có thể sử dụng để thao tác dữ liệu. Chúng ta sẽ sử dụng một số thao tác string cơ bản trên dữ liệu."
      ]
    },
    {
      "cell_type": "markdown",
      "metadata": {
        "id": "BaWCH2j0Iw-6"
      },
      "source": [
        "Hãy thử phương thức <code>upper</code>; phương thức này chuyển đổi các ký tự chữ thường thành các ký tự viết hoa:"
      ]
    },
    {
      "cell_type": "code",
      "metadata": {
        "id": "ZGetfoNQIw-6",
        "colab": {
          "base_uri": "https://localhost:8080/"
        },
        "outputId": "4b8ef5a4-81a4-4dc9-a364-658afa2148cd"
      },
      "source": [
        "# Convert all the characters in string to upper case\n",
        "\n",
        "A = \"Thriller is the sixth studio album\"\n",
        "print(\"before upper:\", A)\n",
        "B = A.upper()\n",
        "print(\"After upper:\", B)"
      ],
      "execution_count": 32,
      "outputs": [
        {
          "output_type": "stream",
          "name": "stdout",
          "text": [
            "before upper: Thriller is the sixth studio album\n",
            "After upper: THRILLER IS THE SIXTH STUDIO ALBUM\n"
          ]
        }
      ]
    },
    {
      "cell_type": "markdown",
      "metadata": {
        "id": "hJhTt4drIw-6"
      },
      "source": [
        "Phương thức <code> replace</code> thay thế một phân đoạn của string, tức là thay một sub-string (chuỗi con) bằng một string mới. Chúng ta nhập phần của string muốn thay đổi. Đối số thứ hai là những gì chúng ta muốn trao đổi phân đoạn và kết quả được một string mới với phân đoạn đã thay đổi:\n"
      ]
    },
    {
      "cell_type": "code",
      "metadata": {
        "id": "tfbodP6DIw-7",
        "colab": {
          "base_uri": "https://localhost:8080/",
          "height": 36
        },
        "outputId": "e4c00a09-5a43-4726-dab2-cff19f3d86c0"
      },
      "source": [
        "# Replace the old substring with the new target substring is the segment has been found in the string\n",
        "\n",
        "A = \"Michael Jackson is the best\"\n",
        "B = A.replace('Michael', 'Janet')\n",
        "B"
      ],
      "execution_count": 33,
      "outputs": [
        {
          "output_type": "execute_result",
          "data": {
            "text/plain": [
              "'Janet Jackson is the best'"
            ],
            "application/vnd.google.colaboratory.intrinsic+json": {
              "type": "string"
            }
          },
          "metadata": {},
          "execution_count": 33
        }
      ]
    },
    {
      "cell_type": "markdown",
      "metadata": {
        "id": "6e5ansgWIw-7"
      },
      "source": [
        "Phương thức <code> find</code> tìm một sub-string. Đối số là sub-string bạn muốn tìm và đầu ra là chỉ mục đầu tiên của dãy. Chúng ta có thể tìm thấy sub-string <code> jack</code> hoặc <code> el</code>."
      ]
    },
    {
      "cell_type": "markdown",
      "metadata": {
        "id": "90AycbCPIw-7"
      },
      "source": [
        "<img src=\"https://s3-api.us-geo.objectstorage.softlayer.net/cf-courses-data/CognitiveClass/PY0101EN/Chapter%201/Images/StringsFind.png\" width=\"600\" align=\"center\" />"
      ]
    },
    {
      "cell_type": "code",
      "metadata": {
        "id": "wVX-qvWuIw-7",
        "colab": {
          "base_uri": "https://localhost:8080/"
        },
        "outputId": "1e38e3d2-4560-4dd8-b384-977441924ab3"
      },
      "source": [
        "# Find the substring in the string. Only the index of the first elment of substring in string will be the output\n",
        "\n",
        "Name = \"Michael Jackson\"\n",
        "Name.find('el')"
      ],
      "execution_count": 34,
      "outputs": [
        {
          "output_type": "execute_result",
          "data": {
            "text/plain": [
              "5"
            ]
          },
          "metadata": {},
          "execution_count": 34
        }
      ]
    },
    {
      "cell_type": "code",
      "metadata": {
        "id": "fcXiifp7Iw-8",
        "colab": {
          "base_uri": "https://localhost:8080/"
        },
        "outputId": "5c9268de-be8b-4113-c7a5-e39188b9f002"
      },
      "source": [
        "# Find the substring in the string.\n",
        "\n",
        "Name.find('Jack')"
      ],
      "execution_count": 35,
      "outputs": [
        {
          "output_type": "execute_result",
          "data": {
            "text/plain": [
              "8"
            ]
          },
          "metadata": {},
          "execution_count": 35
        }
      ]
    },
    {
      "cell_type": "markdown",
      "metadata": {
        "id": "acNTCRWfIw-8"
      },
      "source": [
        "Nếu sub-string không nằm trong string thì kết quả đầu ra là phủ nhận. Ví dụ: string 'Jasdfasdasdf' không phải là sub-string:"
      ]
    },
    {
      "cell_type": "code",
      "metadata": {
        "collapsed": true,
        "id": "oSCgbSc_Iw-8",
        "colab": {
          "base_uri": "https://localhost:8080/"
        },
        "outputId": "76bb71f5-54a3-4eb3-a184-fc53707aca75"
      },
      "source": [
        "# If cannot find the substring in the string\n",
        "\n",
        "Name.find('Jasdfasdasdf')"
      ],
      "execution_count": 36,
      "outputs": [
        {
          "output_type": "execute_result",
          "data": {
            "text/plain": [
              "-1"
            ]
          },
          "metadata": {},
          "execution_count": 36
        }
      ]
    },
    {
      "cell_type": "markdown",
      "metadata": {
        "id": "XzmorhLpIw-8"
      },
      "source": [
        "<hr>"
      ]
    },
    {
      "cell_type": "markdown",
      "metadata": {
        "id": "U6_QvvNpIw-8"
      },
      "source": [
        "<h2 id=\"quiz\">Quiz về String</h2>"
      ]
    },
    {
      "cell_type": "markdown",
      "metadata": {
        "id": "b46a5K6JIw-9"
      },
      "source": [
        "Giá trị của biến <code>A</code> sau khi đoạn code sau được thực thi là bao nhiêu?"
      ]
    },
    {
      "cell_type": "code",
      "metadata": {
        "collapsed": true,
        "id": "PmeSA_ibIw-9",
        "colab": {
          "base_uri": "https://localhost:8080/"
        },
        "outputId": "dad29d3d-3af4-4bed-ad69-86105d709fe2"
      },
      "source": [
        "# Write your code below and press Shift+Enter to execute\n",
        "\n",
        "A = \"1\"\n",
        "print(A) #'1'"
      ],
      "execution_count": 39,
      "outputs": [
        {
          "output_type": "stream",
          "name": "stdout",
          "text": [
            "1\n"
          ]
        }
      ]
    },
    {
      "cell_type": "markdown",
      "metadata": {
        "id": "QTkF-dRAIw-9"
      },
      "source": [
        "Bấm vào <b>đây</b> để xem đáp án.\n",
        "\n",
        "<!-- Your answer is below:\n",
        "\"1\"\n",
        "-->"
      ]
    },
    {
      "cell_type": "markdown",
      "metadata": {
        "id": "Rpdfut1IIw-9"
      },
      "source": [
        "Giá trị của biến <code>B</code> sau khi đoạn code sau được thực thi là bao nhiêu?"
      ]
    },
    {
      "cell_type": "code",
      "metadata": {
        "collapsed": true,
        "id": "xBYdlk3IIw--",
        "colab": {
          "base_uri": "https://localhost:8080/"
        },
        "outputId": "ab9269b1-f9ba-4d1c-936f-dc3c2e950122"
      },
      "source": [
        "# Write your code below and press Shift+Enter to execute\n",
        "\n",
        "B = \"2\"\n",
        "print(B) #'2'"
      ],
      "execution_count": 40,
      "outputs": [
        {
          "output_type": "stream",
          "name": "stdout",
          "text": [
            "2\n"
          ]
        }
      ]
    },
    {
      "cell_type": "markdown",
      "metadata": {
        "id": "UY-gY25wIw--"
      },
      "source": [
        "Bấm vào <b>đây</b> để xem đáp án.\n",
        "\n",
        "<!-- Your answer is below:\n",
        "\"2\"\n",
        "-->"
      ]
    },
    {
      "cell_type": "markdown",
      "metadata": {
        "id": "P50XcZYiIw--"
      },
      "source": [
        "Giá trị của biến <code>C</code> sau khi đoạn code sau được thực thi là bao nhiêu?"
      ]
    },
    {
      "cell_type": "code",
      "metadata": {
        "id": "SxkNwck_Iw--",
        "colab": {
          "base_uri": "https://localhost:8080/"
        },
        "outputId": "575eec16-f64b-40ae-db2a-c1b107c71ada"
      },
      "source": [
        "# Write your code below and press Shift+Enter to execute\n",
        "\n",
        "C = A + B #'12'\n",
        "print(C)"
      ],
      "execution_count": 41,
      "outputs": [
        {
          "output_type": "stream",
          "name": "stdout",
          "text": [
            "12\n"
          ]
        }
      ]
    },
    {
      "cell_type": "markdown",
      "metadata": {
        "id": "9HTHt4XNIw--"
      },
      "source": [
        "Bấm vào <b>đây</b> để xem đáp án.\n",
        "\n",
        "<!-- Your answer is below:\n",
        "\"12\"\n",
        "-->"
      ]
    },
    {
      "cell_type": "markdown",
      "metadata": {
        "id": "so_o6N_vIw-_"
      },
      "source": [
        "<hr>"
      ]
    },
    {
      "cell_type": "markdown",
      "metadata": {
        "id": "Y69Cg1mmIw-_"
      },
      "source": [
        "Hãy xem xét biến <code>D</code> sử dụng slicing để in ra ba phần tử đầu tiên:"
      ]
    },
    {
      "cell_type": "code",
      "metadata": {
        "id": "NXyOH5DBIw-_",
        "colab": {
          "base_uri": "https://localhost:8080/"
        },
        "outputId": "7545660b-81f2-44fb-d784-3171ca7c90a5"
      },
      "source": [
        "# Write your code below and press Shift+Enter to execute\n",
        "\n",
        "D = \"ABCDEFG\"\n",
        "print(D[0:3])"
      ],
      "execution_count": 42,
      "outputs": [
        {
          "output_type": "stream",
          "name": "stdout",
          "text": [
            "ABC\n"
          ]
        }
      ]
    },
    {
      "cell_type": "markdown",
      "metadata": {
        "id": "v65ABxrIIw-_"
      },
      "source": [
        "Bấm vào <b>đây</b> để xem đáp án.\n",
        "\n",
        "<!-- Your answer is below:\n",
        "print(D[:3])\n",
        "# or\n",
        "print(D[0:3])\n",
        "-->"
      ]
    },
    {
      "cell_type": "markdown",
      "metadata": {
        "id": "fZSH__R4Iw_A"
      },
      "source": [
        "<hr>"
      ]
    },
    {
      "cell_type": "markdown",
      "metadata": {
        "id": "a6zrw9gMIw_A"
      },
      "source": [
        "Sử dụng giá trị stride là 2 để in ra mọi ký tự thứ hai của string <code> E</code>:"
      ]
    },
    {
      "cell_type": "code",
      "metadata": {
        "collapsed": true,
        "id": "3-JnSe4IIw_A",
        "colab": {
          "base_uri": "https://localhost:8080/"
        },
        "outputId": "fb4dd3f3-888d-481c-f833-972b89ee38fa"
      },
      "source": [
        "# Write your code below and press Shift+Enter to execute\n",
        "\n",
        "E = 'clocrkr1e1c1t'\n",
        "print(E[::2])"
      ],
      "execution_count": 43,
      "outputs": [
        {
          "output_type": "stream",
          "name": "stdout",
          "text": [
            "correct\n"
          ]
        }
      ]
    },
    {
      "cell_type": "markdown",
      "metadata": {
        "id": "BDDqb5BaIw_A"
      },
      "source": [
        "Bấm vào <b>đây</b> để xem đáp án.\n",
        "\n",
        "<!-- Your answer is below:\n",
        "print(E[::2])\n",
        "-->"
      ]
    },
    {
      "cell_type": "markdown",
      "metadata": {
        "id": "MnKTo6fEIw_A"
      },
      "source": [
        "<hr>"
      ]
    },
    {
      "cell_type": "markdown",
      "metadata": {
        "id": "Fai4oIdAIw_B"
      },
      "source": [
        "In ra dấu gạch chéo ngược:"
      ]
    },
    {
      "cell_type": "code",
      "metadata": {
        "id": "Z2nxzNA9Iw_B",
        "colab": {
          "base_uri": "https://localhost:8080/"
        },
        "outputId": "04d71e54-5bb2-4997-9393-2cc94f54f989"
      },
      "source": [
        "# Write your code below and press Shift+Enter to execute\n",
        "print(\"\\\\\")\n",
        "print(r\"\\ \")"
      ],
      "execution_count": 47,
      "outputs": [
        {
          "output_type": "stream",
          "name": "stdout",
          "text": [
            "\\\n",
            "\\ \n"
          ]
        }
      ]
    },
    {
      "cell_type": "markdown",
      "metadata": {
        "id": "DIV-AtW9Iw_B"
      },
      "source": [
        "Bấm vào <b>đây</b> để xem đáp án.\n",
        "<!-- Your answer is below:\n",
        "print(\"\\\\\")\n",
        "or\n",
        "print(r\" \\ \")\n",
        "-->"
      ]
    },
    {
      "cell_type": "markdown",
      "metadata": {
        "id": "RDRwV1xpIw_B"
      },
      "source": [
        "<hr>"
      ]
    },
    {
      "cell_type": "markdown",
      "metadata": {
        "id": "OwYFJAnOIw_B"
      },
      "source": [
        "Chuyển biến <code> F</code> thành chữ in hoa:"
      ]
    },
    {
      "cell_type": "code",
      "metadata": {
        "id": "zvKEodduIw_B",
        "colab": {
          "base_uri": "https://localhost:8080/"
        },
        "outputId": "ebf0d58d-1db5-4160-8230-80f95381256e"
      },
      "source": [
        "# Write your code below and press Shift+Enter to execute\n",
        "\n",
        "F = \"You are wrong\"\n",
        "E = F.upper()\n",
        "print(E)"
      ],
      "execution_count": 48,
      "outputs": [
        {
          "output_type": "stream",
          "name": "stdout",
          "text": [
            "YOU ARE WRONG\n"
          ]
        }
      ]
    },
    {
      "cell_type": "markdown",
      "metadata": {
        "id": "N8rfPFkwIw_C"
      },
      "source": [
        "Bấm vào <b>đây</b> để xem đáp án.\n",
        "\n",
        "<!-- Your answer is below:\n",
        "F.upper()\n",
        "-->"
      ]
    },
    {
      "cell_type": "markdown",
      "metadata": {
        "id": "U8GHkYC1Iw_C"
      },
      "source": [
        "<hr>"
      ]
    },
    {
      "cell_type": "markdown",
      "metadata": {
        "id": "m_7cn2CzIw_C"
      },
      "source": [
        "Xem xét biến <code> G</code> và tìm chỉ mục đầu tiên của sub-string <code> snow</code>:"
      ]
    },
    {
      "cell_type": "code",
      "metadata": {
        "id": "QLWwZR32Iw_C",
        "colab": {
          "base_uri": "https://localhost:8080/"
        },
        "outputId": "33d80d13-d5f7-41cd-c237-d173eb889f1c"
      },
      "source": [
        "# Write your code below and press Shift+Enter to execute\n",
        "\n",
        "G = \"Mary had a little lamb Little lamb, little lamb Mary had a little lamb \\\n",
        "Its fleece was white as snow And everywhere that Mary went Mary went, Mary went \\\n",
        "Everywhere that Mary went The lamb was sure to go\"\n",
        "G.find(\"snow\")"
      ],
      "execution_count": 49,
      "outputs": [
        {
          "output_type": "execute_result",
          "data": {
            "text/plain": [
              "95"
            ]
          },
          "metadata": {},
          "execution_count": 49
        }
      ]
    },
    {
      "cell_type": "markdown",
      "metadata": {
        "id": "pdTkRWvjIw_C"
      },
      "source": [
        "Bấm vào <b>đây</b> để xem đáp án.\n",
        "\n",
        "<!-- Your answer is below:\n",
        "G.find(\"snow\")\n",
        "-->"
      ]
    },
    {
      "cell_type": "markdown",
      "metadata": {
        "id": "qiPxnNyNIw_D"
      },
      "source": [
        "Trong biến <code> G</code>, thay thế sub-string <code> Mary</code> bằng <code> Bob</code>:"
      ]
    },
    {
      "cell_type": "code",
      "metadata": {
        "id": "Hju97S9IIw_D",
        "colab": {
          "base_uri": "https://localhost:8080/",
          "height": 36
        },
        "outputId": "94c9686e-86df-48cb-f31c-4fc56cb4ef68"
      },
      "source": [
        "# Write your code below and press Shift+Enter to execute\n",
        "G.replace(\"Mary\", \"Bob\")"
      ],
      "execution_count": 50,
      "outputs": [
        {
          "output_type": "execute_result",
          "data": {
            "text/plain": [
              "'Bob had a little lamb Little lamb, little lamb Bob had a little lamb Its fleece was white as snow And everywhere that Bob went Bob went, Bob went Everywhere that Bob went The lamb was sure to go'"
            ],
            "application/vnd.google.colaboratory.intrinsic+json": {
              "type": "string"
            }
          },
          "metadata": {},
          "execution_count": 50
        }
      ]
    },
    {
      "cell_type": "markdown",
      "metadata": {
        "id": "zZw6HaczIw_D"
      },
      "source": [
        "Bấm vào <b>đây</b> để xem đáp án.\n",
        "\n",
        "<!-- Your answer is below:\n",
        "G.replace(\"Mary\", \"Bob\")\n",
        "-->"
      ]
    },
    {
      "cell_type": "markdown",
      "metadata": {
        "id": "aPGavNMXIw_D"
      },
      "source": [
        "<hr>\n",
        "<p>Nguồn: IBM\n",
        "<hr>"
      ]
    }
  ]
}