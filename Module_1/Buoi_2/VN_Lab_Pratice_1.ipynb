{
 "cells": [
  {
   "cell_type": "markdown",
   "metadata": {},
   "source": [
    "# Excercise 1"
   ]
  },
  {
   "cell_type": "code",
   "execution_count": 1,
   "metadata": {},
   "outputs": [
    {
     "name": "stdout",
     "output_type": "stream",
     "text": [
      "Độ dài theo inch là 3.543307086614173\n",
      "Độ dài theo foot là 0.2952755905511811\n"
     ]
    }
   ],
   "source": [
    "#Question 1\n",
    "x = input('Hãy nhập số vào (tính theo cm) ')\n",
    "x = int(x)\n",
    "y = x/ 2.54\n",
    "print (f\"Độ dài theo inch là {y}\")\n",
    "z = y/12\n",
    "print(f\"Độ dài theo foot là {z}\")\n"
   ]
  },
  {
   "cell_type": "code",
   "execution_count": 2,
   "metadata": {},
   "outputs": [
    {
     "name": "stdout",
     "output_type": "stream",
     "text": [
      "1:0:0\n"
     ]
    }
   ],
   "source": [
    "#question 2\n",
    "sec = input(\"Hãy nhập số giây\")\n",
    "sec = int(sec)\n",
    "hour = sec//3600\n",
    "remain_sec = sec - hour*3600\n",
    "minutes = remain_sec // 60\n",
    "second = remain_sec% 60\n",
    "print(f\"{hour}:{minutes}:{second}\")\n"
   ]
  },
  {
   "cell_type": "code",
   "execution_count": 15,
   "metadata": {},
   "outputs": [
    {
     "name": "stdout",
     "output_type": "stream",
     "text": [
      "789\n",
      "102\n"
     ]
    }
   ],
   "source": [
    "#Question 3\n",
    "x = list(input(\"Nhập 4 số\").split())\n",
    "print(max(x))\n",
    "print(min(x))"
   ]
  },
  {
   "cell_type": "code",
   "execution_count": 19,
   "metadata": {},
   "outputs": [
    {
     "name": "stdout",
     "output_type": "stream",
     "text": [
      "Số thứ nhất nhỏ hơn số thứ hai\n"
     ]
    }
   ],
   "source": [
    "#Question 4\n",
    "a, b = input(\"Nhập 2 số\").split()\n",
    "a = int(a)\n",
    "b = int(b)\n",
    "if a - b > 0:\n",
    "    print(\"Số thứ nhất lớn hơn số thứ hai\")\n",
    "else:\n",
    "    print(\"Số thứ nhất nhỏ hơn số thứ hai\")"
   ]
  },
  {
   "cell_type": "code",
   "execution_count": 22,
   "metadata": {},
   "outputs": [
    {
     "name": "stdout",
     "output_type": "stream",
     "text": [
      "No\n"
     ]
    }
   ],
   "source": [
    "#Question 5\n",
    "a, b = input(\"Nhập 2 số\").split()\n",
    "a = int(a)\n",
    "b = int(b)\n",
    "try:\n",
    "    c = a%b\n",
    "except ZeroDivisionError:\n",
    "    print(\"Lỗi chia cho số 0\")\n",
    "else:\n",
    "    if c == 0:\n",
    "        print(\"Yes\")\n",
    "    else:\n",
    "        print(\"No\")"
   ]
  },
  {
   "cell_type": "code",
   "execution_count": 24,
   "metadata": {},
   "outputs": [
    {
     "name": "stdout",
     "output_type": "stream",
     "text": [
      "6.5\n",
      "Loại trung bình khá\n"
     ]
    }
   ],
   "source": [
    "#Question 6\n",
    "toan, ly ,hoa = input(\"Nhập điểm toán, lý ,hoá\").split()\n",
    "toan = int(toan)\n",
    "ly = int(ly)\n",
    "hoa = int (hoa)\n",
    "diem =  ((toan *2) + ly + hoa)/4\n",
    "print(diem)\n",
    "if diem > 10 or diem < 0:\n",
    "    print(\"Điểm không hợp lệ\")\n",
    "if diem >= 9:\n",
    "    print(\"Loại xuất sắc\")\n",
    "elif diem >= 8 and diem < 9:\n",
    "    print(\"Loại giỏi\")\n",
    "elif diem >=7 and diem < 8:\n",
    "    print(\"Loại khá\")\n",
    "elif diem >= 6 and diem < 7:\n",
    "    print(\"Loại trung bình khá\")\n",
    "elif diem >=5 and diem < 6:\n",
    "    print(\"Loại trung bình\")\n",
    "else:\n",
    "    print(\"Loại yếu\")"
   ]
  },
  {
   "cell_type": "markdown",
   "metadata": {},
   "source": [
    "# Excercise 2"
   ]
  },
  {
   "cell_type": "code",
   "execution_count": 27,
   "metadata": {},
   "outputs": [
    {
     "data": {
      "text/plain": [
       "13"
      ]
     },
     "execution_count": 27,
     "metadata": {},
     "output_type": "execute_result"
    }
   ],
   "source": [
    "#Question 1\n",
    "x = input(\"Nhập số nguyên bất kỳ\")\n",
    "x = int(x)\n",
    "y = 0\n",
    "while x > 0:\n",
    "    y += x % 10\n",
    "    x = x // 10\n",
    "y"
   ]
  },
  {
   "cell_type": "code",
   "execution_count": 37,
   "metadata": {},
   "outputs": [
    {
     "name": "stdout",
     "output_type": "stream",
     "text": [
      "Số 28 được phân tích thành :\n",
      "2\n",
      "2\n",
      "7\n"
     ]
    }
   ],
   "source": [
    "#question 2\n",
    "import math\n",
    "x = input(\"Nhập số nguyên bất kỳ\")\n",
    "x = int(x)\n",
    "y = x\n",
    "def isPrime(x):\n",
    "    prime = True\n",
    "    if(x == 2):\n",
    "        return prime\n",
    "    for i in range(2,int(math.sqrt(x) + 1) ):\n",
    "        if(x % i == 0):\n",
    "            prime = False\n",
    "            break\n",
    "    return prime\n",
    "\n",
    "num_list = []\n",
    "if(isPrime(x)):\n",
    "    num_list.append(x)\n",
    "while(not isPrime(y)):\n",
    "    for i in range(2,int(math.sqrt(x) + 1) ):\n",
    "        if(x % i == 0 and isPrime(i)):\n",
    "            num_list.append(i)\n",
    "            y= y // i\n",
    "if(isPrime(y)):\n",
    "    num_list.append(y)\n",
    "print(f\"Số {x} được phân tích thành :\")\n",
    "for i in num_list:\n",
    "    print(i)"
   ]
  },
  {
   "cell_type": "code",
   "execution_count": 38,
   "metadata": {},
   "outputs": [
    {
     "name": "stdout",
     "output_type": "stream",
     "text": [
      "0\n",
      "1\n",
      "2\n",
      "3\n",
      "5\n",
      "7\n",
      "11\n",
      "13\n",
      "17\n",
      "19\n",
      "23\n",
      "29\n",
      "31\n",
      "37\n",
      "41\n",
      "43\n",
      "47\n",
      "53\n",
      "59\n",
      "61\n",
      "67\n",
      "71\n",
      "73\n"
     ]
    }
   ],
   "source": [
    "#question 3\n",
    "def isPrime(x):\n",
    "    prime = True\n",
    "    if(x == 2):\n",
    "        return prime\n",
    "    for i in range(2,int(math.sqrt(x) + 1) ):\n",
    "        if(x % i == 0):\n",
    "            prime = False\n",
    "            break\n",
    "    return prime\n",
    "\n",
    "x = input(\"Nhập số nguyên bất kỳ\")\n",
    "x = int(x)\n",
    "for i in range(0, x+1):\n",
    "    if(isPrime(i)):\n",
    "        print(i)"
   ]
  },
  {
   "cell_type": "code",
   "execution_count": 42,
   "metadata": {},
   "outputs": [
    {
     "name": "stdout",
     "output_type": "stream",
     "text": [
      "[2, 3, 5, 7, 11, 13]\n"
     ]
    }
   ],
   "source": [
    "#Question 4\n",
    "x = input(\"Nhập số nguyên bất kỳ\")\n",
    "x = int(x)\n",
    "\n",
    "def isPrime(x):\n",
    "    prime = True\n",
    "    if(x == 2):\n",
    "        return prime\n",
    "    for i in range(2,int(math.sqrt(x) + 1) ):\n",
    "        if(x % i == 0):\n",
    "            prime = False\n",
    "            break\n",
    "    return prime\n",
    "\n",
    "i = 2\n",
    "prime_list = []\n",
    "while(len(prime_list) < x):\n",
    "    if(isPrime(i)):\n",
    "        prime_list.append(i)\n",
    "    i = i+1\n",
    "\n",
    "print(prime_list)"
   ]
  },
  {
   "cell_type": "code",
   "execution_count": 43,
   "metadata": {},
   "outputs": [
    {
     "name": "stdout",
     "output_type": "stream",
     "text": [
      "Ước số chung lớn nhất của 5 và 9 là: 1\n",
      "Bội số chung nhỏ nhất của 5 và 9 là: 45\n"
     ]
    }
   ],
   "source": [
    "#Question 5\n",
    "def gcd(a, b):\n",
    "    while b:\n",
    "        a, b = b, a % b\n",
    "    return a\n",
    "\n",
    "def lcm(a, b):\n",
    "    return (a * b) // gcd(a, b)\n",
    "\n",
    "# Nhập hai số nguyên dương từ người dùng\n",
    "a = int(input(\"Nhập số nguyên dương a: \"))\n",
    "b = int(input(\"Nhập số nguyên dương b: \"))\n",
    "\n",
    "# Tìm và in ra ước số chung lớn nhất và bội số chung nhỏ nhất\n",
    "print(\"Ước số chung lớn nhất của\", a, \"và\", b, \"là:\", gcd(a, b))\n",
    "print(\"Bội số chung nhỏ nhất của\", a, \"và\", b, \"là:\", lcm(a, b))\n"
   ]
  },
  {
   "cell_type": "code",
   "execution_count": 45,
   "metadata": {},
   "outputs": [
    {
     "name": "stdout",
     "output_type": "stream",
     "text": [
      "Số Fibonacci thứ 9 là: 34\n"
     ]
    }
   ],
   "source": [
    "#Question 6\n",
    "def fibonacci(n):\n",
    "    if n <= 0:\n",
    "        return \"Vui lòng nhập n lớn hơn 0\"\n",
    "    elif n == 1:\n",
    "        return 1\n",
    "    elif n == 2:\n",
    "        return 1\n",
    "    else:\n",
    "        fib_prev = 1\n",
    "        fib_curr = 1\n",
    "        for i in range(2, n):\n",
    "            fib_next = fib_prev + fib_curr\n",
    "            fib_prev = fib_curr\n",
    "            fib_curr = fib_next\n",
    "        return fib_curr\n",
    "\n",
    "n = int(input(\"Nhập số nguyên dương n: \"))\n",
    "print(f\"Số Fibonacci thứ {n} là:\", fibonacci(n))\n"
   ]
  },
  {
   "cell_type": "code",
   "execution_count": 46,
   "metadata": {},
   "outputs": [
    {
     "name": "stdout",
     "output_type": "stream",
     "text": [
      "Các số Fibonacci nhỏ hơn 56 và là số nguyên tố là:\n",
      "2\n",
      "3\n",
      "5\n",
      "13\n"
     ]
    }
   ],
   "source": [
    "#Question 7\n",
    "def generate_fibonacci_sequence(n):\n",
    "    fibonacci_sequence = [1, 1]\n",
    "    while fibonacci_sequence[-1] + fibonacci_sequence[-2] < n:\n",
    "        fibonacci_sequence.append(fibonacci_sequence[-1] + fibonacci_sequence[-2])\n",
    "    return fibonacci_sequence\n",
    "\n",
    "def is_prime(num):\n",
    "    if num <= 1:\n",
    "        return False\n",
    "    if num <= 3:\n",
    "        return True\n",
    "    if num % 2 == 0 or num % 3 == 0:\n",
    "        return False\n",
    "    i = 5\n",
    "    while i * i <= num:\n",
    "        if num % i == 0 or num % (i + 2) == 0:\n",
    "            return False\n",
    "        i += 6\n",
    "    return True\n",
    "\n",
    "n = int(input(\"Nhập một số tự nhiên n: \"))\n",
    "fibonacci_numbers = generate_fibonacci_sequence(n)\n",
    "\n",
    "print(\"Các số Fibonacci nhỏ hơn\", n, \"và là số nguyên tố là:\")\n",
    "for num in fibonacci_numbers:\n",
    "    if is_prime(num):\n",
    "        print(num)\n"
   ]
  },
  {
   "cell_type": "code",
   "execution_count": 47,
   "metadata": {},
   "outputs": [
    {
     "name": "stdout",
     "output_type": "stream",
     "text": [
      "Tổng các chữ số của 56 là: 11\n",
      "Phân tích 56 thành các thừa số nguyên tố là: [2, 2, 2, 7]\n"
     ]
    }
   ],
   "source": [
    "#Question 8\n",
    "import math\n",
    "\n",
    "def sum_of_digits(n):\n",
    "    # Chuyển số nguyên n thành chuỗi để dễ dàng lấy từng chữ số\n",
    "    n_str = str(n)\n",
    "    # Tính tổng các chữ số\n",
    "    total = sum(int(digit) for digit in n_str)\n",
    "    return total\n",
    "\n",
    "def prime_factors(n):\n",
    "    factors = []\n",
    "    # Lặp qua các số nguyên tố từ 2 đến căn bậc hai của n\n",
    "    for i in range(2, int(math.sqrt(n)) + 1):\n",
    "        while n % i == 0:\n",
    "            factors.append(i)\n",
    "            n //= i\n",
    "    # Nếu n còn lại sau khi đã phân tích hết các thừa số nguyên tố nhỏ hơn căn bậc hai của n\n",
    "    # thì n chính là một thừa số nguyên tố\n",
    "    if n > 1:\n",
    "        factors.append(n)\n",
    "    return factors\n",
    "\n",
    "# Nhập số nguyên dương n từ người dùng\n",
    "n = int(input(\"Nhập một số nguyên dương n: \"))\n",
    "\n",
    "# Tính tổng các chữ số của n và in ra kết quả\n",
    "print(\"Tổng các chữ số của\", n, \"là:\", sum_of_digits(n))\n",
    "\n",
    "# Phân tích n thành các thừa số nguyên tố và in ra kết quả\n",
    "factors = prime_factors(n)\n",
    "print(\"Phân tích\", n, \"thành các thừa số nguyên tố là:\", factors)\n"
   ]
  },
  {
   "cell_type": "code",
   "execution_count": 48,
   "metadata": {},
   "outputs": [
    {
     "name": "stdout",
     "output_type": "stream",
     "text": [
      "Các ước số của 46 là: [1, 46, 2, 23]\n",
      "Có tổng cộng 4 ước số.\n",
      "Các ước số là số nguyên tố của 46 là: [2, 23]\n"
     ]
    }
   ],
   "source": [
    "#Question 9\n",
    "import math\n",
    "\n",
    "def find_divisors(n):\n",
    "    divisors = []\n",
    "    prime_divisors = []\n",
    "    # Tìm ước số của n\n",
    "    for i in range(1, int(math.sqrt(n)) + 1):\n",
    "        if n % i == 0:\n",
    "            divisors.append(i)\n",
    "            # Kiểm tra xem i có phải là số nguyên tố không\n",
    "            if is_prime(i):\n",
    "                prime_divisors.append(i)\n",
    "            # Nếu i không phải là căn bậc hai của n thì thêm n/i vào danh sách ước số\n",
    "            if i != n // i:\n",
    "                divisors.append(n // i)\n",
    "                # Kiểm tra xem n/i có phải là số nguyên tố không\n",
    "                if is_prime(n // i):\n",
    "                    prime_divisors.append(n // i)\n",
    "    return divisors, prime_divisors\n",
    "\n",
    "def is_prime(num):\n",
    "    if num < 2:\n",
    "        return False\n",
    "    for i in range(2, int(math.sqrt(num)) + 1):\n",
    "        if num % i == 0:\n",
    "            return False\n",
    "    return True\n",
    "\n",
    "# Nhập số nguyên dương n từ người dùng\n",
    "n = int(input(\"Nhập một số nguyên dương n: \"))\n",
    "\n",
    "# Tìm và liệt kê các ước số của n, cũng như các ước số là số nguyên tố\n",
    "divisors, prime_divisors = find_divisors(n)\n",
    "\n",
    "print(\"Các ước số của\", n, \"là:\", divisors)\n",
    "print(\"Có tổng cộng\", len(divisors), \"ước số.\")\n",
    "\n",
    "print(\"Các ước số là số nguyên tố của\", n, \"là:\", prime_divisors)\n"
   ]
  },
  {
   "cell_type": "code",
   "execution_count": 49,
   "metadata": {},
   "outputs": [
    {
     "name": "stdout",
     "output_type": "stream",
     "text": [
      "Chuỗi sau khi chuẩn hoá là: Âdsda Ád\n"
     ]
    }
   ],
   "source": [
    "def normalize_string(input_str):\n",
    "    # Tách các từ trong chuỗi và loại bỏ các dấu cách thừa\n",
    "    words = input_str.split()\n",
    "    # Chuyển đổi ký tự đầu mỗi từ thành chữ hoa và các ký tự còn lại thành chữ thường\n",
    "    normalized_words = [word.capitalize() for word in words]\n",
    "    # Kết hợp các từ đã chuẩn hoá thành một chuỗi mới\n",
    "    normalized_str = ' '.join(normalized_words)\n",
    "    return normalized_str\n",
    "\n",
    "# Nhập chuỗi từ người dùng\n",
    "input_str = input(\"Nhập chuỗi cần chuẩn hoá: \")\n",
    "\n",
    "# Thực hiện chuẩn hoá chuỗi và in ra kết quả\n",
    "normalized_str = normalize_string(input_str)\n",
    "print(\"Chuỗi sau khi chuẩn hoá là:\", normalized_str)\n"
   ]
  },
  {
   "cell_type": "code",
   "execution_count": 50,
   "metadata": {},
   "outputs": [
    {
     "name": "stdout",
     "output_type": "stream",
     "text": [
      "Từ dài nhất trong chuỗi là: adfasfsdfljl\n",
      "Từ này xuất hiện ở vị trí: 2\n"
     ]
    }
   ],
   "source": [
    "def find_longest_word_position(input_str):\n",
    "    # Tách các từ trong chuỗi\n",
    "    words = input_str.split()\n",
    "    max_length = 0\n",
    "    max_word = \"\"\n",
    "    position = -1\n",
    "\n",
    "    # Duyệt qua từng từ trong danh sách\n",
    "    for index, word in enumerate(words):\n",
    "        # Kiểm tra độ dài của từ\n",
    "        if len(word) > max_length:\n",
    "            max_length = len(word)\n",
    "            max_word = word\n",
    "            position = index + 1  # Vị trí từ trong chuỗi (bắt đầu từ 1)\n",
    "\n",
    "    return max_word, position\n",
    "\n",
    "# Nhập chuỗi từ người dùng\n",
    "input_str = input(\"Nhập chuỗi ký tự: \")\n",
    "\n",
    "# Tìm từ dài nhất và vị trí của nó trong chuỗi\n",
    "longest_word, word_position = find_longest_word_position(input_str)\n",
    "\n",
    "# In kết quả\n",
    "if longest_word:\n",
    "    print(\"Từ dài nhất trong chuỗi là:\", longest_word)\n",
    "    print(\"Từ này xuất hiện ở vị trí:\", word_position)\n",
    "else:\n",
    "    print(\"Không có từ nào trong chuỗi.\")\n"
   ]
  },
  {
   "cell_type": "markdown",
   "metadata": {},
   "source": [
    "# Excercise 3"
   ]
  },
  {
   "cell_type": "code",
   "execution_count": 64,
   "metadata": {},
   "outputs": [
    {
     "name": "stdout",
     "output_type": "stream",
     "text": [
      "* \n",
      "* * \n",
      "* * * \n",
      "* * * * \n",
      "* * * * * \n",
      "\n",
      "* * * * * \n",
      "* * * * \n",
      "* * * \n",
      "* * \n",
      "* \n",
      "\n"
     ]
    }
   ],
   "source": [
    "def in_hinh_dang_a(a):\n",
    "    for i in range(1, a+1):\n",
    "        print('* ' * i)\n",
    "    print()\n",
    "\n",
    "def in_hinh_dang_b(b):\n",
    "    for i in range(b, 0, -1):\n",
    "        print('* ' * i)\n",
    "    print()\n",
    "\n",
    "\n",
    "\n",
    "# Gọi hàm với các giá trị cụ thể\n",
    "in_hinh_dang_a(a=5)  # Thay đổi giá trị a để thay đổi kích thước\n",
    "in_hinh_dang_b(b=5)  # Thay đổi giá trị b để thay đổi kích thước\n"
   ]
  },
  {
   "cell_type": "code",
   "execution_count": 66,
   "metadata": {},
   "outputs": [
    {
     "data": {
      "text/plain": [
       "120"
      ]
     },
     "execution_count": 66,
     "metadata": {},
     "output_type": "execute_result"
    }
   ],
   "source": [
    "x = int(input(\"nhập số n: \"))\n",
    "def factor(x):\n",
    "    y = 1\n",
    "    for i in range(1, x+1):\n",
    "        y = y * i\n",
    "    \n",
    "    return y\n",
    "\n",
    "factor(x)"
   ]
  },
  {
   "cell_type": "code",
   "execution_count": null,
   "metadata": {},
   "outputs": [],
   "source": []
  }
 ],
 "metadata": {
  "kernelspec": {
   "display_name": "Python 3",
   "language": "python",
   "name": "python3"
  },
  "language_info": {
   "codemirror_mode": {
    "name": "ipython",
    "version": 3
   },
   "file_extension": ".py",
   "mimetype": "text/x-python",
   "name": "python",
   "nbconvert_exporter": "python",
   "pygments_lexer": "ipython3",
   "version": "3.12.2"
  }
 },
 "nbformat": 4,
 "nbformat_minor": 2
}
