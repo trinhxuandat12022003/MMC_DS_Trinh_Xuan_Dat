{
  "nbformat": 4,
  "nbformat_minor": 0,
  "metadata": {
    "kernelspec": {
      "display_name": "Python 3",
      "name": "python3"
    },
    "language_info": {
      "codemirror_mode": {
        "name": "ipython",
        "version": 3
      },
      "file_extension": ".py",
      "mimetype": "text/x-python",
      "name": "python",
      "nbconvert_exporter": "python",
      "pygments_lexer": "ipython3",
      "version": "3.7.6"
    },
    "colab": {
      "provenance": [],
      "collapsed_sections": [
        "2rxSJ0n2fzqI"
      ],
      "gpuType": "T4"
    },
    "accelerator": "GPU"
  },
  "cells": [
    {
      "cell_type": "markdown",
      "metadata": {
        "id": "pAZErkx0fzpQ"
      },
      "source": [
        "# Lab 7.7 Conditions and Branching\n",
        "\n",
        "Thời lượng ước tính: **20** phút\n",
        "\n",
        "## Mục tiêu\n",
        "\n",
        "Sau khi hoàn thành lab này, bạn sẽ có thể:\n",
        "\n",
        "-   Làm việc với các câu lệnh điều kiện trong Python gồm các toán tử và phân nhánh.\n"
      ]
    },
    {
      "cell_type": "markdown",
      "metadata": {
        "id": "9xzQhTJQfzpY"
      },
      "source": [
        "<h2>Mục lục</h2>\n",
        "<div class=\"alert alert-block alert-info\" style=\"margin-top: 20px\">\n",
        "    <ul>\n",
        "        <li>\n",
        "            <a href=\"#cond\">Câu lệnh điều kiện</a>\n",
        "            <ul>\n",
        "                <li><a href=\"comp\">Toán tử so sánh</a></li>\n",
        "                <li><a href=\"branch\">Phân nhánh</a></li>\n",
        "                <li><a href=\"logic\">Toán tử logic</a></li>\n",
        "            </ul>\n",
        "        </li>\n",
        "        <li>\n",
        "            <a href=\"#quiz\">Quiz về Câu lệnh điều kiện</a>\n",
        "        </li>\n",
        "    </ul>\n",
        "\n",
        "</div>\n",
        "\n",
        "<hr>\n"
      ]
    },
    {
      "cell_type": "markdown",
      "metadata": {
        "id": "XMsDXalLfzpb"
      },
      "source": [
        "<h2 id=\"cond\">Câu lệnh điều kiện</h2>\n"
      ]
    },
    {
      "cell_type": "markdown",
      "metadata": {
        "id": "64hsBedKfzpd"
      },
      "source": [
        "<h3 id=\"comp\">Toán tử so sánh</h3>\n"
      ]
    },
    {
      "cell_type": "markdown",
      "metadata": {
        "id": "0If3q-Tdfzpe"
      },
      "source": [
        "Các phép so sánh sẽ so sánh một số giá trị hoặc toán hạng và tạo ra giá trị Boolean dựa trên một số điều kiện. Khi so sánh hai giá trị, bạn có thể sử dụng các toán tử sau:\n",
        "<ul>\n",
        "    <li>bằng: <b>==</b></li>\n",
        "    <li>không bằng: <b>!=</b></li>\n",
        "    <li>lớn hơn: <b>></b></li>\n",
        "    <li>nhỏ hơn: <b>&lt;</b></li>\n",
        "    <li>lớn hơn hoặc bằng: <b>>=</b></li>\n",
        "    <li>nhỏ hơn hoặc bằng: <b>&lt;=</b></li>\n",
        "</ul>\n"
      ]
    },
    {
      "cell_type": "markdown",
      "metadata": {
        "id": "9Chv4oQMfzpf"
      },
      "source": [
        "Hãy gán giá trị 5 cho<code> a</code>. Sử dụng toán tử bằng được biểu thị bằng hai dấu <b> ==</b> để xem hai giá trị có bằng nhau hay không. Trường hợp dưới đây so sánh biến <code> a</code> với 6."
      ]
    },
    {
      "cell_type": "code",
      "metadata": {
        "id": "QJr9K9jnfzpg",
        "colab": {
          "base_uri": "https://localhost:8080/"
        },
        "outputId": "31f0f8a0-a814-45bb-f8dc-f4381ba22c38"
      },
      "source": [
        "# Condition Equal\n",
        "\n",
        "a = 5\n",
        "a == 6"
      ],
      "execution_count": 1,
      "outputs": [
        {
          "output_type": "execute_result",
          "data": {
            "text/plain": [
              "False"
            ]
          },
          "metadata": {},
          "execution_count": 1
        }
      ]
    },
    {
      "cell_type": "markdown",
      "metadata": {
        "id": "hUt5UPrqfzph"
      },
      "source": [
        "Kết quả là <b>False</b>, vì 5 không bằng 6.\n"
      ]
    },
    {
      "cell_type": "markdown",
      "metadata": {
        "id": "_CKcwIphfzpi"
      },
      "source": [
        "Hãy xem xét toán tử so sánh đẳng thức sau: <code> i > 5</code>. Nếu giá trị của toán hạng bên trái, trong trường hợp này là biến <b> i </b> lớn hơn giá trị của toán hạng bên phải, trong trường hợp này là 5, thì câu lệnh là <b> True </b>. Nếu không, câu lệnh là <b> False </b>. Nếu <b> i </b> bằng 6, vì 6 lớn hơn 5 nên kết quả là <b> True </b>."
      ]
    },
    {
      "cell_type": "code",
      "metadata": {
        "id": "C_1BK7Fwfzpi",
        "colab": {
          "base_uri": "https://localhost:8080/"
        },
        "outputId": "94197c31-66da-4baa-8c5e-f268792d0b59"
      },
      "source": [
        "# Greater than Sign\n",
        "\n",
        "i = 6\n",
        "i > 5"
      ],
      "execution_count": 2,
      "outputs": [
        {
          "output_type": "execute_result",
          "data": {
            "text/plain": [
              "True"
            ]
          },
          "metadata": {},
          "execution_count": 2
        }
      ]
    },
    {
      "cell_type": "markdown",
      "metadata": {
        "id": "NKFFLY2wfzpj"
      },
      "source": [
        "Cho <code>i = 2</code>. Câu lệnh sẽ là false vì 2 không lớn hơn 5:\n"
      ]
    },
    {
      "cell_type": "code",
      "metadata": {
        "id": "5hWbiDZ1fzpj",
        "colab": {
          "base_uri": "https://localhost:8080/"
        },
        "outputId": "d0f9ce31-ec00-4395-ab29-4c3541cf28c4"
      },
      "source": [
        "# Greater than Sign\n",
        "\n",
        "i = 2\n",
        "i > 5"
      ],
      "execution_count": 3,
      "outputs": [
        {
          "output_type": "execute_result",
          "data": {
            "text/plain": [
              "False"
            ]
          },
          "metadata": {},
          "execution_count": 3
        }
      ]
    },
    {
      "cell_type": "markdown",
      "metadata": {
        "id": "NRt8meivfzpj"
      },
      "source": [
        "Hãy hiển thị một số giá trị cho <code> i</code> trong hình. Đặt các giá trị lớn hơn 5 bằng màu xanh lá cây và phần còn lại là màu đỏ. Phần màu xanh lá cây thể hiện điều kiện là **True**, màu đỏ nơi câu lệnh là **False**. Nếu giá trị của <code> i</code> là 2, chúng ta được **False** vì 2 nằm trong phần màu đỏ. Tương tự, nếu giá trị của <code> i</code> là 6, chúng ta sẽ được **True** vì điều kiện nằm trong phần màu xanh."
      ]
    },
    {
      "cell_type": "markdown",
      "metadata": {
        "id": "h7FgMQRjfzpk"
      },
      "source": [
        "<img src=\"https://cf-courses-data.s3.us.cloud-object-storage.appdomain.cloud/IBMDeveloperSkillsNetwork-PY0101EN-SkillsNetwork/labs/Module%203/images/CondsGreater.gif\" width=\"650\" />\n"
      ]
    },
    {
      "cell_type": "markdown",
      "metadata": {
        "id": "0KBq6NGwfzpk"
      },
      "source": [
        "Thử bất đẳng thức sử dụng dấu chấm than đứng trước dấu bằng, nếu hai toán hạng không bằng nhau thì điều kiện trả về **True**. Ví dụ: điều kiện sau sẽ là **True** miễn là giá trị của <code> i</code> không bằng 6:"
      ]
    },
    {
      "cell_type": "code",
      "metadata": {
        "id": "i7pwU2H5fzpl",
        "colab": {
          "base_uri": "https://localhost:8080/"
        },
        "outputId": "5b836b4a-612d-47a6-9173-d926cff7219c"
      },
      "source": [
        "# Inequality Sign\n",
        "\n",
        "i = 2\n",
        "i != 6"
      ],
      "execution_count": 4,
      "outputs": [
        {
          "output_type": "execute_result",
          "data": {
            "text/plain": [
              "True"
            ]
          },
          "metadata": {},
          "execution_count": 4
        }
      ]
    },
    {
      "cell_type": "markdown",
      "metadata": {
        "id": "fn7NgRgMfzpl"
      },
      "source": [
        "Khi <code>i</code> bằng 6, biểu thức bất đẳng thức sẽ cho  <b>False</b>.\n"
      ]
    },
    {
      "cell_type": "code",
      "metadata": {
        "id": "Ndr_hNnwfzpl",
        "colab": {
          "base_uri": "https://localhost:8080/"
        },
        "outputId": "6b2fef0c-dddc-40d2-9fab-16cb169d3e1c"
      },
      "source": [
        "# Inequality Sign\n",
        "\n",
        "i = 6\n",
        "i != 6"
      ],
      "execution_count": 5,
      "outputs": [
        {
          "output_type": "execute_result",
          "data": {
            "text/plain": [
              "False"
            ]
          },
          "metadata": {},
          "execution_count": 5
        }
      ]
    },
    {
      "cell_type": "markdown",
      "metadata": {
        "id": "zQG4Gdzwfzpm"
      },
      "source": [
        "Xem dãy số bên dưới. Nếu điều kiện là **True**, các số tương ứng được đánh dấu màu xanh lá cây và nếu điều kiện là **False** thì số tương ứng được đánh dấu màu đỏ. Nếu chúng ta đặt <code> i</code> bằng 2 thì toán tử là true vì 2 nằm trong vùng màu xanh. Nếu đặt <code> i</code> bằng 6, ta được **False** vì điều kiện rơi vào phần màu đỏ."
      ]
    },
    {
      "cell_type": "markdown",
      "metadata": {
        "id": "xtZxTGSQfzpm"
      },
      "source": [
        "<img src=\"https://cf-courses-data.s3.us.cloud-object-storage.appdomain.cloud/IBMDeveloperSkillsNetwork-PY0101EN-SkillsNetwork/labs/Module%203/images/CondsIneq.gif\" width=\"650\" />\n"
      ]
    },
    {
      "cell_type": "markdown",
      "metadata": {
        "id": "hk7w0MS7fzpm"
      },
      "source": [
        "Chúng ta có thể áp dụng các phương thức tương tự với string. Ví dụ, sử dụng một toán tử bằng ở hai chuỗi khác nhau. Vì các chuỗi không bằng nhau, ta được **False**."
      ]
    },
    {
      "cell_type": "code",
      "metadata": {
        "id": "07K3opsXfzpn",
        "colab": {
          "base_uri": "https://localhost:8080/"
        },
        "outputId": "a79a4d70-8819-4285-c92c-13a69065c6da"
      },
      "source": [
        "# Use Equality sign to compare the strings\n",
        "\n",
        "\"ACDC\" == \"Michael Jackson\""
      ],
      "execution_count": 6,
      "outputs": [
        {
          "output_type": "execute_result",
          "data": {
            "text/plain": [
              "False"
            ]
          },
          "metadata": {},
          "execution_count": 6
        }
      ]
    },
    {
      "cell_type": "markdown",
      "metadata": {
        "id": "NO4QrWBxfzpn"
      },
      "source": [
        "Nếu chúng ta sử dụng toán tử bất đẳng thức, đầu ra sẽ là **True** vì các string không bằng nhau."
      ]
    },
    {
      "cell_type": "code",
      "metadata": {
        "id": "wEjsQOYKfzpn",
        "colab": {
          "base_uri": "https://localhost:8080/"
        },
        "outputId": "99615060-60bb-42c9-de3f-052f7eb99805"
      },
      "source": [
        "# Use Inequality sign to compare the strings\n",
        "\n",
        "\"ACDC\" != \"Michael Jackson\""
      ],
      "execution_count": 7,
      "outputs": [
        {
          "output_type": "execute_result",
          "data": {
            "text/plain": [
              "True"
            ]
          },
          "metadata": {},
          "execution_count": 7
        }
      ]
    },
    {
      "cell_type": "markdown",
      "metadata": {
        "id": "gmzQ6BWdfzpn"
      },
      "source": [
        "Phép toán bất đẳng thức cũng được sử dụng để so sánh các chữ cái/từ/ký hiệu theo giá trị ASCII của các chữ cái. Giá trị thập phân được hiển thị trong bảng sau thể hiện thứ tự của ký tự:"
      ]
    },
    {
      "cell_type": "markdown",
      "metadata": {
        "id": "bCCDsy-0fzpo"
      },
      "source": [
        "Ví dụ: mã ASCII cho <b>!</b> là 33, trong khi mã ASCII cho <b> +</b> là 43. Do đó <b> +</b> lớn hơn <b>!</b> vì 43 lớn hơn 33."
      ]
    },
    {
      "cell_type": "markdown",
      "metadata": {
        "id": "2NB52E3efzpo"
      },
      "source": [
        "Tương tự, giá trị <b>A</b> là 65, và giá trị <b>B</b> là 66 nên:"
      ]
    },
    {
      "cell_type": "code",
      "metadata": {
        "id": "HH50mWBvfzpo",
        "colab": {
          "base_uri": "https://localhost:8080/"
        },
        "outputId": "46587422-cd7f-4bca-af0a-5da88994c063"
      },
      "source": [
        "# Compare characters\n",
        "\n",
        "'B' > 'A'"
      ],
      "execution_count": 8,
      "outputs": [
        {
          "output_type": "execute_result",
          "data": {
            "text/plain": [
              "True"
            ]
          },
          "metadata": {},
          "execution_count": 8
        }
      ]
    },
    {
      "cell_type": "markdown",
      "metadata": {
        "id": "tzhYgIOJfzpp"
      },
      "source": [
        "Khi có nhiều chữ cái thì chữ đầu tiên được ưu tiên về thứ tự:"
      ]
    },
    {
      "cell_type": "code",
      "metadata": {
        "id": "ZeLSZzwrfzpp",
        "colab": {
          "base_uri": "https://localhost:8080/"
        },
        "outputId": "d0d509cf-3485-470c-f19a-50a066ce3dde"
      },
      "source": [
        "# Compare characters\n",
        "\n",
        "'BA' > 'AB'"
      ],
      "execution_count": 9,
      "outputs": [
        {
          "output_type": "execute_result",
          "data": {
            "text/plain": [
              "True"
            ]
          },
          "metadata": {},
          "execution_count": 9
        }
      ]
    },
    {
      "cell_type": "markdown",
      "metadata": {
        "id": "4ARfl5D0fzpp"
      },
      "source": [
        "<b> Lưu ý</b>: Các chữ cái viết hoa có mã ASCII khác với các chữ viết thường, nghĩa là so sánh giữa các chữ cái trong Python có phân biệt chữ hoa chữ thường."
      ]
    },
    {
      "cell_type": "markdown",
      "metadata": {
        "id": "eG6FTM9Nfzpq"
      },
      "source": [
        "<h3 id=\"branch\">Phân nhánh (Branching)</h3>\n"
      ]
    },
    {
      "cell_type": "markdown",
      "metadata": {
        "id": "kXmREwlvfzpt"
      },
      "source": [
        "Phân nhánh cho phép chúng ta chạy các câu lệnh khác nhau cho các đầu vào khác nhau. Hãy xem mệnh đề **if** như một căn phòng bị khóa, nếu mệnh đề là **Đúng** thì chúng ta có thể vào phòng và chương trình của bạn sẽ chạy một số tác vụ được xác định sẵn, nhưng nếu mệnh đề **Sai**, chương trình sẽ bỏ qua tác vụ."
      ]
    },
    {
      "cell_type": "markdown",
      "metadata": {
        "id": "COwAFpdYfzpu"
      },
      "source": [
        "Ví dụ, hãy xét hình chữ nhật màu xanh đại diện cho một buổi hòa nhạc ACDC. Nếu người tham dự 18 tuổi trở lên, họ có thể tham gia buổi hòa nhạc ACDC. Nếu họ từ 18 tuổi trở xuống thì không thể tham gia buổi hòa nhạc.\n",
        "  \n",
        "Hãy sử dụng các câu lệnh điều kiện đã học trước đó vì các điều kiện cần được kiểm tra trong câu lệnh **if**. Cú pháp đơn giản là <code>if<i> mệnh đề điều kiện</i>:</code>, chứa từ <code> if</code>, bất kỳ mệnh đề điều kiện nào và dấu hai chấm ở cuối. Để bắt đầu các tác vụ, cần thực thi trong điều kiện này ở một dòng mới có thụt lề. Các dòng code sau dấu hai chấm và có thụt lề sẽ chỉ được thực thi khi mênh đề **if** là **True**. Các tác vụ sẽ kết thúc khi dòng code không thụt lề.\n",
        "\n",
        "Trong trường hợp dưới đây, các tác vụ thực thi <code> print(“you can enter”)</code> chỉ xảy ra nếu biến <code>age</code> lớn hơn 18 là đúng vì dòng code này có thụt vào. Tuy nhiên, việc thực thi <code> print (“move on”)</code> sẽ không bị ảnh hưởng bởi câu lệnh if.\n"
      ]
    },
    {
      "cell_type": "code",
      "metadata": {
        "id": "e2aEGqcifzpy",
        "colab": {
          "base_uri": "https://localhost:8080/"
        },
        "outputId": "69871e1b-fc6b-474b-ae94-7ba91c243af7"
      },
      "source": [
        "# If statement example\n",
        "\n",
        "#age = 19\n",
        "age = 18\n",
        "\n",
        "#expression that can be true or false\n",
        "if age > 18:\n",
        "\n",
        "    #within an indent, we have the expression that is run if the condition is true\n",
        "    print(\"you can enter\" )\n",
        "\n",
        "#The statements after the if statement will run regardless if the condition is true or false\n",
        "print(\"move on\")"
      ],
      "execution_count": 12,
      "outputs": [
        {
          "output_type": "stream",
          "name": "stdout",
          "text": [
            "move on\n"
          ]
        }
      ]
    },
    {
      "cell_type": "markdown",
      "metadata": {
        "id": "s7mJKtGIfzpy"
      },
      "source": [
        "<i> Hãy thử bỏ ghi chú biến độ tuổi </i>"
      ]
    },
    {
      "cell_type": "markdown",
      "metadata": {
        "id": "IasEJD_Rfzp0"
      },
      "source": [
        "Hãy sử dụng sơ đồ sau để minh họa quy trình. Ở phía bên trái, chúng ta thấy điều sẽ xảy ra khi điều kiện là <b>True</b>; người tham gia buổi hòa nhạc ACDC thể hiện code sau thụt lề đang được thực thi; sau đó chúng di chuyển. Ở phía bên phải, chúng ta thấy điều sẽ xảy ra khi điều kiện là <b>False</b>, người đó không được cấp quyền đi vào và di chuyển. Trong trường hợp này, đoạn code sau thụt lề không chạy, nhưng phần còn lại của các câu lệnh vẫn chạy."
      ]
    },
    {
      "cell_type": "markdown",
      "metadata": {
        "id": "YOZzapKxfzp0"
      },
      "source": [
        "<img src=\"https://cf-courses-data.s3.us.cloud-object-storage.appdomain.cloud/IBMDeveloperSkillsNetwork-PY0101EN-SkillsNetwork/labs/Module%203/images/CondsIf.gif\" width=\"650\" />\n"
      ]
    },
    {
      "cell_type": "markdown",
      "metadata": {
        "id": "sWTdup7xfzp0"
      },
      "source": [
        "Câu lệnh <code> else</code> chạy một khối code nếu không có điều kiện nào là **True** trước câu lệnh <code> else </code> này. Hãy sử dụng ví dụ về buổi hòa nhạc ACDC một lần nữa. Nếu người tham dự 17 tuổi, họ không thể đến buổi hòa nhạc ACDC, nhưng họ có thể đến buổi hòa nhạc Meatloaf.\n",
        "Cú pháp của câu lệnh <code>else</code> tương tự như cú pháp của câu lệnh <code> if</code>, là <code> else:</code>. Lưu ý rằng, không có mệnh đề điều kiện nào cho <code> else</code>.\n",
        "Hãy thử thay đổi các giá trị của <code> age</code> để xem điều gì sẽ xảy ra:"
      ]
    },
    {
      "cell_type": "code",
      "metadata": {
        "id": "55gSmShYfzp1",
        "colab": {
          "base_uri": "https://localhost:8080/"
        },
        "outputId": "98436f84-1df4-48aa-ded0-5ed9e76cbf48"
      },
      "source": [
        "# Else statement example\n",
        "\n",
        "age = 18\n",
        "# age = 19\n",
        "\n",
        "if age > 18:\n",
        "    print(\"you can enter\" )\n",
        "else:\n",
        "    print(\"go see Meat Loaf\" )\n",
        "\n",
        "print(\"move on\")"
      ],
      "execution_count": 13,
      "outputs": [
        {
          "output_type": "stream",
          "name": "stdout",
          "text": [
            "go see Meat Loaf\n",
            "move on\n"
          ]
        }
      ]
    },
    {
      "cell_type": "markdown",
      "metadata": {
        "id": "Jy0Oi2rGfzp1"
      },
      "source": [
        "Quá trình này được minh họa dưới đây, trong đó mỗi khả năng được thể hiện ở mỗi bên của hình ảnh. Bên trái là trường hợp tuổi 17, chúng ta đặt biến tuổi là 17, và điều này nghĩa là người tham dự sẽ tới buổi hòa nhạc Meatloaf. Phần bên phải hiển thị điều sẽ xảy ra khi người tham dự trên 18 tuổi, trong trường hợp này là 19 và người tham dự được đi vào vào buổi hòa nhạc."
      ]
    },
    {
      "cell_type": "markdown",
      "metadata": {
        "id": "G0EjLhy7fzp2"
      },
      "source": [
        "<img src=\"https://cf-courses-data.s3.us.cloud-object-storage.appdomain.cloud/IBMDeveloperSkillsNetwork-PY0101EN-SkillsNetwork/labs/Module%203/images/CondsElse.gif\" width=\"650\" />\n"
      ]
    },
    {
      "cell_type": "markdown",
      "metadata": {
        "id": "P5sGXe0Zfzp2"
      },
      "source": [
        "Câu lệnh <code> elif</code>, viết tắt của else if, cho phép chúng ta kiểm tra các điều kiện bổ sung nếu các câu lệnh điều kiện trước là <b>False</b>. Nếu điều kiện cho câu lệnh <code> elif</code> là <b> True</b>, các biểu thức thay thế sẽ được thực thi. Hãy xem ví dụ về buổi hòa nhạc, nếu người tham dự 18 tuổi, họ sẽ đến buổi hòa nhạc Pink Floyd thay vì buổi hòa nhạc ACDC hoặc Meat-loaf. Người 18 tuổi vào khu vực này, và vì họ không đủ 18 tuổi thì không thể xem ACDC, nhưng khi đủ 18 tuổi, họ tham dự Pink Floyd. Sau khi nhìn thấy Pink Floyd, họ tiếp tục. Cú pháp của câu lệnh <code> elif</code> tương tự ở chỗ chúng ta chỉ thay đổi <code> if</code> trong câu lệnh <code> if</code> thành <code> elif</code>."
      ]
    },
    {
      "cell_type": "code",
      "metadata": {
        "id": "x_HJC2V9fzp3",
        "colab": {
          "base_uri": "https://localhost:8080/"
        },
        "outputId": "59bff255-0ee9-46bc-bf96-507912c4ddbf"
      },
      "source": [
        "# Elif statment example\n",
        "\n",
        "age = 18\n",
        "\n",
        "if age > 18:\n",
        "    print(\"you can enter\" )\n",
        "elif age == 18:\n",
        "    print(\"go see Pink Floyd\")\n",
        "else:\n",
        "    print(\"go see Meat Loaf\" )\n",
        "\n",
        "print(\"move on\")"
      ],
      "execution_count": 14,
      "outputs": [
        {
          "output_type": "stream",
          "name": "stdout",
          "text": [
            "go see Pink Floyd\n",
            "move on\n"
          ]
        }
      ]
    },
    {
      "cell_type": "markdown",
      "metadata": {
        "id": "NDPAHyQOfzp3"
      },
      "source": [
        "Ba kết hợp được hiển thị trong hình bên dưới. Phần bên trái cho biết điều gì sẽ xảy ra khi người tham dự dưới 18 tuổi. Phần ở giữa hiển thị khi người tham dự 18 tuối. Phần bên phải hiển thị khi người tham dự trên 18 tuổi."
      ]
    },
    {
      "cell_type": "markdown",
      "metadata": {
        "id": "8f6BGH36fzp4"
      },
      "source": [
        "<img src =\"https://cf-courses-data.s3.us.cloud-object-storage.appdomain.cloud/IBMDeveloperSkillsNetwork-PY0101EN-SkillsNetwork/labs/Module%203/images/CondsElif.gif\" width=\"650\" />\n"
      ]
    },
    {
      "cell_type": "markdown",
      "metadata": {
        "id": "QPF_asWOfzp4"
      },
      "source": [
        "Hãy xem code sau:\n"
      ]
    },
    {
      "cell_type": "code",
      "metadata": {
        "id": "cTwZ-xkxfzp5",
        "colab": {
          "base_uri": "https://localhost:8080/"
        },
        "outputId": "49d9fabb-0f52-4e8f-fac5-d687d80488dd"
      },
      "source": [
        "# Condition statement example\n",
        "\n",
        "album_year = 1983\n",
        "album_year = 1970\n",
        "\n",
        "if album_year > 1980:\n",
        "    print(\"Album year is greater than 1980\")\n",
        "\n",
        "print('do something..')"
      ],
      "execution_count": 15,
      "outputs": [
        {
          "output_type": "stream",
          "name": "stdout",
          "text": [
            "do something..\n"
          ]
        }
      ]
    },
    {
      "cell_type": "markdown",
      "metadata": {
        "id": "JUHrAK5Tfzp5"
      },
      "source": [
        "Hãy thay giá trị <code>album_year</code> thành các giá trị khác -- bạn sẽ thấy kết quả thay đổi!\n"
      ]
    },
    {
      "cell_type": "markdown",
      "metadata": {
        "id": "hDYsr4rgfzp5"
      },
      "source": [
        "Lưu ý rằng code trong khối <b> thụt lề </b> ở trên sẽ chỉ được thực thi nếu kết quả là <b>True</b>."
      ]
    },
    {
      "cell_type": "markdown",
      "metadata": {
        "id": "Cy_hHueqfzp5"
      },
      "source": [
        "Như trước, chúng ta có thể thêm khối <code>else</code> vào khối <code>if</code>. Code trong khối <code>else</code> sẽ chỉ được thực thi nếu kết quả là <b>False</b>.\n",
        "\n",
        "<b>Cú pháp:</b>\n",
        "\n",
        "if (điều kiện):\n",
        "\n",
        "```\n",
        "# do something\n",
        "```\n",
        "\n",
        "else:\n",
        "\n",
        "```\n",
        "# do something else\n",
        "```\n"
      ]
    },
    {
      "cell_type": "markdown",
      "metadata": {
        "id": "msSNXTV0fzp6"
      },
      "source": [
        "Nếu điều kiện trong câu lệnh <code> if</code> là <b> False</b>, câu lệnh sau khối <code> else</code> sẽ thực thi. Điều này được thể hiện trong hình:"
      ]
    },
    {
      "cell_type": "markdown",
      "metadata": {
        "id": "QDP86XuFfzp6"
      },
      "source": [
        "<img src=\"https://cf-courses-data.s3.us.cloud-object-storage.appdomain.cloud/IBMDeveloperSkillsNetwork-PY0101EN-SkillsNetwork/labs/Module%203/images/CondsLogicMap.png\" width=\"650\" />\n"
      ]
    },
    {
      "cell_type": "code",
      "metadata": {
        "id": "MacZ7cRefzqB",
        "colab": {
          "base_uri": "https://localhost:8080/"
        },
        "outputId": "c62f6ea2-c8f6-4a76-a911-4718e7f76deb"
      },
      "source": [
        "# Condition statement example\n",
        "\n",
        "\n",
        "#album_year = 1983\n",
        "album_year = 1970\n",
        "\n",
        "if album_year > 1980:\n",
        "    print(\"Album year is greater than 1980\")\n",
        "else:\n",
        "    print(\"less than 1980\")\n",
        "\n",
        "print('do something..')"
      ],
      "execution_count": 16,
      "outputs": [
        {
          "output_type": "stream",
          "name": "stdout",
          "text": [
            "less than 1980\n",
            "do something..\n"
          ]
        }
      ]
    },
    {
      "cell_type": "markdown",
      "metadata": {
        "id": "yzEtQMQTfzqC"
      },
      "source": [
        "Hãy thay đổi giá trị <code> album_year</code> thành các giá trị khác - bạn sẽ thấy rằng kết quả cũng thay đổi!"
      ]
    },
    {
      "cell_type": "markdown",
      "metadata": {
        "id": "Y_URDIeVfzqC"
      },
      "source": [
        "<h3 id=\"logic\">Toán tử logic</h3>\n"
      ]
    },
    {
      "cell_type": "markdown",
      "metadata": {
        "id": "6BAcM4GFfzqC"
      },
      "source": [
        "Đôi khi bạn muốn kiểm tra nhiều điều kiện cùng một lúc. Ví dụ: bạn có thể muốn kiểm tra xem điều kiện này và điều kiện khác có phải là **True** hay không. Toán tử logic cho phép bạn kết hợp hoặc sửa đổi các điều kiện.\n",
        "\n",
        "<ul>\n",
        "    <li><code>and</code></li>\n",
        "    <li><code>or</code></li>\n",
        "    <li><code>not</code></li>\n",
        "</ul>\n",
        "\n",
        "Các toán tử này được tóm lược cho hai biến bằng cách sử dụng bảng sự chân lý (truth table) sau:"
      ]
    },
    {
      "cell_type": "markdown",
      "metadata": {
        "id": "VdWBE4vBfzqD"
      },
      "source": [
        "<img src=\"https://cf-courses-data.s3.us.cloud-object-storage.appdomain.cloud/IBMDeveloperSkillsNetwork-PY0101EN-SkillsNetwork/labs/Module%203/images/CondsTable.png\" width=\"650\" />\n"
      ]
    },
    {
      "cell_type": "markdown",
      "metadata": {
        "id": "MIo9RUkpfzqD"
      },
      "source": [
        "Câu lệnh <code>and</code> chỉ đúng khi cả hai điều kiện đều đúng. Câu lệnh <code>or</code> đúng nếu một điều kiện là đúng. Câu lệnh <code>not</code> xuất ra giá trị thật ngược lại."
      ]
    },
    {
      "cell_type": "markdown",
      "metadata": {
        "id": "1DbHkVfnfzqD"
      },
      "source": [
        "Hãy xem cách xác định xem một album được phát hành sau năm 1979 (không bao gồm năm 1979) và trước năm 1990 (không bao gồm năm 1990). Khoảng thời gian từ 1980 đến 1989 thỏa mãn điều kiện này. Điều này được thể hiện trong hình bên dưới. Màu xanh trên các đường <strong> a </strong> và <strong> b </strong> biểu thị các khoảng thời gian mà câu lệnh là **True**. Màu xanh trên đường <strong> c </strong> biểu thị vị trí của cả hai điều kiện là **True**, điều này tương ứng với vị trí các vùng màu xanh chồng lên nhau."
      ]
    },
    {
      "cell_type": "markdown",
      "metadata": {
        "id": "lY0WlBuKfzqD"
      },
      "source": [
        "<img src=\"https://cf-courses-data.s3.us.cloud-object-storage.appdomain.cloud/IBMDeveloperSkillsNetwork-PY0101EN-SkillsNetwork/labs/Module%203/images/CondsEgOne.png\" width=\"650\" />\n"
      ]
    },
    {
      "cell_type": "markdown",
      "metadata": {
        "id": "6zcvcVQcfzqD"
      },
      "source": [
        "Khối code thực hiện kiểm tra này được cung cấp bởi:"
      ]
    },
    {
      "cell_type": "code",
      "metadata": {
        "id": "1PQfPzLJfzqD",
        "colab": {
          "base_uri": "https://localhost:8080/"
        },
        "outputId": "48c61c33-c1f1-4bf3-d884-242c45ac9f79"
      },
      "source": [
        "# Condition statement example\n",
        "\n",
        "album_year = 1980\n",
        "\n",
        "if(album_year > 1979) and (album_year < 1990):\n",
        "    print (\"Album year was in between 1980 and 1989\")\n",
        "\n",
        "print(\"\")\n",
        "print(\"Do Stuff..\")"
      ],
      "execution_count": 17,
      "outputs": [
        {
          "output_type": "stream",
          "name": "stdout",
          "text": [
            "Album year was in between 1980 and 1989\n",
            "\n",
            "Do Stuff..\n"
          ]
        }
      ]
    },
    {
      "cell_type": "markdown",
      "metadata": {
        "id": "pT6DhQnufzqE"
      },
      "source": [
        "Để xác định xem một album được phát hành trước năm 1980 (~ - 1979) hay sau năm 1989 (1990 - ~ ), có thể sử dụng câu lệnh **or**. Khoảng thời gian trước năm 1980 (~ - 1979) hoặc sau năm 1989 (1990 - ~) thỏa mãn điều kiện này. Điều này được thể hiện trong hình sau, màu xanh ở <strong> a </strong> và <strong> b </strong> thể hiện các khoảng thời gian mà câu lệnh là đúng. Màu xanh ở **c** thể hiện nơi có ít nhất một trong các điều kiện là đúng."
      ]
    },
    {
      "cell_type": "markdown",
      "metadata": {
        "id": "PG7w1rTWfzqE"
      },
      "source": [
        "<img src=\"https://cf-courses-data.s3.us.cloud-object-storage.appdomain.cloud/IBMDeveloperSkillsNetwork-PY0101EN-SkillsNetwork/labs/Module%203/images/CondsEgTwo.png\" width=\"650\" />\n"
      ]
    },
    {
      "cell_type": "markdown",
      "metadata": {
        "id": "Llz3Ct7zfzqE"
      },
      "source": [
        "Khối code thực hiện kiểm tra này được cung cấp bởi:"
      ]
    },
    {
      "cell_type": "code",
      "metadata": {
        "id": "mueQvPdmfzqE",
        "colab": {
          "base_uri": "https://localhost:8080/"
        },
        "outputId": "bf26a273-4742-48b0-8707-4411ffa913c4"
      },
      "source": [
        "# Condition statement example\n",
        "\n",
        "album_year = 1990\n",
        "\n",
        "if(album_year < 1980) or (album_year > 1989):\n",
        "    print (\"Album was not made in the 1980's\")\n",
        "else:\n",
        "    print(\"The Album was made in the 1980's \")"
      ],
      "execution_count": 18,
      "outputs": [
        {
          "output_type": "stream",
          "name": "stdout",
          "text": [
            "Album was not made in the 1980's\n"
          ]
        }
      ]
    },
    {
      "cell_type": "markdown",
      "metadata": {
        "id": "vnJfWvP3fzqF"
      },
      "source": [
        "Câu lệnh <code>not</code> kiểm tra liệu câu lệnh có sai:\n"
      ]
    },
    {
      "cell_type": "code",
      "metadata": {
        "id": "SR-KeuwpfzqF",
        "colab": {
          "base_uri": "https://localhost:8080/"
        },
        "outputId": "9bcf39a4-e206-4715-b2dd-25ab4969ec9a"
      },
      "source": [
        "# Condition statement example\n",
        "\n",
        "album_year = 1983\n",
        "\n",
        "if not (album_year == '1984'):\n",
        "    print (\"Album year is not 1984\")"
      ],
      "execution_count": 19,
      "outputs": [
        {
          "output_type": "stream",
          "name": "stdout",
          "text": [
            "Album year is not 1984\n"
          ]
        }
      ]
    },
    {
      "cell_type": "markdown",
      "metadata": {
        "id": "kjOtN0uPfzqF"
      },
      "source": [
        "<hr>\n"
      ]
    },
    {
      "cell_type": "markdown",
      "metadata": {
        "id": "fi9KKOahfzqF"
      },
      "source": [
        "<h2 id=\"quiz\">Quiz về điều kiện</h2>\n"
      ]
    },
    {
      "cell_type": "markdown",
      "metadata": {
        "id": "WmgmulaEfzqF"
      },
      "source": [
        "Viết câu lệnh if để xác định một album có xếp hạng lớn hơn 8. Kiểm tra bằng cách sử dụng xếp hạng cho album <b> “Back in Black” </b> có xếp hạng 8,5. Nếu câu lệnh là đúng, hãy in ra \"This album is Amazing!\""
      ]
    },
    {
      "cell_type": "code",
      "metadata": {
        "id": "6tcodFUJfzqG",
        "colab": {
          "base_uri": "https://localhost:8080/"
        },
        "outputId": "fb51a644-a2ff-4799-e209-934eaf5163a2"
      },
      "source": [
        "# Write your code below and press Shift+Enter to execute\n",
        "rating = 8.5\n",
        "if rating >8 :\n",
        "  print(\"This album is amazing\")"
      ],
      "execution_count": 20,
      "outputs": [
        {
          "output_type": "stream",
          "name": "stdout",
          "text": [
            "This album is amazing\n"
          ]
        }
      ]
    },
    {
      "cell_type": "markdown",
      "metadata": {
        "id": "b_XOeqJffzqG"
      },
      "source": [
        "<details><summary>Bấm vào đây để xem đáp án</summary>\n",
        "\n",
        "```python\n",
        "rating = 8.5\n",
        "if rating > 8:\n",
        "    print (\"This album is Amazing!\")\n",
        "```\n",
        "\n",
        "</details>\n"
      ]
    },
    {
      "cell_type": "markdown",
      "metadata": {
        "id": "hgNuTiMCfzqG"
      },
      "source": [
        "<hr>\n"
      ]
    },
    {
      "cell_type": "markdown",
      "metadata": {
        "id": "t2-kHf9ffzqG"
      },
      "source": [
        "Viết một câu lệnh if-else thực hiện các thao tác sau. Nếu xếp hạng lớn hơn 8 thì in “this album is amazing”. Nếu xếp hạng nhỏ hơn hoặc bằng 8 thì in ra “this album is ok”."
      ]
    },
    {
      "cell_type": "code",
      "metadata": {
        "id": "eZR_vUVmfzqH",
        "colab": {
          "base_uri": "https://localhost:8080/"
        },
        "outputId": "1ec1fd89-6b54-4ee4-bc7b-e0007043683a"
      },
      "source": [
        "# Write your code below and press Shift+Enter to execute\n",
        "rating = .6\n",
        "if rating >8 :\n",
        "  print(\"this album is amazing\")\n",
        "else:\n",
        "  print(\"this album is ok\")"
      ],
      "execution_count": 22,
      "outputs": [
        {
          "output_type": "stream",
          "name": "stdout",
          "text": [
            "this album is ok\n"
          ]
        }
      ]
    },
    {
      "cell_type": "markdown",
      "metadata": {
        "id": "qZTK1yibfzqH"
      },
      "source": [
        "<details><summary>Bấm vào đây để xem đáp án</summary>\n",
        "\n",
        "```python\n",
        "rating = 8.5\n",
        "if rating > 8:\n",
        "    print (\"this album is amazing\")\n",
        "else:\n",
        "    print (\"this album is ok\")\n",
        "    \n",
        "```\n",
        "\n",
        "</details>\n"
      ]
    },
    {
      "cell_type": "markdown",
      "metadata": {
        "id": "EK6c5jhffzqH"
      },
      "source": [
        "<hr>\n"
      ]
    },
    {
      "cell_type": "markdown",
      "metadata": {
        "id": "6hx740bgfzqH"
      },
      "source": [
        "Viết câu lệnh if để xác định xem album ra mắt trước năm 1980 hay vào những năm: 1991 hay 1993. Nếu điều kiện là đúng, hãy in ra năm album ra mắt."
      ]
    },
    {
      "cell_type": "code",
      "metadata": {
        "id": "Qz8nH7qJfzqH",
        "colab": {
          "base_uri": "https://localhost:8080/"
        },
        "outputId": "d78400f0-f074-45c2-8385-5f00d52edcd2"
      },
      "source": [
        "# Write your code below and press Shift+Enter to execute\n",
        "year = 1879\n",
        "if year < 1980 or year == 1991 or year -- 1993:\n",
        "  print( f\"Album was made in {year}\")"
      ],
      "execution_count": 23,
      "outputs": [
        {
          "output_type": "stream",
          "name": "stdout",
          "text": [
            "Album was made in 1879\n"
          ]
        }
      ]
    },
    {
      "cell_type": "markdown",
      "metadata": {
        "id": "UCcHnWwGfzqI"
      },
      "source": [
        "<details><summary>Bấm vào đây để xem đáp án</summary>\n",
        "\n",
        "```python\n",
        "album_year = 1979\n",
        "\n",
        "if album_year < 1980 or album_year == 1991 or album_year == 1993:\n",
        "    print (\"This album came out in year %d\" %album_year)\n",
        "    \n",
        "```\n",
        "\n",
        "</details>\n"
      ]
    },
    {
      "cell_type": "markdown",
      "metadata": {
        "id": "hqAgWwAbfzqI"
      },
      "source": [
        "<hr>\n",
        "Nguồn: IBM\n",
        "<hr>\n"
      ]
    }
  ]
}