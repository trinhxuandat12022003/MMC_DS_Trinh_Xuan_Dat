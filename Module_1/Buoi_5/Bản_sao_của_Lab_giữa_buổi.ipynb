{
  "nbformat": 4,
  "nbformat_minor": 0,
  "metadata": {
    "colab": {
      "provenance": [],
      "gpuType": "T4"
    },
    "kernelspec": {
      "name": "python3",
      "display_name": "Python 3"
    },
    "language_info": {
      "name": "python"
    },
    "accelerator": "GPU"
  },
  "cells": [
    {
      "cell_type": "code",
      "source": [
        "import numpy as np\n",
        "np.random.seed(42)"
      ],
      "metadata": {
        "id": "eqbH_2HhpvYh"
      },
      "execution_count": null,
      "outputs": []
    },
    {
      "cell_type": "markdown",
      "source": [
        "# Problem 1: Tạo hai ma trận 3x3 với các phần tử integer ngẫu nhiên từ 1 - 10."
      ],
      "metadata": {
        "id": "X8tlbogelj-t"
      }
    },
    {
      "cell_type": "code",
      "execution_count": null,
      "metadata": {
        "id": "sV2WdE6nlTrD",
        "colab": {
          "base_uri": "https://localhost:8080/"
        },
        "outputId": "be4e484d-6bc7-4b17-9c60-f0666ab90d41"
      },
      "outputs": [
        {
          "output_type": "stream",
          "name": "stdout",
          "text": [
            "[[2 5 1]\n",
            " [6 9 1]\n",
            " [3 7 4]]\n",
            "[[9 3 5]\n",
            " [3 7 5]\n",
            " [9 7 2]]\n"
          ]
        }
      ],
      "source": [
        "# Your code here\n",
        "arr= np.random.randint(1,10,(3,3))\n",
        "arr2= np.random.randint(1,10,(3,3))\n",
        "print(arr)\n",
        "print(arr2)"
      ]
    },
    {
      "cell_type": "markdown",
      "source": [
        "# Problem 2: Thực hiện phép cộng phần tử, nhân từng phần tử, tích vô hướng với hai ma trận vừa được tạo.\n"
      ],
      "metadata": {
        "id": "bgEJURQnpxD_"
      }
    },
    {
      "cell_type": "code",
      "source": [
        "# Your code here\n",
        "arr3 = arr + arr2\n",
        "arr4 = arr * arr2\n",
        "arr5 = np.dot(arr, arr2)\n",
        "print(arr3)\n",
        "print(arr4)\n",
        "print(arr5)"
      ],
      "metadata": {
        "id": "c90439lApclu",
        "colab": {
          "base_uri": "https://localhost:8080/"
        },
        "outputId": "0a31c02b-8030-4407-8d9c-6bba43c854ae"
      },
      "execution_count": null,
      "outputs": [
        {
          "output_type": "stream",
          "name": "stdout",
          "text": [
            "[[11  8  6]\n",
            " [ 9 16  6]\n",
            " [12 14  6]]\n",
            "[[18 15  5]\n",
            " [18 63  5]\n",
            " [27 49  8]]\n",
            "[[42 48 37]\n",
            " [90 88 77]\n",
            " [84 86 58]]\n"
          ]
        }
      ]
    },
    {
      "cell_type": "markdown",
      "source": [
        "# Problem 3: VIết hàm nhận vào một mảng Numpy, sau đó trả về tổng tất cả các phần tử của chúng\n"
      ],
      "metadata": {
        "id": "O7LAFDMlqK2g"
      }
    },
    {
      "cell_type": "code",
      "source": [
        "# Your code here\n",
        "def sum_array(arr):\n",
        "  return sum(arr)\n",
        "\n",
        "print(sum_array(arr))"
      ],
      "metadata": {
        "id": "9noxlvtZpebU",
        "colab": {
          "base_uri": "https://localhost:8080/"
        },
        "outputId": "3510d69f-b569-42de-a31d-2c1e6a88aff8"
      },
      "execution_count": null,
      "outputs": [
        {
          "output_type": "stream",
          "name": "stdout",
          "text": [
            "[11 21  6]\n"
          ]
        }
      ]
    },
    {
      "cell_type": "code",
      "source": [],
      "metadata": {
        "id": "Vms81ex_PIHH"
      },
      "execution_count": null,
      "outputs": []
    }
  ]
}