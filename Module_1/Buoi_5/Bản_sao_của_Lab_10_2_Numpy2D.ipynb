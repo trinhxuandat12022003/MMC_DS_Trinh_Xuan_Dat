{
  "nbformat": 4,
  "nbformat_minor": 0,
  "metadata": {
    "kernelspec": {
      "display_name": "Python 3",
      "language": "python",
      "name": "python3"
    },
    "language_info": {
      "codemirror_mode": {
        "name": "ipython",
        "version": 3
      },
      "file_extension": ".py",
      "mimetype": "text/x-python",
      "name": "python",
      "nbconvert_exporter": "python",
      "pygments_lexer": "ipython3",
      "version": "3.7.6"
    },
    "colab": {
      "provenance": []
    }
  },
  "cells": [
    {
      "cell_type": "markdown",
      "metadata": {
        "id": "-XI1chsfWdEi"
      },
      "source": [
        "#Lab 8.2 Numpy 2D trong Python\n",
        "\n",
        "Thời lượng ước tính cần thiết: **20** phút\n",
        "\n",
        "## Mục tiêu\n",
        "\n",
        "Sau khi hoàn thành lab này, bạn sẽ có thể:\n",
        "\n",
        "-   Vận hành thoải mái với `numpy`\n",
        "-   Thực hiện các phép toán phức tập với with `numpy`\n"
      ]
    },
    {
      "cell_type": "markdown",
      "metadata": {
        "id": "rVrYLLiuWdEs"
      },
      "source": [
        "<h2>Mục lục</h2>\n",
        "<div class=\"alert alert-block alert-info\" style=\"margin-top: 20px\">\n",
        "    <ul>\n",
        "        <li><a href=\"create\">Tạo mảng Numpy 2D</a></li>\n",
        "        <li><a href=\"access\">Truy cập các phần tử khác nhau trong Mảng Numpy</a></li>\n",
        "        <li><a href=\"op\">Các phép toán cơ bản</a></li>\n",
        "    </ul>\n",
        "  \n",
        "</div>\n",
        "\n",
        "<hr>\n"
      ]
    },
    {
      "cell_type": "markdown",
      "metadata": {
        "id": "1NKxrSDlWdEt"
      },
      "source": [
        "<h2 id=\"create\">Tạo mảng Numpy 2D</h2>\n"
      ]
    },
    {
      "cell_type": "code",
      "metadata": {
        "id": "tGPWn_EMWdEt"
      },
      "source": [
        "# Import the libraries\n",
        "\n",
        "import numpy as np\n",
        "import matplotlib.pyplot as plt"
      ],
      "execution_count": 1,
      "outputs": []
    },
    {
      "cell_type": "markdown",
      "metadata": {
        "id": "Ymmu3A_RWdE1"
      },
      "source": [
        "Hãy xem xét list <code> a</code>, list chứa ba danh sách lồng nhau **có kích thước bằng nhau**."
      ]
    },
    {
      "cell_type": "code",
      "metadata": {
        "id": "3WqGJQZdWdE1",
        "colab": {
          "base_uri": "https://localhost:8080/"
        },
        "outputId": "2a3588f8-7877-45da-b2f1-900cb56abd6a"
      },
      "source": [
        "# Create a list\n",
        "\n",
        "a = [[11, 12, 13], [21, 22, 23], [31, 32, 33]]\n",
        "a"
      ],
      "execution_count": 2,
      "outputs": [
        {
          "output_type": "execute_result",
          "data": {
            "text/plain": [
              "[[11, 12, 13], [21, 22, 23], [31, 32, 33]]"
            ]
          },
          "metadata": {},
          "execution_count": 2
        }
      ]
    },
    {
      "cell_type": "markdown",
      "metadata": {
        "id": "dwIJr94EWdE2"
      },
      "source": [
        "Chúng ta có thể truyền list vào một Mảng Numpy như sau:"
      ]
    },
    {
      "cell_type": "code",
      "metadata": {
        "id": "Y6p_rMV7WdE2",
        "colab": {
          "base_uri": "https://localhost:8080/"
        },
        "outputId": "6c74c2ee-c19f-4139-af57-ae59e6f408c2"
      },
      "source": [
        "# Convert list to Numpy Array\n",
        "# Every element is the same type\n",
        "\n",
        "A = np.array(a)\n",
        "A"
      ],
      "execution_count": 3,
      "outputs": [
        {
          "output_type": "execute_result",
          "data": {
            "text/plain": [
              "array([[11, 12, 13],\n",
              "       [21, 22, 23],\n",
              "       [31, 32, 33]])"
            ]
          },
          "metadata": {},
          "execution_count": 3
        }
      ]
    },
    {
      "cell_type": "markdown",
      "metadata": {
        "id": "VCXqAbANWdE-"
      },
      "source": [
        "Chúng ta có thể sử dụng thuộc tính <code> ndim</code> để lấy số lượng trục hoặc chiều được coi là thứ hạng."
      ]
    },
    {
      "cell_type": "code",
      "metadata": {
        "id": "oXa7k1VMWdE-",
        "colab": {
          "base_uri": "https://localhost:8080/"
        },
        "outputId": "e6c63b8a-ddbb-461c-f0f5-349ed21902b6"
      },
      "source": [
        "# Show the numpy array dimensions\n",
        "\n",
        "A.ndim"
      ],
      "execution_count": 4,
      "outputs": [
        {
          "output_type": "execute_result",
          "data": {
            "text/plain": [
              "2"
            ]
          },
          "metadata": {},
          "execution_count": 4
        }
      ]
    },
    {
      "cell_type": "markdown",
      "metadata": {
        "id": "3q4BVkd2WdE_"
      },
      "source": [
        "Thuộc tính <code> shape</code> trả về tuple tương ứng với kích thước hoặc số lượng của mỗi chiều."
      ]
    },
    {
      "cell_type": "code",
      "metadata": {
        "id": "llFbOF8VWdE_",
        "colab": {
          "base_uri": "https://localhost:8080/"
        },
        "outputId": "6aceb134-0d67-43f1-f974-ae7f91ac0df3"
      },
      "source": [
        "# Show the numpy array shape\n",
        "\n",
        "A.shape\n"
      ],
      "execution_count": 7,
      "outputs": [
        {
          "output_type": "execute_result",
          "data": {
            "text/plain": [
              "(3, 3)"
            ]
          },
          "metadata": {},
          "execution_count": 7
        }
      ]
    },
    {
      "cell_type": "markdown",
      "metadata": {
        "id": "24zaFr91WdFA"
      },
      "source": [
        "Tổng số phần tử trong mảng được cung cấp bởi thuộc tính <code> size</code>."
      ]
    },
    {
      "cell_type": "code",
      "metadata": {
        "id": "Y8wyiUzWWdFG",
        "colab": {
          "base_uri": "https://localhost:8080/"
        },
        "outputId": "b950780b-2a24-49ab-a8af-9494e5ef7f2b"
      },
      "source": [
        "# Show the numpy array size\n",
        "\n",
        "A.size"
      ],
      "execution_count": 8,
      "outputs": [
        {
          "output_type": "execute_result",
          "data": {
            "text/plain": [
              "9"
            ]
          },
          "metadata": {},
          "execution_count": 8
        }
      ]
    },
    {
      "cell_type": "markdown",
      "metadata": {
        "id": "5dfeWPEfWdFH"
      },
      "source": [
        "<hr>\n"
      ]
    },
    {
      "cell_type": "markdown",
      "metadata": {
        "id": "nS_GPAqMWdFI"
      },
      "source": [
        "<h2 id=\"access\">Truy cập các phần tử khác nhau của Mảng Numpy</h2>\n"
      ]
    },
    {
      "cell_type": "markdown",
      "metadata": {
        "id": "EQjkeotyWdFI"
      },
      "source": [
        "Chúng ta có thể sử dụng dấu ngoặc vuông để truy cập các phần tử khác nhau của mảng. Sự tương ứng giữa dấu ngoặc vuông với danh sách và biểu diễn hình chữ nhật được thể hiện trong hình sau với mảng 3x3:"
      ]
    },
    {
      "cell_type": "markdown",
      "metadata": {
        "id": "N1ludHn6WdFP"
      },
      "source": [
        "<img src=\"https://cf-courses-data.s3.us.cloud-object-storage.appdomain.cloud/IBMDeveloperSkillsNetwork-PY0101EN-SkillsNetwork/labs/Module%205/images/NumTwoEg.png\" width=\"500\" />\n"
      ]
    },
    {
      "cell_type": "markdown",
      "metadata": {
        "id": "91gZpm9xWdFQ"
      },
      "source": [
        "Chúng ta có thể truy cập vào cột thứ 2 hàng thứ 3 như trong hình sau:"
      ]
    },
    {
      "cell_type": "markdown",
      "metadata": {
        "id": "-K4Jr2gZWdFQ"
      },
      "source": [
        "<img src=\"https://cf-courses-data.s3.us.cloud-object-storage.appdomain.cloud/IBMDeveloperSkillsNetwork-PY0101EN-SkillsNetwork/labs/Module%205/images/NumTwoFT.png\" width=\"400\" />\n"
      ]
    },
    {
      "cell_type": "markdown",
      "metadata": {
        "id": "EMr4XVZeWdFQ"
      },
      "source": [
        "Chúng ta chỉ cần sử dụng dấu ngoặc vuông và các chỉ số tương ứng với phần tử mà chúng ta muốn:"
      ]
    },
    {
      "cell_type": "code",
      "metadata": {
        "id": "Q8Ac6r-aWdFR",
        "colab": {
          "base_uri": "https://localhost:8080/"
        },
        "outputId": "7b3de18e-78de-4b42-e993-d7d4b80559be"
      },
      "source": [
        "# Access the element on the second row and third column\n",
        "\n",
        "A[1, 2]"
      ],
      "execution_count": 9,
      "outputs": [
        {
          "output_type": "execute_result",
          "data": {
            "text/plain": [
              "23"
            ]
          },
          "metadata": {},
          "execution_count": 9
        }
      ]
    },
    {
      "cell_type": "markdown",
      "metadata": {
        "id": "bJmPBXUhWdFZ"
      },
      "source": [
        "Chúng ta cũng có thể sử dụng ký hiệu sau để lấy các phần tử:"
      ]
    },
    {
      "cell_type": "code",
      "metadata": {
        "id": "GHiFB19TWdFZ",
        "colab": {
          "base_uri": "https://localhost:8080/"
        },
        "outputId": "6718f847-af7b-4469-b590-e5d361e7485f"
      },
      "source": [
        "# Access the element on the second row and third column\n",
        "\n",
        "A[1][2]"
      ],
      "execution_count": 10,
      "outputs": [
        {
          "output_type": "execute_result",
          "data": {
            "text/plain": [
              "23"
            ]
          },
          "metadata": {},
          "execution_count": 10
        }
      ]
    },
    {
      "cell_type": "markdown",
      "metadata": {
        "id": "8xycrmcPWdFc"
      },
      "source": [
        "Hãy xem xét các phần tử được hiển thị trong hình sau:"
      ]
    },
    {
      "cell_type": "markdown",
      "metadata": {
        "id": "iJtPe8PxWdFd"
      },
      "source": [
        "<img src=\"https://cf-courses-data.s3.us.cloud-object-storage.appdomain.cloud/IBMDeveloperSkillsNetwork-PY0101EN-SkillsNetwork/labs/Module%205/images/NumTwoFF.png\" width=\"400\" />\n"
      ]
    },
    {
      "cell_type": "markdown",
      "metadata": {
        "id": "Nsm3CrxpWdFd"
      },
      "source": [
        "Chúng ta có thể truy cập phần tử như sau:"
      ]
    },
    {
      "cell_type": "code",
      "metadata": {
        "id": "oExl9EnmWdFe",
        "colab": {
          "base_uri": "https://localhost:8080/"
        },
        "outputId": "775921b8-0310-4eb6-903c-82009f607b16"
      },
      "source": [
        "# Access the element on the first row and first column\n",
        "\n",
        "A[0][0]"
      ],
      "execution_count": 11,
      "outputs": [
        {
          "output_type": "execute_result",
          "data": {
            "text/plain": [
              "11"
            ]
          },
          "metadata": {},
          "execution_count": 11
        }
      ]
    },
    {
      "cell_type": "markdown",
      "metadata": {
        "id": "QTaI2xuxWdFe"
      },
      "source": [
        "Chúng ta cũng có thể sử dụng slicing trong các mảng numpy. Hãy xem xét hình sau. Chúng ta muốn lấy hai cột đầu ở hàng đầu tiên."
      ]
    },
    {
      "cell_type": "markdown",
      "metadata": {
        "id": "AaLo2JzxWdFf"
      },
      "source": [
        "<img src=\"https://cf-courses-data.s3.us.cloud-object-storage.appdomain.cloud/IBMDeveloperSkillsNetwork-PY0101EN-SkillsNetwork/labs/Module%205/images/NumTwoFSF.png\" width=\"400\" />\n"
      ]
    },
    {
      "cell_type": "markdown",
      "metadata": {
        "id": "rmEhx7mCWdFf"
      },
      "source": [
        "Điều này có thể được thực hiện với cú pháp sau:"
      ]
    },
    {
      "cell_type": "code",
      "metadata": {
        "id": "SBlbpfeQWdFf",
        "colab": {
          "base_uri": "https://localhost:8080/"
        },
        "outputId": "e35be2b2-c77d-4a50-ee26-231a7fadde28"
      },
      "source": [
        "# Access the element on the first row and first and second columns\n",
        "\n",
        "A[0][0:2]"
      ],
      "execution_count": 12,
      "outputs": [
        {
          "output_type": "execute_result",
          "data": {
            "text/plain": [
              "array([11, 12])"
            ]
          },
          "metadata": {},
          "execution_count": 12
        }
      ]
    },
    {
      "cell_type": "markdown",
      "metadata": {
        "id": "syraMuUaWdFg"
      },
      "source": [
        "Tương tự, chúng ta có thể thu được hai hàng đầu tiên của cột thứ 3 như sau:"
      ]
    },
    {
      "cell_type": "code",
      "metadata": {
        "id": "cNEWwMeRWdFh",
        "colab": {
          "base_uri": "https://localhost:8080/"
        },
        "outputId": "7036c7fa-ac20-46e0-9120-f2563bd52709"
      },
      "source": [
        "# Access the element on the first and second rows and third column\n",
        "\n",
        "A[0:2, 2]"
      ],
      "execution_count": 13,
      "outputs": [
        {
          "output_type": "execute_result",
          "data": {
            "text/plain": [
              "array([13, 23])"
            ]
          },
          "metadata": {},
          "execution_count": 13
        }
      ]
    },
    {
      "cell_type": "markdown",
      "metadata": {
        "id": "O75ttt2xWdFh"
      },
      "source": [
        "Tương ứng với hình sau:"
      ]
    },
    {
      "cell_type": "markdown",
      "metadata": {
        "id": "WEnkZY15WdFh"
      },
      "source": [
        "<img src=\"https://cf-courses-data.s3.us.cloud-object-storage.appdomain.cloud/IBMDeveloperSkillsNetwork-PY0101EN-SkillsNetwork/labs/Module%205/images/2D_numpy.png\" width=\"550\"><br />\n"
      ]
    },
    {
      "cell_type": "markdown",
      "metadata": {
        "id": "1EwCF7fOWdFi"
      },
      "source": [
        "<h2 id=\"op\">Các phép toán cơ bản</h2>\n"
      ]
    },
    {
      "cell_type": "markdown",
      "metadata": {
        "id": "8gGPLbD5WdFj"
      },
      "source": [
        "Chúng ta cũng có thể cộng mảng. Quá trình này giống hệt với phép cộng ma trận. Phép cộng ma trận của <code> X</code> và <code> Y</code> được hiển thị trong hình sau:"
      ]
    },
    {
      "cell_type": "markdown",
      "metadata": {
        "id": "ob8IDPa5WdFj"
      },
      "source": [
        "<img src=\"https://cf-courses-data.s3.us.cloud-object-storage.appdomain.cloud/IBMDeveloperSkillsNetwork-PY0101EN-SkillsNetwork/labs/Module%205/images/NumTwoAdd.png\" width=\"500\" />\n"
      ]
    },
    {
      "cell_type": "markdown",
      "metadata": {
        "id": "5DEulZsrWdFj"
      },
      "source": [
        "Mảng numpy được cung cấp bởi <code> X</code> và <code> Y</code>."
      ]
    },
    {
      "cell_type": "code",
      "metadata": {
        "id": "7dYS9u-gWdFk",
        "colab": {
          "base_uri": "https://localhost:8080/"
        },
        "outputId": "e5b6e473-8911-41c3-c674-ef4320ea7e67"
      },
      "source": [
        "# Create a numpy array X\n",
        "\n",
        "X = np.array([[1, 0], [0, 1]])\n",
        "X"
      ],
      "execution_count": 14,
      "outputs": [
        {
          "output_type": "execute_result",
          "data": {
            "text/plain": [
              "array([[1, 0],\n",
              "       [0, 1]])"
            ]
          },
          "metadata": {},
          "execution_count": 14
        }
      ]
    },
    {
      "cell_type": "code",
      "metadata": {
        "id": "d5K2MXlIWdFl",
        "colab": {
          "base_uri": "https://localhost:8080/"
        },
        "outputId": "e6a6c78f-2912-4017-a928-32df0cb73a62"
      },
      "source": [
        "# Create a numpy array Y\n",
        "\n",
        "Y = np.array([[2, 1], [1, 2]])\n",
        "Y"
      ],
      "execution_count": 15,
      "outputs": [
        {
          "output_type": "execute_result",
          "data": {
            "text/plain": [
              "array([[2, 1],\n",
              "       [1, 2]])"
            ]
          },
          "metadata": {},
          "execution_count": 15
        }
      ]
    },
    {
      "cell_type": "markdown",
      "metadata": {
        "id": "Qh634RJbWdFm"
      },
      "source": [
        "Chúng ta có thể cộng các mảng numpy như sau:"
      ]
    },
    {
      "cell_type": "code",
      "metadata": {
        "id": "ch7xebc1WdFm",
        "colab": {
          "base_uri": "https://localhost:8080/"
        },
        "outputId": "37e46ad9-0843-4391-f03a-054d7bcc4a26"
      },
      "source": [
        "# Add X and Y\n",
        "\n",
        "Z = X + Y\n",
        "Z"
      ],
      "execution_count": 16,
      "outputs": [
        {
          "output_type": "execute_result",
          "data": {
            "text/plain": [
              "array([[3, 1],\n",
              "       [1, 3]])"
            ]
          },
          "metadata": {},
          "execution_count": 16
        }
      ]
    },
    {
      "cell_type": "markdown",
      "metadata": {
        "id": "c5TlSQgCWdFn"
      },
      "source": [
        "Nhân một mảng numpy với một tỷ lệ cũng giống như nhân một ma trận với một vô hướng. Nếu nhân ma trận <code> Y</code> với hệ số vô hướng 2, chúng ta chỉ cần nhân mọi phần tử trong ma trận với 2 như trong hình."
      ]
    },
    {
      "cell_type": "markdown",
      "metadata": {
        "id": "qy59asNMWdFn"
      },
      "source": [
        "<img src=\"https://cf-courses-data.s3.us.cloud-object-storage.appdomain.cloud/IBMDeveloperSkillsNetwork-PY0101EN-SkillsNetwork/labs/Module%205/images/NumTwoDb.png\" width=\"500\" />\n"
      ]
    },
    {
      "cell_type": "markdown",
      "metadata": {
        "id": "I5HbQHzWWdFo"
      },
      "source": [
        "Chúng ta có thể thực hiện thao tác tương tự trong numpy như sauz:"
      ]
    },
    {
      "cell_type": "code",
      "metadata": {
        "id": "moIVrK-bWdFo",
        "colab": {
          "base_uri": "https://localhost:8080/"
        },
        "outputId": "14e015d2-bf4e-4c36-e4ba-8f521b7a2cd7"
      },
      "source": [
        "# Create a numpy array Y\n",
        "\n",
        "Y = np.array([[2, 1], [1, 2]])\n",
        "Y"
      ],
      "execution_count": 17,
      "outputs": [
        {
          "output_type": "execute_result",
          "data": {
            "text/plain": [
              "array([[2, 1],\n",
              "       [1, 2]])"
            ]
          },
          "metadata": {},
          "execution_count": 17
        }
      ]
    },
    {
      "cell_type": "code",
      "metadata": {
        "id": "L6GlfpdtWdFp",
        "colab": {
          "base_uri": "https://localhost:8080/"
        },
        "outputId": "a471ea8e-5fc7-4a05-e93f-8141ee5a6755"
      },
      "source": [
        "# Multiply Y with 2\n",
        "\n",
        "Z = 2 * Y\n",
        "Z"
      ],
      "execution_count": 18,
      "outputs": [
        {
          "output_type": "execute_result",
          "data": {
            "text/plain": [
              "array([[4, 2],\n",
              "       [2, 4]])"
            ]
          },
          "metadata": {},
          "execution_count": 18
        }
      ]
    },
    {
      "cell_type": "markdown",
      "metadata": {
        "id": "RlJwJ10jWdFp"
      },
      "source": [
        "Phép nhân hai mảng tương ứng với tích cặp phần tử hoặc phép nhân Hadamard. Xem xét ma trận <code> X</code> và <code> Y</code>. Phép nhân Hadamard tương ứng với việc nhân từng phần tử ở cùng một vị trí, tức là nhân các phần tử chứa trong các ô màu giống nhau với nhau. Kết quả là một ma trận mới có cùng kích thước với ma trận <code> Y</code> hoặc <code> X</code>, như trong hình sau."
      ]
    },
    {
      "cell_type": "markdown",
      "metadata": {
        "id": "JJehog9BWdFq"
      },
      "source": [
        "<img src=\"https://cf-courses-data.s3.us.cloud-object-storage.appdomain.cloud/IBMDeveloperSkillsNetwork-PY0101EN-SkillsNetwork/labs/Module%205/images/NumTwoMul.png\" width=\"500\" />\n"
      ]
    },
    {
      "cell_type": "markdown",
      "metadata": {
        "id": "qc9zl_leWdFq"
      },
      "source": [
        "Chúng ta có thể thực hiện tích cặp phần tử của mảng <code> X</code> và <code> Y</code> như sau:"
      ]
    },
    {
      "cell_type": "code",
      "metadata": {
        "id": "9kz5haDYWdFr",
        "colab": {
          "base_uri": "https://localhost:8080/"
        },
        "outputId": "5da2756a-06a4-4caf-a598-93e46dafc76b"
      },
      "source": [
        "# Create a numpy array Y\n",
        "\n",
        "Y = np.array([[2, 1], [1, 2]])\n",
        "Y"
      ],
      "execution_count": 19,
      "outputs": [
        {
          "output_type": "execute_result",
          "data": {
            "text/plain": [
              "array([[2, 1],\n",
              "       [1, 2]])"
            ]
          },
          "metadata": {},
          "execution_count": 19
        }
      ]
    },
    {
      "cell_type": "code",
      "metadata": {
        "id": "qvuCRPCqWdFr",
        "colab": {
          "base_uri": "https://localhost:8080/"
        },
        "outputId": "4cf8399d-d007-4c30-f91e-f97ee9ef2ed4"
      },
      "source": [
        "# Create a numpy array X\n",
        "\n",
        "X = np.array([[1, 0], [0, 1]])\n",
        "X"
      ],
      "execution_count": 20,
      "outputs": [
        {
          "output_type": "execute_result",
          "data": {
            "text/plain": [
              "array([[1, 0],\n",
              "       [0, 1]])"
            ]
          },
          "metadata": {},
          "execution_count": 20
        }
      ]
    },
    {
      "cell_type": "code",
      "metadata": {
        "id": "LRfT8MAtWdFr",
        "colab": {
          "base_uri": "https://localhost:8080/"
        },
        "outputId": "726e4a1f-ef21-401a-f1b0-a4e25b11ec10"
      },
      "source": [
        "# Multiply X with Y\n",
        "\n",
        "Z = X * Y\n",
        "Z"
      ],
      "execution_count": 21,
      "outputs": [
        {
          "output_type": "execute_result",
          "data": {
            "text/plain": [
              "array([[2, 0],\n",
              "       [0, 2]])"
            ]
          },
          "metadata": {},
          "execution_count": 21
        }
      ]
    },
    {
      "cell_type": "markdown",
      "metadata": {
        "id": "PZO5e_xHWdFs"
      },
      "source": [
        "Chúng ta cũng có thể thực hiện phép nhân ma trận với các mảng numpy <code> A</code> và <code> B</code> như sau:"
      ]
    },
    {
      "cell_type": "markdown",
      "metadata": {
        "id": "vqRRLZTuWdFt"
      },
      "source": [
        "Trước tiên, chúng ta xác định ma trận <code> A</code> và <code> B</code>:"
      ]
    },
    {
      "cell_type": "code",
      "metadata": {
        "id": "c0cgdjZ8WdFt",
        "colab": {
          "base_uri": "https://localhost:8080/"
        },
        "outputId": "ff23aabd-18ee-4dbb-91fc-3ac60ca82242"
      },
      "source": [
        "# Create a matrix A\n",
        "\n",
        "A = np.array([[0, 1, 1], [1, 0, 1]])\n",
        "A"
      ],
      "execution_count": 22,
      "outputs": [
        {
          "output_type": "execute_result",
          "data": {
            "text/plain": [
              "array([[0, 1, 1],\n",
              "       [1, 0, 1]])"
            ]
          },
          "metadata": {},
          "execution_count": 22
        }
      ]
    },
    {
      "cell_type": "code",
      "metadata": {
        "id": "ToNHQXJMWdFt",
        "colab": {
          "base_uri": "https://localhost:8080/"
        },
        "outputId": "20e39f55-0d59-44e9-9af7-fdcec5cda4af"
      },
      "source": [
        "# Create a matrix B\n",
        "\n",
        "B = np.array([[1, 1], [1, 1], [-1, 1]])\n",
        "B"
      ],
      "execution_count": 23,
      "outputs": [
        {
          "output_type": "execute_result",
          "data": {
            "text/plain": [
              "array([[ 1,  1],\n",
              "       [ 1,  1],\n",
              "       [-1,  1]])"
            ]
          },
          "metadata": {},
          "execution_count": 23
        }
      ]
    },
    {
      "cell_type": "markdown",
      "metadata": {
        "id": "a1DpbcdZWdFu"
      },
      "source": [
        "Chúng ta sử dụng hàm numpy <code> dot</code> để nhân các mảng với nhau."
      ]
    },
    {
      "cell_type": "code",
      "metadata": {
        "id": "GSsBJU5wWdFu",
        "colab": {
          "base_uri": "https://localhost:8080/"
        },
        "outputId": "3d8a31e3-8f9d-472d-f4d9-dd11efd9f2b6"
      },
      "source": [
        "# Calculate the dot product\n",
        "\n",
        "Z = np.dot(A,B)\n",
        "Z"
      ],
      "execution_count": 24,
      "outputs": [
        {
          "output_type": "execute_result",
          "data": {
            "text/plain": [
              "array([[0, 2],\n",
              "       [0, 2]])"
            ]
          },
          "metadata": {},
          "execution_count": 24
        }
      ]
    },
    {
      "cell_type": "code",
      "metadata": {
        "id": "FpNzWrqCWdFv",
        "colab": {
          "base_uri": "https://localhost:8080/"
        },
        "outputId": "10728cef-f190-439b-91e8-d627241486b2"
      },
      "source": [
        "# Calculate the sine of Z\n",
        "\n",
        "np.sin(Z)"
      ],
      "execution_count": 25,
      "outputs": [
        {
          "output_type": "execute_result",
          "data": {
            "text/plain": [
              "array([[0.        , 0.90929743],\n",
              "       [0.        , 0.90929743]])"
            ]
          },
          "metadata": {},
          "execution_count": 25
        }
      ]
    },
    {
      "cell_type": "markdown",
      "metadata": {
        "id": "GYyVDAaNWdFv"
      },
      "source": [
        "Chúng ta sử dụng thuộc tính numpy <code> T</code> để tính toán ma trận chuyển vị."
      ]
    },
    {
      "cell_type": "code",
      "metadata": {
        "id": "An0SxX5vWdFv",
        "colab": {
          "base_uri": "https://localhost:8080/"
        },
        "outputId": "1ac31bd6-af38-481c-d67f-e8a473f32c40"
      },
      "source": [
        "# Create a matrix C\n",
        "\n",
        "C = np.array([[1,1],[2,2],[3,3]])\n",
        "C"
      ],
      "execution_count": 26,
      "outputs": [
        {
          "output_type": "execute_result",
          "data": {
            "text/plain": [
              "array([[1, 1],\n",
              "       [2, 2],\n",
              "       [3, 3]])"
            ]
          },
          "metadata": {},
          "execution_count": 26
        }
      ]
    },
    {
      "cell_type": "code",
      "metadata": {
        "id": "2UwIQGvYWdFx",
        "colab": {
          "base_uri": "https://localhost:8080/"
        },
        "outputId": "09f04c3d-37e8-4ce6-f765-fc9d897ee3fd"
      },
      "source": [
        "# Get the transposed of C\n",
        "\n",
        "C.T"
      ],
      "execution_count": 31,
      "outputs": [
        {
          "output_type": "execute_result",
          "data": {
            "text/plain": [
              "array([[1, 2, 3],\n",
              "       [1, 2, 3]])"
            ]
          },
          "metadata": {},
          "execution_count": 31
        }
      ]
    },
    {
      "cell_type": "markdown",
      "metadata": {
        "id": "cSX1LZdyWdFx"
      },
      "source": [
        "<h2>Quiz về Mảng Numpy 2D</h2>\n"
      ]
    },
    {
      "cell_type": "markdown",
      "metadata": {
        "id": "S9NABqEmWdFy"
      },
      "source": [
        "Hãy xem xét list <code> a</code> sau, chuyển nó thành mảng Numpy."
      ]
    },
    {
      "cell_type": "code",
      "metadata": {
        "id": "OEtUYshbWdFy",
        "colab": {
          "base_uri": "https://localhost:8080/"
        },
        "outputId": "58626316-76a4-40a3-fcd8-2ae173182e9c"
      },
      "source": [
        "# Write your code below and press Shift+Enter to execute\n",
        "\n",
        "a = [[1, 2, 3, 4], [5, 6, 7, 8], [9, 10, 11, 12]]\n",
        "b = np.array(a)\n",
        "b"
      ],
      "execution_count": 32,
      "outputs": [
        {
          "output_type": "execute_result",
          "data": {
            "text/plain": [
              "array([[ 1,  2,  3,  4],\n",
              "       [ 5,  6,  7,  8],\n",
              "       [ 9, 10, 11, 12]])"
            ]
          },
          "metadata": {},
          "execution_count": 32
        }
      ]
    },
    {
      "cell_type": "markdown",
      "metadata": {
        "id": "9Vrw9aa_WdFy"
      },
      "source": [
        "<details><summary>Bấm vào đây để xem đáp án</summary>\n",
        "\n",
        "```python\n",
        "A = np.array(a)\n",
        "A\n",
        "```\n",
        "\n",
        "</details>\n"
      ]
    },
    {
      "cell_type": "markdown",
      "metadata": {
        "id": "1MS4kXrtWdFz"
      },
      "source": [
        "Tính kích thước mảng numpy."
      ]
    },
    {
      "cell_type": "code",
      "metadata": {
        "id": "4ajATiosWdF0",
        "colab": {
          "base_uri": "https://localhost:8080/"
        },
        "outputId": "64b1c555-b875-4dde-800e-4d4afb27c043"
      },
      "source": [
        "# Write your code below and press Shift+Enter to execute\n",
        "B_SIZE = b.size\n",
        "B_SIZE"
      ],
      "execution_count": 33,
      "outputs": [
        {
          "output_type": "execute_result",
          "data": {
            "text/plain": [
              "12"
            ]
          },
          "metadata": {},
          "execution_count": 33
        }
      ]
    },
    {
      "cell_type": "markdown",
      "metadata": {
        "id": "8MTDYlw4WdF0"
      },
      "source": [
        "<details><summary>Bấm vào đây để xem đáp án</summary>\n",
        "\n",
        "```python\n",
        "A.size\n",
        "```\n",
        "\n",
        "</details>\n"
      ]
    },
    {
      "cell_type": "markdown",
      "metadata": {
        "id": "Xxg04WLuWdF0"
      },
      "source": [
        "Truy cập phần tử trên hàng đầu, cột đầu tiên và cột thứ hai."
      ]
    },
    {
      "cell_type": "code",
      "metadata": {
        "id": "SUsVfyG-WdF1",
        "colab": {
          "base_uri": "https://localhost:8080/"
        },
        "outputId": "88592efa-8dd7-4d66-a216-19af5fee0d41"
      },
      "source": [
        "# Write your code below and press Shift+Enter to execute\n",
        "b[0,0:2]"
      ],
      "execution_count": 34,
      "outputs": [
        {
          "output_type": "execute_result",
          "data": {
            "text/plain": [
              "array([1, 2])"
            ]
          },
          "metadata": {},
          "execution_count": 34
        }
      ]
    },
    {
      "cell_type": "markdown",
      "metadata": {
        "id": "xw7hZ2rXWdF1"
      },
      "source": [
        "<details><summary>Bấm vào đây để xem đáp án</summary>\n",
        "\n",
        "```python\n",
        "A[0][0:2]\n",
        "```\n",
        "\n",
        "</details>\n"
      ]
    },
    {
      "cell_type": "markdown",
      "metadata": {
        "id": "z-eH-JM1WdF2"
      },
      "source": [
        "Thực hiện phép nhân ma trận với mảng numpy <code> A</code> và <code> B</code>."
      ]
    },
    {
      "cell_type": "code",
      "metadata": {
        "id": "esfC1yo2WdF2",
        "colab": {
          "base_uri": "https://localhost:8080/"
        },
        "outputId": "16d60630-a869-44d7-fcb7-61e0230fcd89"
      },
      "source": [
        "# Write your code below and press Shift+Enter to execute\n",
        "\n",
        "B = np.array([[0, 1], [1, 0], [1, 1], [-1, 0]])\n",
        "X = np.dot(a,B)\n",
        "X"
      ],
      "execution_count": 37,
      "outputs": [
        {
          "output_type": "execute_result",
          "data": {
            "text/plain": [
              "array([[ 1,  4],\n",
              "       [ 5, 12],\n",
              "       [ 9, 20]])"
            ]
          },
          "metadata": {},
          "execution_count": 37
        }
      ]
    },
    {
      "cell_type": "markdown",
      "metadata": {
        "id": "sgr2nxbMWdF2"
      },
      "source": [
        "<details><summary>Bấm vào đây để xem đáp án</summary>\n",
        "\n",
        "```python\n",
        "X = np.dot(A,B)\n",
        "X\n",
        "```\n",
        "\n",
        "</details>\n"
      ]
    },
    {
      "cell_type": "markdown",
      "metadata": {
        "id": "gxl23VlcWdF3"
      },
      "source": [
        "<hr>\n",
        "Nguồn: IBM\n",
        "<hr>"
      ]
    }
  ]
}