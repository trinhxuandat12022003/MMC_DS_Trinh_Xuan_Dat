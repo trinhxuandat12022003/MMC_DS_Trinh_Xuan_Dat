{
  "nbformat": 4,
  "nbformat_minor": 0,
  "metadata": {
    "colab": {
      "provenance": []
    },
    "kernelspec": {
      "name": "python3",
      "display_name": "Python 3"
    },
    "language_info": {
      "name": "python"
    }
  },
  "cells": [
    {
      "cell_type": "markdown",
      "source": [
        "#Bài tập 1: Thao tác với ma trận  \n",
        "**Lý thuyết**:  \n",
        "NumPy cung cấp các công cụ mạnh mẽ để thao tác ma trận, bao gồm tính toán các định thức, tìm nghịch đảo và tính toán các giá trị riêng và vectơ riêng.\n",
        "  \n",
        "**Đề bài**:  \n",
        "Tạo ma trận 5x5 ngẫu nhiên và thực hiện các thao tác sau:  \n",
        "* Tính định thức (determinant) của ma trận.  \n",
        "* Tìm nghịch đảo (transpose) của ma trận.  \n",
        "* Tính các giá trị riêng (eigent value) và vectơ riêng (eigent vector) của ma trận.   \n",
        "(Phần này sẽ liên quan tới đại số tuyến tính, mọi người có thể tự tìm hiểu để hiểu chi tiết về các khái niệm trên)\n",
        "\n",
        "<details>\n",
        "  <summary>Hint</summary>\n",
        "\n",
        "```python\n",
        "import numpy as np\n",
        "\n",
        "# Generate a random 5x5 matrix\n",
        "matrix = np.random.rand(5, 5)\n",
        "\n",
        "# Compute determinant\n",
        "det = np.linalg.det(matrix)\n",
        "\n",
        "# Find inverse\n",
        "inverse = np.linalg.inv(matrix)\n",
        "\n",
        "# Calculate eigenvalues and eigenvectors\n",
        "eigenvalues, eigenvectors = np.linalg.eig(matrix)\n",
        "\n",
        "```\n",
        "</details>"
      ],
      "metadata": {
        "id": "jxgT4r6ovuvd"
      }
    },
    {
      "cell_type": "code",
      "execution_count": 8,
      "metadata": {
        "id": "-SEd8zd9tBN8",
        "colab": {
          "base_uri": "https://localhost:8080/"
        },
        "outputId": "44fa979e-dfb0-4ead-d4bd-8a975341cfbc"
      },
      "outputs": [
        {
          "output_type": "stream",
          "name": "stdout",
          "text": [
            "3702055.000000001\n",
            "[[-0.02573301  0.0523439  -0.06508412  0.03680658 -0.00221904]\n",
            " [-0.0058319  -0.02755362  0.04130409  0.02345724 -0.02548585]\n",
            " [ 0.01946513 -0.03841866  0.02545559 -0.01178102  0.03624527]\n",
            " [-0.01258814  0.03779279  0.01634336 -0.0476538   0.02687859]\n",
            " [ 0.03445411  0.02498801 -0.04086973  0.01732308 -0.03211   ]]\n",
            "[ 7.76642152e+01 +0.j          4.52003344e-02+13.26894976j\n",
            "  4.52003344e-02-13.26894976j -1.63773079e+01 +1.58694355j\n",
            " -1.63773079e+01 -1.58694355j]\n",
            "[[-0.3737387 +0.j         -0.57320071+0.j         -0.57320071-0.j\n",
            "   0.30449496-0.10920229j  0.30449496+0.10920229j]\n",
            " [-0.50711939+0.j          0.18681771+0.35618278j  0.18681771-0.35618278j\n",
            "   0.44216782+0.01721023j  0.44216782-0.01721023j]\n",
            " [-0.46696347+0.j          0.41656129-0.30900802j  0.41656129+0.30900802j\n",
            "   0.0722905 -0.02097491j  0.0722905 +0.02097491j]\n",
            " [-0.51723885+0.j          0.04127825+0.10627997j  0.04127825-0.10627997j\n",
            "  -0.8140337 +0.j         -0.8140337 -0.j        ]\n",
            " [-0.34286791+0.j         -0.41284392-0.23921794j -0.41284392+0.23921794j\n",
            "  -0.13424755+0.11493463j -0.13424755-0.11493463j]]\n"
          ]
        }
      ],
      "source": [
        "import numpy as np\n",
        "# Your code here\n",
        "a = np.random.randint(1,30,(5,5))\n",
        "determinant = np.linalg.det(a)\n",
        "print(determinant)\n",
        "inverse = np.linalg.inv(a)\n",
        "print(inverse)\n",
        "egientvalue, egientvector = np.linalg.eig(a)\n",
        "print(egientvalue)\n",
        "print(egientvector)"
      ]
    },
    {
      "cell_type": "markdown",
      "source": [
        "# Bài tập 2: Optimization\n",
        "**Lý thuyết:**  \n",
        "Gradient descent là một thuật toán tối ưu hóa được sử dụng để cực tiểu hóa hàm bằng cách di chuyển lặp đi lặp lại theo hướng dốc xuống.\n",
        "\n",
        "**Đề bài:**  \n",
        "Triển khai gradient descent sử dụng NumPy để tối ưu hàm số sau:\n",
        " $$ f(x) = x^2 + 5 \\sin(x) $$\n",
        "<details>\n",
        "  <summary>Hint</summary>\n",
        "\n",
        "```python\n",
        "import numpy as np\n",
        "\n",
        "def gradient_descent(x, learning_rate, iterations):\n",
        "    for _ in range(iterations):\n",
        "        gradient = 2*x + 5*np.cos(x)  # Đạo hàm riêng theo x\n",
        "        x = x - learning_rate * gradient # Cập nhật tham số\n",
        "    return x\n",
        "\n",
        "# Khởi tạo các hyperparameters\n",
        "x_initial = 5  # Input đầu vào\n",
        "learning_rate = 0.1 # Tốc độ học\n",
        "iterations = 100 # Số lần lặp\n",
        "\n",
        "# Run gradient descent\n",
        "minima = gradient_descent(x_initial, learning_rate, iterations)\n",
        "```\n",
        "\n",
        "</details>"
      ],
      "metadata": {
        "id": "j5y16Eqkxd_o"
      }
    },
    {
      "cell_type": "code",
      "source": [
        "# Your code here\n",
        "import numpy as np\n",
        "\n",
        "def gradient_descent(x, learning_rate, iterations):\n",
        "    for _ in range(iterations):\n",
        "        gradient = 2*x + 5*np.cos(x)  # Đạo hàm riêng theo x\n",
        "        x = x - learning_rate * gradient # Cập nhật tham số\n",
        "    return x\n",
        "\n",
        "# Khởi tạo các hyperparameters\n",
        "x_initial = 5  # Input đầu vào\n",
        "learning_rate = 0.1 # Tốc độ học\n",
        "iterations = 100 # Số lần lặp\n",
        "\n",
        "# Run gradient descent\n",
        "minima = gradient_descent(x_initial, learning_rate, iterations)\n",
        "print(minima)"
      ],
      "metadata": {
        "id": "s3Q3kOnuwxxW",
        "colab": {
          "base_uri": "https://localhost:8080/"
        },
        "outputId": "351310dc-5576-4d0d-fb3e-e5785c15cfa0"
      },
      "execution_count": 10,
      "outputs": [
        {
          "output_type": "stream",
          "name": "stdout",
          "text": [
            "-1.110510503581112\n"
          ]
        }
      ]
    },
    {
      "cell_type": "markdown",
      "source": [
        "# Bài tập 3: Phân tích thống kê  \n",
        "**Lý thuyết**:  \n",
        "NumPy cung cấp các chức năng để phân tích thống kê, bao gồm tính toán giá trị trung bình (mean), trung vị (median), độ lệch chuẩn (standard deviation) và mối tương quan (correlation).  \n",
        "\n",
        "**Đề Bài**:  \n",
        "Thực hiện phân tích thống kê trên tập dữ liệu bai3.csv bằng NumPy:  \n",
        "* Tính giá trị trung bình, trung vị và độ lệch chuẩn của tập dữ liệu.\n",
        "* Tính toán ma trận tương quan giữa các biến khác nhau.\n",
        "* Xác định các ngoại lệ trong tập dữ liệu bằng cách sử dụng điểm z.\n",
        "\n",
        "<details>\n",
        "  <summary>Hint</summary>\n",
        "\n",
        "```python\n",
        "  # Load dataset\n",
        "  data = np.loadtxt('dataset.csv', delimiter=',')\n",
        "\n",
        "  # Calculate mean, median, and standard deviation\n",
        "  mean = np.mean(data, axis=0)\n",
        "  median = np.median(data, axis=0)\n",
        "  std_dev = np.std(data, axis=0)\n",
        "\n",
        "  # Compute correlation matrix\n",
        "  correlation_matrix = np.corrcoef(data, rowvar=False)\n",
        "\n",
        "  # Identify outliers using z-scores\n",
        "  z_scores = np.abs((data - mean) / std_dev)\n",
        "  outliers = np.where(z_scores > 3)\n",
        "```\n",
        "</details>"
      ],
      "metadata": {
        "id": "r9TwMgo-y5tm"
      }
    },
    {
      "cell_type": "code",
      "source": [
        "# Your code here\n",
        "# Load dataset\n",
        "data = np.loadtxt('bai3.csv', delimiter=',')\n",
        "\n",
        "# Calculate mean, median, and standard deviation\n",
        "mean = np.mean(data, axis=0)\n",
        "median = np.median(data, axis=0)\n",
        "std_dev = np.std(data, axis=0)\n",
        "\n",
        "  # Compute correlation matrix\n",
        "correlation_matrix = np.corrcoef(data, rowvar=False)\n",
        "\n",
        "  # Identify outliers using z-scores\n",
        "z_scores = np.abs((data - mean) / std_dev)\n",
        "outliers = np.where(z_scores > 3)"
      ],
      "metadata": {
        "id": "KjYxequp1pld",
        "colab": {
          "base_uri": "https://localhost:8080/",
          "height": 356
        },
        "outputId": "de2a863d-ecff-4118-f619-3fb0cde144d2"
      },
      "execution_count": 15,
      "outputs": [
        {
          "output_type": "error",
          "ename": "FileNotFoundError",
          "evalue": "bai3.csv not found.",
          "traceback": [
            "\u001b[0;31m---------------------------------------------------------------------------\u001b[0m",
            "\u001b[0;31mFileNotFoundError\u001b[0m                         Traceback (most recent call last)",
            "\u001b[0;32m<ipython-input-15-79d55e391768>\u001b[0m in \u001b[0;36m<cell line: 3>\u001b[0;34m()\u001b[0m\n\u001b[1;32m      1\u001b[0m \u001b[0;31m# Your code here\u001b[0m\u001b[0;34m\u001b[0m\u001b[0;34m\u001b[0m\u001b[0m\n\u001b[1;32m      2\u001b[0m \u001b[0;31m# Load dataset\u001b[0m\u001b[0;34m\u001b[0m\u001b[0;34m\u001b[0m\u001b[0m\n\u001b[0;32m----> 3\u001b[0;31m \u001b[0mdata\u001b[0m \u001b[0;34m=\u001b[0m \u001b[0mnp\u001b[0m\u001b[0;34m.\u001b[0m\u001b[0mloadtxt\u001b[0m\u001b[0;34m(\u001b[0m\u001b[0;34m'bai3.csv'\u001b[0m\u001b[0;34m,\u001b[0m \u001b[0mdelimiter\u001b[0m\u001b[0;34m=\u001b[0m\u001b[0;34m','\u001b[0m\u001b[0;34m)\u001b[0m\u001b[0;34m\u001b[0m\u001b[0;34m\u001b[0m\u001b[0m\n\u001b[0m\u001b[1;32m      4\u001b[0m \u001b[0;34m\u001b[0m\u001b[0m\n\u001b[1;32m      5\u001b[0m \u001b[0;31m# Calculate mean, median, and standard deviation\u001b[0m\u001b[0;34m\u001b[0m\u001b[0;34m\u001b[0m\u001b[0m\n",
            "\u001b[0;32m/usr/local/lib/python3.10/dist-packages/numpy/lib/npyio.py\u001b[0m in \u001b[0;36mloadtxt\u001b[0;34m(fname, dtype, comments, delimiter, converters, skiprows, usecols, unpack, ndmin, encoding, max_rows, quotechar, like)\u001b[0m\n\u001b[1;32m   1371\u001b[0m         \u001b[0mdelimiter\u001b[0m \u001b[0;34m=\u001b[0m \u001b[0mdelimiter\u001b[0m\u001b[0;34m.\u001b[0m\u001b[0mdecode\u001b[0m\u001b[0;34m(\u001b[0m\u001b[0;34m'latin1'\u001b[0m\u001b[0;34m)\u001b[0m\u001b[0;34m\u001b[0m\u001b[0;34m\u001b[0m\u001b[0m\n\u001b[1;32m   1372\u001b[0m \u001b[0;34m\u001b[0m\u001b[0m\n\u001b[0;32m-> 1373\u001b[0;31m     arr = _read(fname, dtype=dtype, comment=comment, delimiter=delimiter,\n\u001b[0m\u001b[1;32m   1374\u001b[0m                 \u001b[0mconverters\u001b[0m\u001b[0;34m=\u001b[0m\u001b[0mconverters\u001b[0m\u001b[0;34m,\u001b[0m \u001b[0mskiplines\u001b[0m\u001b[0;34m=\u001b[0m\u001b[0mskiprows\u001b[0m\u001b[0;34m,\u001b[0m \u001b[0musecols\u001b[0m\u001b[0;34m=\u001b[0m\u001b[0musecols\u001b[0m\u001b[0;34m,\u001b[0m\u001b[0;34m\u001b[0m\u001b[0;34m\u001b[0m\u001b[0m\n\u001b[1;32m   1375\u001b[0m                 \u001b[0munpack\u001b[0m\u001b[0;34m=\u001b[0m\u001b[0munpack\u001b[0m\u001b[0;34m,\u001b[0m \u001b[0mndmin\u001b[0m\u001b[0;34m=\u001b[0m\u001b[0mndmin\u001b[0m\u001b[0;34m,\u001b[0m \u001b[0mencoding\u001b[0m\u001b[0;34m=\u001b[0m\u001b[0mencoding\u001b[0m\u001b[0;34m,\u001b[0m\u001b[0;34m\u001b[0m\u001b[0;34m\u001b[0m\u001b[0m\n",
            "\u001b[0;32m/usr/local/lib/python3.10/dist-packages/numpy/lib/npyio.py\u001b[0m in \u001b[0;36m_read\u001b[0;34m(fname, delimiter, comment, quote, imaginary_unit, usecols, skiplines, max_rows, converters, ndmin, unpack, dtype, encoding)\u001b[0m\n\u001b[1;32m    990\u001b[0m             \u001b[0mfname\u001b[0m \u001b[0;34m=\u001b[0m \u001b[0mos\u001b[0m\u001b[0;34m.\u001b[0m\u001b[0mfspath\u001b[0m\u001b[0;34m(\u001b[0m\u001b[0mfname\u001b[0m\u001b[0;34m)\u001b[0m\u001b[0;34m\u001b[0m\u001b[0;34m\u001b[0m\u001b[0m\n\u001b[1;32m    991\u001b[0m         \u001b[0;32mif\u001b[0m \u001b[0misinstance\u001b[0m\u001b[0;34m(\u001b[0m\u001b[0mfname\u001b[0m\u001b[0;34m,\u001b[0m \u001b[0mstr\u001b[0m\u001b[0;34m)\u001b[0m\u001b[0;34m:\u001b[0m\u001b[0;34m\u001b[0m\u001b[0;34m\u001b[0m\u001b[0m\n\u001b[0;32m--> 992\u001b[0;31m             \u001b[0mfh\u001b[0m \u001b[0;34m=\u001b[0m \u001b[0mnp\u001b[0m\u001b[0;34m.\u001b[0m\u001b[0mlib\u001b[0m\u001b[0;34m.\u001b[0m\u001b[0m_datasource\u001b[0m\u001b[0;34m.\u001b[0m\u001b[0mopen\u001b[0m\u001b[0;34m(\u001b[0m\u001b[0mfname\u001b[0m\u001b[0;34m,\u001b[0m \u001b[0;34m'rt'\u001b[0m\u001b[0;34m,\u001b[0m \u001b[0mencoding\u001b[0m\u001b[0;34m=\u001b[0m\u001b[0mencoding\u001b[0m\u001b[0;34m)\u001b[0m\u001b[0;34m\u001b[0m\u001b[0;34m\u001b[0m\u001b[0m\n\u001b[0m\u001b[1;32m    993\u001b[0m             \u001b[0;32mif\u001b[0m \u001b[0mencoding\u001b[0m \u001b[0;32mis\u001b[0m \u001b[0;32mNone\u001b[0m\u001b[0;34m:\u001b[0m\u001b[0;34m\u001b[0m\u001b[0;34m\u001b[0m\u001b[0m\n\u001b[1;32m    994\u001b[0m                 \u001b[0mencoding\u001b[0m \u001b[0;34m=\u001b[0m \u001b[0mgetattr\u001b[0m\u001b[0;34m(\u001b[0m\u001b[0mfh\u001b[0m\u001b[0;34m,\u001b[0m \u001b[0;34m'encoding'\u001b[0m\u001b[0;34m,\u001b[0m \u001b[0;34m'latin1'\u001b[0m\u001b[0;34m)\u001b[0m\u001b[0;34m\u001b[0m\u001b[0;34m\u001b[0m\u001b[0m\n",
            "\u001b[0;32m/usr/local/lib/python3.10/dist-packages/numpy/lib/_datasource.py\u001b[0m in \u001b[0;36mopen\u001b[0;34m(path, mode, destpath, encoding, newline)\u001b[0m\n\u001b[1;32m    191\u001b[0m \u001b[0;34m\u001b[0m\u001b[0m\n\u001b[1;32m    192\u001b[0m     \u001b[0mds\u001b[0m \u001b[0;34m=\u001b[0m \u001b[0mDataSource\u001b[0m\u001b[0;34m(\u001b[0m\u001b[0mdestpath\u001b[0m\u001b[0;34m)\u001b[0m\u001b[0;34m\u001b[0m\u001b[0;34m\u001b[0m\u001b[0m\n\u001b[0;32m--> 193\u001b[0;31m     \u001b[0;32mreturn\u001b[0m \u001b[0mds\u001b[0m\u001b[0;34m.\u001b[0m\u001b[0mopen\u001b[0m\u001b[0;34m(\u001b[0m\u001b[0mpath\u001b[0m\u001b[0;34m,\u001b[0m \u001b[0mmode\u001b[0m\u001b[0;34m,\u001b[0m \u001b[0mencoding\u001b[0m\u001b[0;34m=\u001b[0m\u001b[0mencoding\u001b[0m\u001b[0;34m,\u001b[0m \u001b[0mnewline\u001b[0m\u001b[0;34m=\u001b[0m\u001b[0mnewline\u001b[0m\u001b[0;34m)\u001b[0m\u001b[0;34m\u001b[0m\u001b[0;34m\u001b[0m\u001b[0m\n\u001b[0m\u001b[1;32m    194\u001b[0m \u001b[0;34m\u001b[0m\u001b[0m\n\u001b[1;32m    195\u001b[0m \u001b[0;34m\u001b[0m\u001b[0m\n",
            "\u001b[0;32m/usr/local/lib/python3.10/dist-packages/numpy/lib/_datasource.py\u001b[0m in \u001b[0;36mopen\u001b[0;34m(self, path, mode, encoding, newline)\u001b[0m\n\u001b[1;32m    531\u001b[0m                                       encoding=encoding, newline=newline)\n\u001b[1;32m    532\u001b[0m         \u001b[0;32melse\u001b[0m\u001b[0;34m:\u001b[0m\u001b[0;34m\u001b[0m\u001b[0;34m\u001b[0m\u001b[0m\n\u001b[0;32m--> 533\u001b[0;31m             \u001b[0;32mraise\u001b[0m \u001b[0mFileNotFoundError\u001b[0m\u001b[0;34m(\u001b[0m\u001b[0;34mf\"{path} not found.\"\u001b[0m\u001b[0;34m)\u001b[0m\u001b[0;34m\u001b[0m\u001b[0;34m\u001b[0m\u001b[0m\n\u001b[0m\u001b[1;32m    534\u001b[0m \u001b[0;34m\u001b[0m\u001b[0m\n\u001b[1;32m    535\u001b[0m \u001b[0;34m\u001b[0m\u001b[0m\n",
            "\u001b[0;31mFileNotFoundError\u001b[0m: bai3.csv not found."
          ]
        }
      ]
    },
    {
      "cell_type": "markdown",
      "source": [
        "# Bài 4: Thao tác với tensor\n",
        "Đề cho một tensor đại diện cho một hình ảnh thang độ xám. Thực hiện các thao tác sau:\n",
        "\n",
        "1. Reshape: Reshape tensor thành một hình dạng khác trong khi vẫn đảm bảo tổng số phần tử không đổi.\n",
        "2. Transpose: Transpose tensor dọc theo các trục được chỉ định.\n",
        "3. Slice: Trích xuất một tập hợp con của tensor bằng cách cắt dọc theo các kích thước được chỉ định.\n",
        "4. Concatenate: Concatenate nhiều tensor dọc theo các trục được chỉ định.\n",
        "5. Các phép toán theo phần tử: Thực hiện các phép toán theo phần tử như cộng, trừ, nhân và chia với các giá trị vô hướng hoặc các tensor khác.\n",
        "6. Hoạt động rút gọn: Thực hiện các hoạt động rút gọn như tính tổng, trung bình, tối thiểu và tối đa dọc theo các trục được chỉ định.\n",
        "7. Indexing: Truy cập các phần tử riêng lẻ hoặc các tensor phụ bằng cách sử dụng các chỉ số nguyên hoặc boolean mark.\n",
        "\n",
        "<details>\n",
        "  <summary>Hint</summary>\n",
        "\n",
        "  ```python\n",
        "    # 1. Reshape the tensor\n",
        "    reshaped_tensor = image_tensor.reshape(1, 9)\n",
        "\n",
        "    # 2. Transpose the tensor\n",
        "    transposed_tensor = image_tensor.T\n",
        "\n",
        "    # 3. Slice the tensor\n",
        "    sliced_tensor = image_tensor[:2, :2]\n",
        "\n",
        "    # 4. Concatenate tensors\n",
        "    concatenated_tensor = np.concatenate((image_tensor, image_tensor), axis=0)\n",
        "\n",
        "    # 5. Element-wise operations\n",
        "    added_tensor = image_tensor + 0.1\n",
        "    multiplied_tensor = image_tensor * 2\n",
        "\n",
        "    # 6. Reduction operations\n",
        "    sum_tensor = np.sum(image_tensor)\n",
        "    mean_tensor = np.mean(image_tensor, axis=0)\n",
        "    max_tensor = np.max(image_tensor, axis=1)\n",
        "\n",
        "    # 7. Indexing\n",
        "    element = image_tensor[1, 2]\n",
        "  ```\n",
        "</details>"
      ],
      "metadata": {
        "id": "ZX1eKlF805bM"
      }
    },
    {
      "cell_type": "code",
      "source": [
        "from google.colab import drive\n",
        "drive.mount('/content/drive')"
      ],
      "metadata": {
        "colab": {
          "base_uri": "https://localhost:8080/"
        },
        "id": "PnRTpG9JqDU0",
        "outputId": "28e71d35-e58c-47aa-c1bd-f5f25a4f72a7"
      },
      "execution_count": 13,
      "outputs": [
        {
          "output_type": "stream",
          "name": "stdout",
          "text": [
            "Mounted at /content/drive\n"
          ]
        }
      ]
    },
    {
      "cell_type": "code",
      "source": [
        "image_tensor = np.array([\n",
        "    [0.1, 0.2, 0.3],\n",
        "    [0.4, 0.5, 0.6],\n",
        "    [0.7, 0.8, 0.9]\n",
        "])"
      ],
      "metadata": {
        "id": "sKx_zUMw041d"
      },
      "execution_count": 16,
      "outputs": []
    },
    {
      "cell_type": "code",
      "source": [
        "# your code here\n",
        "reshaped_tensor = image_tensor.reshape(1, 9)\n",
        "\n",
        "    # 2. Transpose the tensor\n",
        "transposed_tensor = image_tensor.T\n",
        "\n",
        "    # 3. Slice the tensor\n",
        "sliced_tensor = image_tensor[:2, :2]\n",
        "\n",
        "    # 4. Concatenate tensors\n",
        "concatenated_tensor = np.concatenate((image_tensor, image_tensor), axis=0)\n",
        "\n",
        "    # 5. Element-wise operations\n",
        "added_tensor = image_tensor + 0.1\n",
        "multiplied_tensor = image_tensor * 2\n",
        "\n",
        "    # 6. Reduction operations\n",
        "sum_tensor = np.sum(image_tensor)\n",
        "mean_tensor = np.mean(image_tensor, axis=0)\n",
        "max_tensor = np.max(image_tensor, axis=1)\n",
        "\n",
        "    # 7. Indexing\n",
        "element = image_tensor[1, 2]"
      ],
      "metadata": {
        "id": "aDy3tPzby5RN"
      },
      "execution_count": 17,
      "outputs": []
    },
    {
      "cell_type": "code",
      "source": [],
      "metadata": {
        "id": "6xuWpMIzq2t9"
      },
      "execution_count": null,
      "outputs": []
    }
  ]
}