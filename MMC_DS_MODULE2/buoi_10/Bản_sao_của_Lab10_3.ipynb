{
  "cells": [
    {
      "cell_type": "markdown",
      "metadata": {
        "button": false,
        "deletable": true,
        "editable": true,
        "id": "EfOZAQ69UfN9",
        "new_sheet": false,
        "run_control": {
          "read_only": false
        }
      },
      "source": [
        "# Biểu đồ tròn, biểu đồ hộp, biểu đồ phân tán, và biểu đồ bong bóng"
      ]
    },
    {
      "cell_type": "markdown",
      "metadata": {
        "button": false,
        "deletable": true,
        "editable": true,
        "id": "S3VkfiSVUfOD",
        "new_sheet": false,
        "run_control": {
          "read_only": false
        }
      },
      "source": [
        "## Giới thiệu\n",
        "\n",
        "Trong phần lab này, chúng ta tiếp tục khám phá thư viện Matplotlib. Cụ thể hơn, chúng ta sẽ học cách tạo biểu đồ tròn, biểu đồ hộp, biểu đồ phân tán, và biểu đồ bong bóng."
      ]
    },
    {
      "cell_type": "markdown",
      "metadata": {
        "button": false,
        "deletable": true,
        "editable": true,
        "id": "Eh7VBG-JUfOD",
        "new_sheet": false,
        "run_control": {
          "read_only": false
        }
      },
      "source": [
        "## Bảng nội dung\n",
        "\n",
        "<div class=\"alert alert-block alert-info\" style=\"margin-top: 20px\">\n",
        "\n",
        "1. [Khám phá tập dữ liệu với *p*andas](#0)<br>\n",
        "2. [Tải và chuẩn bị dữ liệu](#2)<br>\n",
        "3. [Trực quan hóa dữ liệu bằng Matplotlib](#4) <br>\n",
        "4. [Biểu đồ tròn](#6) <br>\n",
        "5. [Biểu đồ hộp](#8) <br>\n",
        "6. [Biểu đồ phân tán](#10) <br>\n",
        "7. [Biểu đồ bong bóng](#12) <br>\n",
        "</div>\n",
        "<hr>"
      ]
    },
    {
      "cell_type": "markdown",
      "metadata": {
        "button": false,
        "deletable": true,
        "editable": true,
        "id": "GSD3xL1nUfOE",
        "new_sheet": false,
        "run_control": {
          "read_only": false
        }
      },
      "source": [
        "# Khám phá tập dữ liệu với *pandas* và Matplotlib<a id=\"0\"></a>\n",
        "\n",
        "Công cụ: Khóa học phụ thuộc khá nhiều vào [*pandas*](http://pandas.pydata.org/) và [**Numpy**](http://www.numpy.org/) để sắp xếp, phân tích và trực quan hóa dữ liệu. Thư viện biểu đồ cơ bản mà chúng ta sẽ khám phá trong khóa học là [Matplotlib](http://matplotlib.org/).\n",
        "\n",
        "Tập dữ liệu: Cuộc di cư đến Canada từ năm 1980 đến 2013 - [Luồng di cư quốc tế đến và đi từ các quốc gia được chọn - Bản sửa đổi năm 2015](http://www.un.org/en/development/desa/population/migration/data/empirical2/migrationflows.shtml) từ trang web của Liên hợp quốc.\n",
        "\n",
        "Tập dữ liệu chứa dữ liệu hàng năm về dòng người di cư quốc tế được ghi lại bởi các quốc gia điểm đến. Dữ liệu thể hiện cả dòng di cư vào và ra theo nơi sinh, quốc tịch hoặc nơi cư trú trước đây / hay sau này đối với cả người nước ngoài và người trong nước. Trong bài lab này, chúng ta sẽ tập trung vào dữ liệu Nhập cư Canada."
      ]
    },
    {
      "cell_type": "markdown",
      "metadata": {
        "button": false,
        "deletable": true,
        "editable": true,
        "id": "a9wQS4o5UfOE",
        "new_sheet": false,
        "run_control": {
          "read_only": false
        }
      },
      "source": [
        "*italicized text*# Tải và chuẩn bị dữ liệu <a id=\"2\"></a>"
      ]
    },
    {
      "cell_type": "markdown",
      "metadata": {
        "button": false,
        "deletable": true,
        "editable": true,
        "id": "FjE84ChWUfOE",
        "new_sheet": false,
        "run_control": {
          "read_only": false
        }
      },
      "source": [
        "*Nhập* các mô-đun cơ bản."
      ]
    },
    {
      "cell_type": "code",
      "execution_count": null,
      "metadata": {
        "button": false,
        "deletable": true,
        "editable": true,
        "id": "lAWhmTcvUfOF",
        "new_sheet": false,
        "run_control": {
          "read_only": false
        }
      },
      "outputs": [],
      "source": [
        "import numpy as np  # useful for many scientific computing in Python\n",
        "import pandas as pd  # primary data structure library"
      ]
    },
    {
      "cell_type": "markdown",
      "metadata": {
        "button": false,
        "deletable": true,
        "editable": true,
        "id": "Xa0MrrNBUfOF",
        "new_sheet": false,
        "run_control": {
          "read_only": false
        }
      },
      "source": [
        "Hãy tải xuống và nhập tập dữ liệu Canadian Immigration chính của chúng ta bằng cách sử dụng phương thức *pandas* `read_excel()`. Thông thường, trước khi chúng ta có thể làm điều đó, chúng ta cần tải xuống một mô-đun mà *pandas* yêu cầu để đọc trong tệp excel. Mô-đun này là **xlrd**. Để thuận tiện, chúng tôi đã cài đặt sẵn mô-đun này, vì vậy bạn sẽ không phải lo lắng về điều đó. Nếu không, bạn sẽ cần chạy dòng code sau để cài đặt mô-đun **xlrd**:\n",
        "```\n",
        "!conda install -c anaconda xlrd --yes\n",
        "```"
      ]
    },
    {
      "cell_type": "markdown",
      "metadata": {
        "button": false,
        "deletable": true,
        "editable": true,
        "id": "JA5X2iu4UfOF",
        "new_sheet": false,
        "run_control": {
          "read_only": false
        }
      },
      "source": [
        "*Tải* tập dữ liệu và đọc nó trong khung dữ liệu *pandas*."
      ]
    },
    {
      "cell_type": "code",
      "execution_count": null,
      "metadata": {
        "button": false,
        "deletable": true,
        "editable": true,
        "id": "8v5fxeLJUfOG",
        "new_sheet": false,
        "run_control": {
          "read_only": false
        },
        "outputId": "2507fe03-3b10-4c45-e485-0cf09fea4230"
      },
      "outputs": [
        {
          "name": "stdout",
          "output_type": "stream",
          "text": [
            "Data downloaded and read into a dataframe!\n"
          ]
        }
      ],
      "source": [
        "df_can = pd.read_excel(\n",
        "    \"https://s3-api.us-geo.objectstorage.softlayer.net/cf-courses-data/CognitiveClass/DV0101EN/labs/Data_Files/Canada.xlsx\",\n",
        "    sheet_name=\"Canada by Citizenship\",\n",
        "    skiprows=range(20),\n",
        "    skipfooter=2,\n",
        ")\n",
        "\n",
        "print(\"Data downloaded and read into a dataframe!\")"
      ]
    },
    {
      "cell_type": "markdown",
      "metadata": {
        "button": false,
        "deletable": true,
        "editable": true,
        "id": "WGUtrCbJUfOG",
        "new_sheet": false,
        "run_control": {
          "read_only": false
        }
      },
      "source": [
        "Hãy nhìn vào 5 item đầu tiên trong tập dữ liệu của chúng ta."
      ]
    },
    {
      "cell_type": "code",
      "execution_count": null,
      "metadata": {
        "button": false,
        "deletable": true,
        "editable": true,
        "id": "suvTttm0UfOG",
        "new_sheet": false,
        "run_control": {
          "read_only": false
        },
        "outputId": "5e5953ce-14c9-4a26-b853-161627ab2ba4"
      },
      "outputs": [
        {
          "data": {
            "text/html": [
              "<div>\n",
              "<style scoped>\n",
              "    .dataframe tbody tr th:only-of-type {\n",
              "        vertical-align: middle;\n",
              "    }\n",
              "\n",
              "    .dataframe tbody tr th {\n",
              "        vertical-align: top;\n",
              "    }\n",
              "\n",
              "    .dataframe thead th {\n",
              "        text-align: right;\n",
              "    }\n",
              "</style>\n",
              "<table border=\"1\" class=\"dataframe\">\n",
              "  <thead>\n",
              "    <tr style=\"text-align: right;\">\n",
              "      <th></th>\n",
              "      <th>Type</th>\n",
              "      <th>Coverage</th>\n",
              "      <th>OdName</th>\n",
              "      <th>AREA</th>\n",
              "      <th>AreaName</th>\n",
              "      <th>REG</th>\n",
              "      <th>RegName</th>\n",
              "      <th>DEV</th>\n",
              "      <th>DevName</th>\n",
              "      <th>1980</th>\n",
              "      <th>...</th>\n",
              "      <th>2004</th>\n",
              "      <th>2005</th>\n",
              "      <th>2006</th>\n",
              "      <th>2007</th>\n",
              "      <th>2008</th>\n",
              "      <th>2009</th>\n",
              "      <th>2010</th>\n",
              "      <th>2011</th>\n",
              "      <th>2012</th>\n",
              "      <th>2013</th>\n",
              "    </tr>\n",
              "  </thead>\n",
              "  <tbody>\n",
              "    <tr>\n",
              "      <th>0</th>\n",
              "      <td>Immigrants</td>\n",
              "      <td>Foreigners</td>\n",
              "      <td>Afghanistan</td>\n",
              "      <td>935</td>\n",
              "      <td>Asia</td>\n",
              "      <td>5501</td>\n",
              "      <td>Southern Asia</td>\n",
              "      <td>902</td>\n",
              "      <td>Developing regions</td>\n",
              "      <td>16</td>\n",
              "      <td>...</td>\n",
              "      <td>2978</td>\n",
              "      <td>3436</td>\n",
              "      <td>3009</td>\n",
              "      <td>2652</td>\n",
              "      <td>2111</td>\n",
              "      <td>1746</td>\n",
              "      <td>1758</td>\n",
              "      <td>2203</td>\n",
              "      <td>2635</td>\n",
              "      <td>2004</td>\n",
              "    </tr>\n",
              "    <tr>\n",
              "      <th>1</th>\n",
              "      <td>Immigrants</td>\n",
              "      <td>Foreigners</td>\n",
              "      <td>Albania</td>\n",
              "      <td>908</td>\n",
              "      <td>Europe</td>\n",
              "      <td>925</td>\n",
              "      <td>Southern Europe</td>\n",
              "      <td>901</td>\n",
              "      <td>Developed regions</td>\n",
              "      <td>1</td>\n",
              "      <td>...</td>\n",
              "      <td>1450</td>\n",
              "      <td>1223</td>\n",
              "      <td>856</td>\n",
              "      <td>702</td>\n",
              "      <td>560</td>\n",
              "      <td>716</td>\n",
              "      <td>561</td>\n",
              "      <td>539</td>\n",
              "      <td>620</td>\n",
              "      <td>603</td>\n",
              "    </tr>\n",
              "    <tr>\n",
              "      <th>2</th>\n",
              "      <td>Immigrants</td>\n",
              "      <td>Foreigners</td>\n",
              "      <td>Algeria</td>\n",
              "      <td>903</td>\n",
              "      <td>Africa</td>\n",
              "      <td>912</td>\n",
              "      <td>Northern Africa</td>\n",
              "      <td>902</td>\n",
              "      <td>Developing regions</td>\n",
              "      <td>80</td>\n",
              "      <td>...</td>\n",
              "      <td>3616</td>\n",
              "      <td>3626</td>\n",
              "      <td>4807</td>\n",
              "      <td>3623</td>\n",
              "      <td>4005</td>\n",
              "      <td>5393</td>\n",
              "      <td>4752</td>\n",
              "      <td>4325</td>\n",
              "      <td>3774</td>\n",
              "      <td>4331</td>\n",
              "    </tr>\n",
              "    <tr>\n",
              "      <th>3</th>\n",
              "      <td>Immigrants</td>\n",
              "      <td>Foreigners</td>\n",
              "      <td>American Samoa</td>\n",
              "      <td>909</td>\n",
              "      <td>Oceania</td>\n",
              "      <td>957</td>\n",
              "      <td>Polynesia</td>\n",
              "      <td>902</td>\n",
              "      <td>Developing regions</td>\n",
              "      <td>0</td>\n",
              "      <td>...</td>\n",
              "      <td>0</td>\n",
              "      <td>0</td>\n",
              "      <td>1</td>\n",
              "      <td>0</td>\n",
              "      <td>0</td>\n",
              "      <td>0</td>\n",
              "      <td>0</td>\n",
              "      <td>0</td>\n",
              "      <td>0</td>\n",
              "      <td>0</td>\n",
              "    </tr>\n",
              "    <tr>\n",
              "      <th>4</th>\n",
              "      <td>Immigrants</td>\n",
              "      <td>Foreigners</td>\n",
              "      <td>Andorra</td>\n",
              "      <td>908</td>\n",
              "      <td>Europe</td>\n",
              "      <td>925</td>\n",
              "      <td>Southern Europe</td>\n",
              "      <td>901</td>\n",
              "      <td>Developed regions</td>\n",
              "      <td>0</td>\n",
              "      <td>...</td>\n",
              "      <td>0</td>\n",
              "      <td>0</td>\n",
              "      <td>1</td>\n",
              "      <td>1</td>\n",
              "      <td>0</td>\n",
              "      <td>0</td>\n",
              "      <td>0</td>\n",
              "      <td>0</td>\n",
              "      <td>1</td>\n",
              "      <td>1</td>\n",
              "    </tr>\n",
              "  </tbody>\n",
              "</table>\n",
              "<p>5 rows × 43 columns</p>\n",
              "</div>"
            ],
            "text/plain": [
              "         Type    Coverage          OdName  AREA AreaName   REG  \\\n",
              "0  Immigrants  Foreigners     Afghanistan   935     Asia  5501   \n",
              "1  Immigrants  Foreigners         Albania   908   Europe   925   \n",
              "2  Immigrants  Foreigners         Algeria   903   Africa   912   \n",
              "3  Immigrants  Foreigners  American Samoa   909  Oceania   957   \n",
              "4  Immigrants  Foreigners         Andorra   908   Europe   925   \n",
              "\n",
              "           RegName  DEV             DevName  1980  ...  2004  2005  2006  \\\n",
              "0    Southern Asia  902  Developing regions    16  ...  2978  3436  3009   \n",
              "1  Southern Europe  901   Developed regions     1  ...  1450  1223   856   \n",
              "2  Northern Africa  902  Developing regions    80  ...  3616  3626  4807   \n",
              "3        Polynesia  902  Developing regions     0  ...     0     0     1   \n",
              "4  Southern Europe  901   Developed regions     0  ...     0     0     1   \n",
              "\n",
              "   2007  2008  2009  2010  2011  2012  2013  \n",
              "0  2652  2111  1746  1758  2203  2635  2004  \n",
              "1   702   560   716   561   539   620   603  \n",
              "2  3623  4005  5393  4752  4325  3774  4331  \n",
              "3     0     0     0     0     0     0     0  \n",
              "4     1     0     0     0     0     1     1  \n",
              "\n",
              "[5 rows x 43 columns]"
            ]
          },
          "execution_count": 3,
          "metadata": {},
          "output_type": "execute_result"
        }
      ],
      "source": [
        "df_can.head()"
      ]
    },
    {
      "cell_type": "markdown",
      "metadata": {
        "button": false,
        "deletable": true,
        "editable": true,
        "id": "XeTVyzwTUfOG",
        "new_sheet": false,
        "run_control": {
          "read_only": false
        }
      },
      "source": [
        "Hãy tìm ra có bao nhiêu mục nhập trong tập dữ liệu."
      ]
    },
    {
      "cell_type": "code",
      "execution_count": null,
      "metadata": {
        "button": false,
        "deletable": true,
        "editable": true,
        "id": "WPllXQeaUfOH",
        "new_sheet": false,
        "run_control": {
          "read_only": false
        },
        "outputId": "c5b36f5d-8bd8-476e-acd2-58ae57556148"
      },
      "outputs": [
        {
          "name": "stdout",
          "output_type": "stream",
          "text": [
            "(195, 43)\n"
          ]
        }
      ],
      "source": [
        "# print the dimensions of the dataframe\n",
        "print(df_can.shape)"
      ]
    },
    {
      "cell_type": "markdown",
      "metadata": {
        "button": false,
        "deletable": true,
        "editable": true,
        "id": "otfmpiQDUfOH",
        "new_sheet": false,
        "run_control": {
          "read_only": false
        }
      },
      "source": [
        "Dọn dẹp dữ liệu. Chúng ta sẽ tạo một số thay đổi đối với tập dữ liệu gốc để dễ tạo các hình ảnh trực quan hơn. Tham khảo *Introduction to Matplotlib and Line Plots* và *Area Plots, Histograms, and Bar Plots* để biết thêm mô tả hi tiết về quá trình xử lý."
      ]
    },
    {
      "cell_type": "code",
      "execution_count": null,
      "metadata": {
        "button": false,
        "deletable": true,
        "editable": true,
        "id": "m4pTUKCMUfOH",
        "new_sheet": false,
        "run_control": {
          "read_only": false
        }
      },
      "outputs": [],
      "source": [
        "# clean up the dataset to remove unnecessary columns (eg. REG)\n",
        "df_can.drop([\"AREA\", \"REG\", \"DEV\", \"Type\", \"Coverage\"], axis=1, inplace=True)\n",
        "\n",
        "# let's rename the columns so that they make sense\n",
        "df_can.rename(\n",
        "    columns={\"OdName\": \"Country\", \"AreaName\": \"Continent\", \"RegName\": \"Region\"},\n",
        "    inplace=True,\n",
        ")\n",
        "\n",
        "# for sake of consistency, let's also make all column labels of type string\n",
        "df_can.columns = list(map(str, df_can.columns))\n",
        "\n",
        "# set the country name as index - useful for quickly looking up countries using .loc method\n",
        "df_can.set_index(\"Country\", inplace=True)"
      ]
    },
    {
      "cell_type": "code",
      "execution_count": null,
      "metadata": {
        "id": "pDtMRiywxJ1_",
        "outputId": "a4e61f37-825a-42a8-8837-be10ca2449fd"
      },
      "outputs": [
        {
          "name": "stdout",
          "output_type": "stream",
          "text": [
            "data dimensions: (195, 38)\n"
          ]
        }
      ],
      "source": [
        "# add total column. need to convert into int64\n",
        "df_can[\"Total\"] = df_can.select_dtypes(\"int64\").sum(axis=1)\n",
        "\n",
        "# years that we will be using in this lesson - useful for plotting later on\n",
        "years = list(map(str, range(1980, 2014)))\n",
        "print(\"data dimensions:\", df_can.shape)"
      ]
    },
    {
      "cell_type": "markdown",
      "metadata": {
        "button": false,
        "deletable": true,
        "editable": true,
        "id": "1bLObnVCUfOH",
        "new_sheet": false,
        "run_control": {
          "read_only": false
        }
      },
      "source": [
        "\n",
        "\n",
        "```\n",
        "# This is formatted as code\n",
        "```\n",
        "\n",
        "# Trực quan hóa dữ liệu bằng Matplotlib<a id=\"4\"></a>"
      ]
    },
    {
      "cell_type": "markdown",
      "metadata": {
        "button": false,
        "deletable": true,
        "editable": true,
        "id": "geT--zeFUfOI",
        "new_sheet": false,
        "run_control": {
          "read_only": false
        }
      },
      "source": [
        "Nhập `Matplotlib`."
      ]
    },
    {
      "cell_type": "code",
      "execution_count": null,
      "metadata": {
        "button": false,
        "colab": {
          "base_uri": "https://localhost:8080/"
        },
        "deletable": true,
        "editable": true,
        "id": "KKPNsSCwUfOI",
        "new_sheet": false,
        "outputId": "4236bd81-c7b0-4aae-cd8e-51ebfed1017e",
        "run_control": {
          "read_only": false
        }
      },
      "outputs": [
        {
          "name": "stdout",
          "output_type": "stream",
          "text": [
            "Matplotlib version:  3.7.2\n"
          ]
        }
      ],
      "source": [
        "%matplotlib inline\n",
        "\n",
        "import matplotlib as mpl\n",
        "import matplotlib.pyplot as plt\n",
        "\n",
        "mpl.style.use('ggplot') # optional: for ggplot-like style\n",
        "\n",
        "# check for latest version of Matplotlib\n",
        "print('Matplotlib version: ', mpl.__version__) # >= 2.0.0"
      ]
    },
    {
      "cell_type": "markdown",
      "metadata": {
        "button": false,
        "deletable": true,
        "editable": true,
        "id": "pSzy8sl5UfOI",
        "new_sheet": false,
        "run_control": {
          "read_only": false
        }
      },
      "source": [
        "**bold text**# Biểu đồ tròn <a id=\"6\"></a>\n",
        "\n",
        "`Biểu đồ tròn` là một đồ họa hình tròn hiển thị tỷ lệ số bằng cách chia hình tròn thành các lát theo tỷ lệ. Rất có thể bạn đã quen thuộc với biểu đồ hình tròn vì nó được sử dụng rộng rãi trong kinh doanh và truyền thông. Chúng ta có thể tạo biểu đồ hình tròn trong Matplotlib bằng cách truyền từ khóa `kind=pie`.\n",
        "\n",
        "Hãy sử dụng biểu đồ hình tròn để tìm hiểu tỷ lệ (phần trăm) của những người nhập cư mới được nhóm theo các châu lục trong toàn bộ khoảng thời gian từ 1980 đến 2013."
      ]
    },
    {
      "cell_type": "markdown",
      "metadata": {
        "button": false,
        "deletable": true,
        "editable": true,
        "id": "POAH5rxKUfOI",
        "new_sheet": false,
        "run_control": {
          "read_only": false
        }
      },
      "source": [
        "Bước 1: Thu thập dữ liệu.\n",
        "\n",
        "Chúng ta sẽ sử dụng phuwong thức *pandas* `groupby` để tổng kết dữ liệu về di cư theo `Continent`. Quá trình chung của `groupby` bao gồm các bước sau:\n",
        "\n",
        "1. **Split:** Tách dữ liệu ra thành các nhóm theo một vài tiêu chí.\n",
        "2. **Apply:** Áp dụng độc lập một hàm vào mỗi nhóm:\n",
        "       .sum()\n",
        "       .count()\n",
        "       .mean()\n",
        "       .std()\n",
        "       .aggregate()\n",
        "       .apply()\n",
        "       .etc..\n",
        "3. **Combine:** Kết hợp các kết quả thành một cấu trúc dữ liệu."
      ]
    },
    {
      "cell_type": "markdown",
      "metadata": {
        "button": false,
        "deletable": true,
        "id": "m_4fypOjUfOJ",
        "new_sheet": false,
        "run_control": {
          "read_only": false
        }
      },
      "source": [
        "<img src=\"https://s3-api.us-geo.objectstorage.softlayer.net/cf-courses-data/CognitiveClass/DV0101EN/labs/Images/Mod3Fig4SplitApplyCombine.png\" height=400 align=\"center\">"
      ]
    },
    {
      "cell_type": "code",
      "execution_count": null,
      "metadata": {
        "button": false,
        "deletable": true,
        "editable": true,
        "id": "YRqhs67aUfOJ",
        "new_sheet": false,
        "run_control": {
          "read_only": false
        },
        "scrolled": false,
        "outputId": "52027e9c-1160-41f5-d78a-58dcea52629f"
      },
      "outputs": [
        {
          "name": "stdout",
          "output_type": "stream",
          "text": [
            "<class 'pandas.core.groupby.generic.DataFrameGroupBy'>\n"
          ]
        },
        {
          "data": {
            "text/html": [
              "<div>\n",
              "<style scoped>\n",
              "    .dataframe tbody tr th:only-of-type {\n",
              "        vertical-align: middle;\n",
              "    }\n",
              "\n",
              "    .dataframe tbody tr th {\n",
              "        vertical-align: top;\n",
              "    }\n",
              "\n",
              "    .dataframe thead th {\n",
              "        text-align: right;\n",
              "    }\n",
              "</style>\n",
              "<table border=\"1\" class=\"dataframe\">\n",
              "  <thead>\n",
              "    <tr style=\"text-align: right;\">\n",
              "      <th></th>\n",
              "      <th>Region</th>\n",
              "      <th>DevName</th>\n",
              "      <th>1980</th>\n",
              "      <th>1981</th>\n",
              "      <th>1982</th>\n",
              "      <th>1983</th>\n",
              "      <th>1984</th>\n",
              "      <th>1985</th>\n",
              "      <th>1986</th>\n",
              "      <th>1987</th>\n",
              "      <th>...</th>\n",
              "      <th>2005</th>\n",
              "      <th>2006</th>\n",
              "      <th>2007</th>\n",
              "      <th>2008</th>\n",
              "      <th>2009</th>\n",
              "      <th>2010</th>\n",
              "      <th>2011</th>\n",
              "      <th>2012</th>\n",
              "      <th>2013</th>\n",
              "      <th>Total</th>\n",
              "    </tr>\n",
              "    <tr>\n",
              "      <th>Continent</th>\n",
              "      <th></th>\n",
              "      <th></th>\n",
              "      <th></th>\n",
              "      <th></th>\n",
              "      <th></th>\n",
              "      <th></th>\n",
              "      <th></th>\n",
              "      <th></th>\n",
              "      <th></th>\n",
              "      <th></th>\n",
              "      <th></th>\n",
              "      <th></th>\n",
              "      <th></th>\n",
              "      <th></th>\n",
              "      <th></th>\n",
              "      <th></th>\n",
              "      <th></th>\n",
              "      <th></th>\n",
              "      <th></th>\n",
              "      <th></th>\n",
              "      <th></th>\n",
              "    </tr>\n",
              "  </thead>\n",
              "  <tbody>\n",
              "    <tr>\n",
              "      <th>Africa</th>\n",
              "      <td>Northern AfricaMiddle AfricaWestern AfricaSout...</td>\n",
              "      <td>Developing regionsDeveloping regionsDeveloping...</td>\n",
              "      <td>3951</td>\n",
              "      <td>4363</td>\n",
              "      <td>3819</td>\n",
              "      <td>2671</td>\n",
              "      <td>2639</td>\n",
              "      <td>2650</td>\n",
              "      <td>3782</td>\n",
              "      <td>7494</td>\n",
              "      <td>...</td>\n",
              "      <td>27523</td>\n",
              "      <td>29188</td>\n",
              "      <td>28284</td>\n",
              "      <td>29890</td>\n",
              "      <td>34534</td>\n",
              "      <td>40892</td>\n",
              "      <td>35441</td>\n",
              "      <td>38083</td>\n",
              "      <td>38543</td>\n",
              "      <td>618948</td>\n",
              "    </tr>\n",
              "    <tr>\n",
              "      <th>Asia</th>\n",
              "      <td>Southern AsiaWestern AsiaWestern AsiaWestern A...</td>\n",
              "      <td>Developing regionsDeveloping regionsDeveloping...</td>\n",
              "      <td>31025</td>\n",
              "      <td>34314</td>\n",
              "      <td>30214</td>\n",
              "      <td>24696</td>\n",
              "      <td>27274</td>\n",
              "      <td>23850</td>\n",
              "      <td>28739</td>\n",
              "      <td>43203</td>\n",
              "      <td>...</td>\n",
              "      <td>159253</td>\n",
              "      <td>149054</td>\n",
              "      <td>133459</td>\n",
              "      <td>139894</td>\n",
              "      <td>141434</td>\n",
              "      <td>163845</td>\n",
              "      <td>146894</td>\n",
              "      <td>152218</td>\n",
              "      <td>155075</td>\n",
              "      <td>3317794</td>\n",
              "    </tr>\n",
              "    <tr>\n",
              "      <th>Europe</th>\n",
              "      <td>Southern EuropeSouthern EuropeWestern EuropeEa...</td>\n",
              "      <td>Developed regionsDeveloped regionsDeveloped re...</td>\n",
              "      <td>39760</td>\n",
              "      <td>44802</td>\n",
              "      <td>42720</td>\n",
              "      <td>24638</td>\n",
              "      <td>22287</td>\n",
              "      <td>20844</td>\n",
              "      <td>24370</td>\n",
              "      <td>46698</td>\n",
              "      <td>...</td>\n",
              "      <td>35955</td>\n",
              "      <td>33053</td>\n",
              "      <td>33495</td>\n",
              "      <td>34692</td>\n",
              "      <td>35078</td>\n",
              "      <td>33425</td>\n",
              "      <td>26778</td>\n",
              "      <td>29177</td>\n",
              "      <td>28691</td>\n",
              "      <td>1410947</td>\n",
              "    </tr>\n",
              "    <tr>\n",
              "      <th>Latin America and the Caribbean</th>\n",
              "      <td>CaribbeanSouth AmericaCaribbeanCaribbeanCentra...</td>\n",
              "      <td>Developing regionsDeveloping regionsDeveloping...</td>\n",
              "      <td>13081</td>\n",
              "      <td>15215</td>\n",
              "      <td>16769</td>\n",
              "      <td>15427</td>\n",
              "      <td>13678</td>\n",
              "      <td>15171</td>\n",
              "      <td>21179</td>\n",
              "      <td>28471</td>\n",
              "      <td>...</td>\n",
              "      <td>24747</td>\n",
              "      <td>24676</td>\n",
              "      <td>26011</td>\n",
              "      <td>26547</td>\n",
              "      <td>26867</td>\n",
              "      <td>28818</td>\n",
              "      <td>27856</td>\n",
              "      <td>27173</td>\n",
              "      <td>24950</td>\n",
              "      <td>765148</td>\n",
              "    </tr>\n",
              "    <tr>\n",
              "      <th>Northern America</th>\n",
              "      <td>Northern AmericaNorthern America</td>\n",
              "      <td>Developed regionsDeveloped regions</td>\n",
              "      <td>9378</td>\n",
              "      <td>10030</td>\n",
              "      <td>9074</td>\n",
              "      <td>7100</td>\n",
              "      <td>6661</td>\n",
              "      <td>6543</td>\n",
              "      <td>7074</td>\n",
              "      <td>7705</td>\n",
              "      <td>...</td>\n",
              "      <td>8394</td>\n",
              "      <td>9613</td>\n",
              "      <td>9463</td>\n",
              "      <td>10190</td>\n",
              "      <td>8995</td>\n",
              "      <td>8142</td>\n",
              "      <td>7677</td>\n",
              "      <td>7892</td>\n",
              "      <td>8503</td>\n",
              "      <td>241142</td>\n",
              "    </tr>\n",
              "  </tbody>\n",
              "</table>\n",
              "<p>5 rows × 37 columns</p>\n",
              "</div>"
            ],
            "text/plain": [
              "                                                                            Region  \\\n",
              "Continent                                                                            \n",
              "Africa                           Northern AfricaMiddle AfricaWestern AfricaSout...   \n",
              "Asia                             Southern AsiaWestern AsiaWestern AsiaWestern A...   \n",
              "Europe                           Southern EuropeSouthern EuropeWestern EuropeEa...   \n",
              "Latin America and the Caribbean  CaribbeanSouth AmericaCaribbeanCaribbeanCentra...   \n",
              "Northern America                                  Northern AmericaNorthern America   \n",
              "\n",
              "                                                                           DevName  \\\n",
              "Continent                                                                            \n",
              "Africa                           Developing regionsDeveloping regionsDeveloping...   \n",
              "Asia                             Developing regionsDeveloping regionsDeveloping...   \n",
              "Europe                           Developed regionsDeveloped regionsDeveloped re...   \n",
              "Latin America and the Caribbean  Developing regionsDeveloping regionsDeveloping...   \n",
              "Northern America                                Developed regionsDeveloped regions   \n",
              "\n",
              "                                  1980   1981   1982   1983   1984   1985  \\\n",
              "Continent                                                                   \n",
              "Africa                            3951   4363   3819   2671   2639   2650   \n",
              "Asia                             31025  34314  30214  24696  27274  23850   \n",
              "Europe                           39760  44802  42720  24638  22287  20844   \n",
              "Latin America and the Caribbean  13081  15215  16769  15427  13678  15171   \n",
              "Northern America                  9378  10030   9074   7100   6661   6543   \n",
              "\n",
              "                                  1986   1987  ...    2005    2006    2007  \\\n",
              "Continent                                      ...                           \n",
              "Africa                            3782   7494  ...   27523   29188   28284   \n",
              "Asia                             28739  43203  ...  159253  149054  133459   \n",
              "Europe                           24370  46698  ...   35955   33053   33495   \n",
              "Latin America and the Caribbean  21179  28471  ...   24747   24676   26011   \n",
              "Northern America                  7074   7705  ...    8394    9613    9463   \n",
              "\n",
              "                                   2008    2009    2010    2011    2012  \\\n",
              "Continent                                                                 \n",
              "Africa                            29890   34534   40892   35441   38083   \n",
              "Asia                             139894  141434  163845  146894  152218   \n",
              "Europe                            34692   35078   33425   26778   29177   \n",
              "Latin America and the Caribbean   26547   26867   28818   27856   27173   \n",
              "Northern America                  10190    8995    8142    7677    7892   \n",
              "\n",
              "                                   2013    Total  \n",
              "Continent                                         \n",
              "Africa                            38543   618948  \n",
              "Asia                             155075  3317794  \n",
              "Europe                            28691  1410947  \n",
              "Latin America and the Caribbean   24950   765148  \n",
              "Northern America                   8503   241142  \n",
              "\n",
              "[5 rows x 37 columns]"
            ]
          },
          "execution_count": 8,
          "metadata": {},
          "output_type": "execute_result"
        }
      ],
      "source": [
        "# group countries by continents and apply sum() function\n",
        "df_continents = df_can.groupby(\"Continent\", axis=0).sum()\n",
        "\n",
        "# note: the output of the groupby method is a `groupby' object.\n",
        "# we can not use it further until we apply a function (eg .sum())\n",
        "print(type(df_can.groupby(\"Continent\", axis=0)))\n",
        "\n",
        "df_continents.head()"
      ]
    },
    {
      "cell_type": "markdown",
      "metadata": {
        "button": false,
        "deletable": true,
        "editable": true,
        "id": "ZMGl-QB7UfOJ",
        "new_sheet": false,
        "run_control": {
          "read_only": false
        }
      },
      "source": [
        "Bước 2: Trình bày dữ liệu bằng biểu đồ. Chúng ta sẽ truyền từ khóa `kind = 'pie'`, cùng với các tham số bổ sung sau:\n",
        "- `autopct` -  là một xâu kí tự hay hàm dùng để dán nhãn các nêm (wedge) với giá trị số của chúng. Nhãn sẽ được đặt bên trong nêm. Nếu nó ở dạng xâu lí tự, nhãn sẽ là `fmt%pct`.\n",
        "- `startangle` - xoay điểm khởi đầu của biểu đồ tròn theo độ góc ngược chiều kim đồng hồ so với trục x.\n",
        "- `shadow` - Vẽ bóng dưới biểu đồ tròn (để tạo cảm giác 3D)."
      ]
    },
    {
      "cell_type": "code",
      "execution_count": null,
      "metadata": {
        "button": false,
        "deletable": true,
        "editable": true,
        "id": "nz85BV_iUfOK",
        "new_sheet": false,
        "run_control": {
          "read_only": false
        },
        "outputId": "3b00bcb0-c392-4d14-84f0-e5fa021944ee"
      },
      "outputs": [
        {
          "data": {
            "image/png": "[encoded data removed]",
            "text/plain": [
              "<Figure size 500x600 with 1 Axes>"
            ]
          },
          "metadata": {},
          "output_type": "display_data"
        }
      ],
      "source": [
        "# autopct create %, start angle represent starting point\n",
        "df_continents[\"Total\"].plot(\n",
        "    kind=\"pie\",\n",
        "    figsize=(5, 6),\n",
        "    autopct=\"%1.1f%%\",  # add in percentages\n",
        "    startangle=90,  # start angle 90° (Africa)\n",
        "    shadow=True,  # add shadow\n",
        ")\n",
        "\n",
        "plt.title(\"Immigration to Canada by Continent [1980 - 2013]\")\n",
        "plt.axis(\"equal\")  # Sets the pie chart to look like a circle.\n",
        "\n",
        "plt.show()"
      ]
    },
    {
      "cell_type": "markdown",
      "metadata": {
        "button": false,
        "deletable": true,
        "editable": true,
        "id": "r6NiQR8TUfOK",
        "new_sheet": false,
        "run_control": {
          "read_only": false
        }
      },
      "source": [
        "\n",
        "\n",
        "```\n",
        "# This is formatted as code\n",
        "```\n",
        "\n",
        "Hình ảnh trên không được rõ ràng lắm, trong một số trường hợp, các con số và văn bản trùng lặp. Hãy thực hiện một số sửa đổi để cải thiện hình ảnh:\n",
        "\n",
        "* Loại bỏ các nhãn văn bản trên biểu đồ tròn bằng cách truyền vào `legend` và thêm một legend riêng biệt bằng cách sử dụng `plt.legend()`.\n",
        "* Đẩy tỷ lệ phần trăm để nằm ngay bên ngoài biểu đồ hình tròn bằng cách chuyển vào tham số `pctdistance`.\n",
        "* Truyền một tập hợp màu tùy chỉnh cho các lục địa bằng cách truyền vào tham số `colors`.\n",
        "* **Khám phá** biểu đồ tròn để nhấn mạnh 3 lục địa với tỉ lệ nhỏ nhất (Châu Phi, Bắc Mĩ, Mỹ La Tinh và vùng Ca-ri-bê) bằng cách truyền vào tham số `explode`.\n"
      ]
    },
    {
      "cell_type": "code",
      "execution_count": null,
      "metadata": {
        "button": false,
        "deletable": true,
        "id": "ZdOuWt89UfOK",
        "new_sheet": false,
        "run_control": {
          "read_only": false
        },
        "outputId": "d78eb166-968b-4c35-fca8-fc438d5553f2"
      },
      "outputs": [
        {
          "data": {
            "image/png": "[encoded data removed]",
            "text/plain": [
              "<Figure size 1500x600 with 1 Axes>"
            ]
          },
          "metadata": {},
          "output_type": "display_data"
        }
      ],
      "source": [
        "colors_list = [\n",
        "    \"gold\",\n",
        "    \"yellowgreen\",\n",
        "    \"lightcoral\",\n",
        "    \"lightskyblue\",\n",
        "    \"lightgreen\",\n",
        "    \"pink\",\n",
        "]\n",
        "explode_list = [\n",
        "    0.1,\n",
        "    0,\n",
        "    0,\n",
        "    0,\n",
        "    0.1,\n",
        "    0.1,\n",
        "]  # ratio for each continent with which to offset each wedge.\n",
        "\n",
        "df_continents[\"Total\"].plot(\n",
        "    kind=\"pie\",\n",
        "    figsize=(15, 6),\n",
        "    autopct=\"%1.1f%%\",\n",
        "    startangle=90,\n",
        "    shadow=True,\n",
        "    labels=None,  # turn off labels on pie chart\n",
        "    pctdistance=1.12,  # the ratio between the center of each pie slice and the start of the text generated by autopct\n",
        "    colors=colors_list,  # add custom colors\n",
        "    explode=explode_list,  # 'explode' lowest 3 continents\n",
        ")\n",
        "\n",
        "# scale the title up by 12% to match pctdistance\n",
        "plt.title(\"Immigration to Canada by Continent [1980 - 2013]\", y=1.12)\n",
        "\n",
        "plt.axis(\"equal\")\n",
        "\n",
        "# add legend\n",
        "plt.legend(labels=df_continents.index, loc=\"upper left\")\n",
        "\n",
        "plt.show()"
      ]
    },
    {
      "cell_type": "markdown",
      "metadata": {
        "button": false,
        "deletable": true,
        "id": "_Ty9nV1qUfOL",
        "new_sheet": false,
        "run_control": {
          "read_only": false
        }
      },
      "source": [
        "**Câu hỏi:** Sử dụng biểu đồ tròn, hãy khám phá tỉ lệ (phần trăm) của những người di cư mới được nhóm theo lục địa vào năm 2013.\n",
        "\n",
        "**Lưu ý**: Bạn có thể cần thử với các giá trị khám phá để sửa bất kỳ giá trị lát chồng chéo nào."
      ]
    },
    {
      "cell_type": "code",
      "execution_count": null,
      "metadata": {
        "button": false,
        "deletable": true,
        "id": "HqiDOLXxUfOL",
        "new_sheet": false,
        "run_control": {
          "read_only": false
        },
        "outputId": "53e3a8ce-a663-454b-df6b-33f142727774"
      },
      "outputs": [
        {
          "data": {
            "image/png": "[encoded data removed]",
            "text/plain": [
              "<Figure size 1500x600 with 1 Axes>"
            ]
          },
          "metadata": {},
          "output_type": "display_data"
        }
      ],
      "source": [
        "# get the df_continents_2013\n",
        "df_continents_2013 = df_continents[\"2013\"]\n",
        "\n",
        "colors_list = [\n",
        "    \"gold\",\n",
        "    \"yellowgreen\",\n",
        "    \"lightcoral\",\n",
        "    \"lightskyblue\",\n",
        "    \"lightgreen\",\n",
        "    \"pink\",\n",
        "]\n",
        "explode_list = [\n",
        "    0.1,\n",
        "    0,\n",
        "    0,\n",
        "    0,\n",
        "    0.1,\n",
        "    0.1,\n",
        "]  # ratio for each continent with which to offset each wedge.\n",
        "\n",
        "df_continents_2013.plot(\n",
        "    kind=\"pie\",\n",
        "    figsize=(15, 6),\n",
        "    autopct=\"%1.1f%%\",\n",
        "    startangle=90,\n",
        "    shadow=False,\n",
        "    labels=None,  # turn off labels on pie chart\n",
        "    pctdistance=1.12,  # the ratio between the center of each pie slice and the start of the text generated by autopct\n",
        "    colors=colors_list,  # add custom colors\n",
        "    explode=explode_list,  # 'explode' lowest 3 continents\n",
        ")\n",
        "\n",
        "# scale the title up by 12% to match pctdistance\n",
        "plt.title(\"Immigration to Canada by Continent in 2013\", y=1.12)\n",
        "\n",
        "plt.axis(\"equal\")\n",
        "\n",
        "# add legend\n",
        "plt.legend(labels=df_continents.index, loc=\"upper left\")\n",
        "\n",
        "plt.show()"
      ]
    },
    {
      "cell_type": "markdown",
      "metadata": {
        "button": false,
        "deletable": true,
        "id": "MWZqDKKNUfOL",
        "new_sheet": false,
        "run_control": {
          "read_only": false
        }
      },
      "source": [
        "**Nhấn đúp** __vào đây__ để xem đáp án.\n",
        "<!-- The correct answer is:\n",
        "explode_list = [0.1, 0, 0, 0, 0.1, 0.2] # ratio for each continent with which to offset each wedge.\n",
        "-->\n",
        "\n",
        "<!--\n",
        "df_continents['2013'].plot(kind='pie',\n",
        "                            figsize=(15, 6),\n",
        "                            autopct='%1.1f%%',\n",
        "                            startangle=90,    \n",
        "                            shadow=True,       \n",
        "                            labels=None,                 # turn off labels on pie chart\n",
        "                            pctdistance=1.12,            # the ratio between the pie center and start of text label\n",
        "                            explode=explode_list         # 'explode' lowest 3 continents\n",
        "                            )\n",
        "-->\n",
        "\n",
        "<!--\n",
        "\\\\ # scale the title up by 12% to match pctdistance\n",
        "plt.title('Immigration to Canada by Continent in 2013', y=1.12)\n",
        "plt.axis('equal')\n",
        "-->\n",
        "\n",
        "<!--\n",
        "\\\\ # add legend\n",
        "plt.legend(labels=df_continents.index, loc='upper left')\n",
        "-->\n",
        "\n",
        "<!--\n",
        "\\\\ # show plot\n",
        "plt.show()\n",
        "-->"
      ]
    },
    {
      "cell_type": "markdown",
      "metadata": {
        "button": false,
        "deletable": true,
        "editable": true,
        "id": "o6P2ZuF9UfOM",
        "new_sheet": false,
        "run_control": {
          "read_only": false
        }
      },
      "source": [
        "# Biểu đồ hộp <a id=\"8\"></a>\n",
        "\n",
        "`Biểu đồ hộp` là cách biểu diễn về mặt thống kê về *sự phân bố* dữ liệu thông qua 5 chiều:\n",
        "\n",
        "- **Minimun:** Số nhỏ nhất trong tập dữ liệu.\n",
        "- **First quartile:** số nằm giữa `minimum` và `median`.\n",
        "- **Second quartile (Median):** số nằm giữa tập dữ liệu (đã được sắp xếp).\n",
        "- **Third quartile:** số nằm giữa `median` và `maximum`.\n",
        "- **Maximum:** số lớn nhất trong tập dữ liệu."
      ]
    },
    {
      "cell_type": "markdown",
      "metadata": {
        "button": false,
        "deletable": true,
        "editable": true,
        "id": "jta69-4HUfOM",
        "new_sheet": false,
        "run_control": {
          "read_only": false
        }
      },
      "source": [
        "<img src=\"https://s3-api.us-geo.objectstorage.softlayer.net/cf-courses-data/CognitiveClass/DV0101EN/labs/Images/boxplot_complete.png\" width=440, align=\"center\">"
      ]
    },
    {
      "cell_type": "markdown",
      "metadata": {
        "button": false,
        "deletable": true,
        "editable": true,
        "id": "VY7XnCAHUfOM",
        "new_sheet": false,
        "run_control": {
          "read_only": false
        }
      },
      "source": [
        "Để tạo `box plot`, chúng ta có thể sử dụng `kind=box` trong phương thức `plot` được gọi trên *pandas* series hoặc dataframe.\n",
        "\n",
        "Hãy vẽ biểu đồ hộp cho những người nhập cư Nhật Bản trong giai đoạn 1980-2013."
      ]
    },
    {
      "cell_type": "markdown",
      "metadata": {
        "button": false,
        "deletable": true,
        "editable": true,
        "id": "wYcbDuGTUfOQ",
        "new_sheet": false,
        "run_control": {
          "read_only": false
        }
      },
      "source": [
        "Bước 1: Lấy tập dữ liệu. Mặc dù chúng ta chỉ trích xuất dữ liệu cho một quốc gia, nhưng chúng ta vẫn lấy dữ liệu đó dưới dạng dataframe. Điều này sẽ giúp chúng ta gọi phương thức `dataframe.describe()` để xem các percentile."
      ]
    },
    {
      "cell_type": "code",
      "execution_count": null,
      "metadata": {
        "button": false,
        "deletable": true,
        "editable": true,
        "id": "RvEB_Pw3UfOQ",
        "new_sheet": false,
        "run_control": {
          "read_only": false
        },
        "outputId": "7201b1f5-1ecb-49d7-995b-e55eb395bd45"
      },
      "outputs": [
        {
          "data": {
            "text/html": [
              "<div>\n",
              "<style scoped>\n",
              "    .dataframe tbody tr th:only-of-type {\n",
              "        vertical-align: middle;\n",
              "    }\n",
              "\n",
              "    .dataframe tbody tr th {\n",
              "        vertical-align: top;\n",
              "    }\n",
              "\n",
              "    .dataframe thead th {\n",
              "        text-align: right;\n",
              "    }\n",
              "</style>\n",
              "<table border=\"1\" class=\"dataframe\">\n",
              "  <thead>\n",
              "    <tr style=\"text-align: right;\">\n",
              "      <th>Country</th>\n",
              "      <th>Japan</th>\n",
              "    </tr>\n",
              "  </thead>\n",
              "  <tbody>\n",
              "    <tr>\n",
              "      <th>1980</th>\n",
              "      <td>701</td>\n",
              "    </tr>\n",
              "    <tr>\n",
              "      <th>1981</th>\n",
              "      <td>756</td>\n",
              "    </tr>\n",
              "    <tr>\n",
              "      <th>1982</th>\n",
              "      <td>598</td>\n",
              "    </tr>\n",
              "    <tr>\n",
              "      <th>1983</th>\n",
              "      <td>309</td>\n",
              "    </tr>\n",
              "    <tr>\n",
              "      <th>1984</th>\n",
              "      <td>246</td>\n",
              "    </tr>\n",
              "  </tbody>\n",
              "</table>\n",
              "</div>"
            ],
            "text/plain": [
              "Country  Japan\n",
              "1980       701\n",
              "1981       756\n",
              "1982       598\n",
              "1983       309\n",
              "1984       246"
            ]
          },
          "execution_count": 13,
          "metadata": {},
          "output_type": "execute_result"
        }
      ],
      "source": [
        "# để có được dataframe, hãy cho 'Japan' vào trong dấu ngoặc vuông.\n",
        "df_japan = df_can.loc[[\"Japan\"], years].transpose()\n",
        "df_japan.head()"
      ]
    },
    {
      "cell_type": "markdown",
      "metadata": {
        "button": false,
        "deletable": true,
        "editable": true,
        "id": "BeFa4qXmUfOQ",
        "new_sheet": false,
        "run_control": {
          "read_only": false
        }
      },
      "source": [
        "Bước 2: Vẽ biểu đồ bằng cách truyền vào `kind='box'`."
      ]
    },
    {
      "cell_type": "code",
      "execution_count": null,
      "metadata": {
        "button": false,
        "deletable": true,
        "editable": true,
        "id": "raHEWOikUfOR",
        "new_sheet": false,
        "run_control": {
          "read_only": false
        },
        "outputId": "2ae96585-043c-49b5-dc95-10b98336607d"
      },
      "outputs": [
        {
          "data": {
            "image/png": "[encoded data removed]",
            "text/plain": [
              "<Figure size 800x600 with 1 Axes>"
            ]
          },
          "metadata": {},
          "output_type": "display_data"
        }
      ],
      "source": [
        "df_japan.plot(kind=\"box\", figsize=(8, 6))\n",
        "\n",
        "plt.title(\"Box plot of Japanese Immigrants from 1980 - 2013\")\n",
        "plt.ylabel(\"Number of Immigrants\")\n",
        "\n",
        "plt.show()"
      ]
    },
    {
      "cell_type": "markdown",
      "metadata": {
        "button": false,
        "deletable": true,
        "editable": true,
        "id": "Xb_htzsSUfOR",
        "new_sheet": false,
        "run_control": {
          "read_only": false
        }
      },
      "source": [
        "Ngay lập tức, chúng ta có thể đưa ra một vài nhận xét chính từ biểu đồ trên:\n",
        "1. Số lượng người nhập cư tối thiểu là khoảng 200 (min), số tối đa là khoảng 1300 (max) và trung bình là khoảng 900 (median).\n",
        "2. 25% các năm trong giai đoạn 1980 - 2013 có số lượng người nhập cư hàng năm ~500 hoặc ít hơn (Phần tư thứ nhất).\n",
        "2. 75% các năm trong giai đoạn 1980 - 2013 có số lượng người nhập cư hàng năm ~1100 người trở xuống (Phần tư thứ ba).\n",
        "\n",
        "Chúng ta có thể xem các con số thực tế bằng cách gọi phương thức `describe()` trên dataframe."
      ]
    },
    {
      "cell_type": "code",
      "execution_count": null,
      "metadata": {
        "button": false,
        "deletable": true,
        "editable": true,
        "id": "u-OV0jzoUfOR",
        "new_sheet": false,
        "run_control": {
          "read_only": false
        },
        "outputId": "354c4152-9f4e-4a66-e329-0af05f234028"
      },
      "outputs": [
        {
          "data": {
            "text/html": [
              "<div>\n",
              "<style scoped>\n",
              "    .dataframe tbody tr th:only-of-type {\n",
              "        vertical-align: middle;\n",
              "    }\n",
              "\n",
              "    .dataframe tbody tr th {\n",
              "        vertical-align: top;\n",
              "    }\n",
              "\n",
              "    .dataframe thead th {\n",
              "        text-align: right;\n",
              "    }\n",
              "</style>\n",
              "<table border=\"1\" class=\"dataframe\">\n",
              "  <thead>\n",
              "    <tr style=\"text-align: right;\">\n",
              "      <th>Country</th>\n",
              "      <th>Japan</th>\n",
              "    </tr>\n",
              "  </thead>\n",
              "  <tbody>\n",
              "    <tr>\n",
              "      <th>count</th>\n",
              "      <td>34.000000</td>\n",
              "    </tr>\n",
              "    <tr>\n",
              "      <th>mean</th>\n",
              "      <td>814.911765</td>\n",
              "    </tr>\n",
              "    <tr>\n",
              "      <th>std</th>\n",
              "      <td>337.219771</td>\n",
              "    </tr>\n",
              "    <tr>\n",
              "      <th>min</th>\n",
              "      <td>198.000000</td>\n",
              "    </tr>\n",
              "    <tr>\n",
              "      <th>25%</th>\n",
              "      <td>529.000000</td>\n",
              "    </tr>\n",
              "    <tr>\n",
              "      <th>50%</th>\n",
              "      <td>902.000000</td>\n",
              "    </tr>\n",
              "    <tr>\n",
              "      <th>75%</th>\n",
              "      <td>1079.000000</td>\n",
              "    </tr>\n",
              "    <tr>\n",
              "      <th>max</th>\n",
              "      <td>1284.000000</td>\n",
              "    </tr>\n",
              "  </tbody>\n",
              "</table>\n",
              "</div>"
            ],
            "text/plain": [
              "Country        Japan\n",
              "count      34.000000\n",
              "mean      814.911765\n",
              "std       337.219771\n",
              "min       198.000000\n",
              "25%       529.000000\n",
              "50%       902.000000\n",
              "75%      1079.000000\n",
              "max      1284.000000"
            ]
          },
          "execution_count": 15,
          "metadata": {},
          "output_type": "execute_result"
        }
      ],
      "source": [
        "df_japan.describe()"
      ]
    },
    {
      "cell_type": "markdown",
      "metadata": {
        "button": false,
        "deletable": true,
        "editable": true,
        "id": "szqal-y6UfOR",
        "new_sheet": false,
        "run_control": {
          "read_only": false
        }
      },
      "source": [
        "Một trong những lợi ích chính của biểu đồ hộp là có thể so sánh phân phối của nhiều tập dữ liệu. Ở một trong các lab trước đây, chúng ta đã thấy Trung Quốc và Ấn Độ có xu hướng nhập cư rất giống nhau. Hãy phân tích thêm hai quốc gia này bằng cách sử dụng biểu đồ hộp.\n",
        "\n",
        "**Câu hỏi:** So sánh sự phân bố số lượng người nhập cư mới từ Ấn Độ và Trung Quốc trong giai đoạn 1980-2013."
      ]
    },
    {
      "cell_type": "markdown",
      "metadata": {
        "button": false,
        "deletable": true,
        "editable": true,
        "id": "rNpyB0AzUfOR",
        "new_sheet": false,
        "run_control": {
          "read_only": false
        }
      },
      "source": [
        "Bước 1: Lấy tập dữ liệu cho Trung Quốc và Ấn Độ và dataframe **df_CI**."
      ]
    },
    {
      "cell_type": "code",
      "execution_count": null,
      "metadata": {
        "button": false,
        "deletable": true,
        "id": "azmha29nUfOR",
        "new_sheet": false,
        "run_control": {
          "read_only": false
        }
      },
      "outputs": [],
      "source": [
        "# take China and India data from df_can rows\n",
        "df_CI = pd.concat(\n",
        "    [df_can.loc[df_can.index.str.contains(\"China\")], df_can.loc[[\"India\"]]]\n",
        ")\n",
        "# this is a bit off topic, since the questions doesn't specifiy Mainland China\n",
        "# thus we need to include Hongkong and Macao as well, with its become the sum\n",
        "condition1 = df_can.index.str.contains(\"China\")\n",
        "\n",
        "condition2 = df_can.index.str.contains(\"India\")\n",
        "\n",
        "condition = condition1 | condition2\n",
        "\n",
        "df_CI = df_can.select_dtypes('int').loc[condition1].sum(axis=1)"
      ]
    },
    {
      "cell_type": "markdown",
      "metadata": {
        "button": false,
        "deletable": true,
        "id": "PD6Rd2PRUfOR",
        "new_sheet": false,
        "run_control": {
          "read_only": false
        }
      },
      "source": [
        "Nhấp đúp  __vào đây__ để xem lời giải.\n",
        "<!-- The correct answer is:\n",
        "df_CI= df_can.loc[['China', 'India'], years].transpose()\n",
        "df_CI.head()\n",
        "-->"
      ]
    },
    {
      "cell_type": "markdown",
      "metadata": {
        "button": false,
        "deletable": true,
        "id": "8pcpzi8NUfOR",
        "new_sheet": false,
        "run_control": {
          "read_only": false
        }
      },
      "source": [
        "Hãy xem tỷ lệ phần trăm được liên kết với cả hai quốc gia bằng phương thức `describe()`."
      ]
    },
    {
      "cell_type": "code",
      "execution_count": null,
      "metadata": {
        "button": false,
        "deletable": true,
        "id": "rCfQTOJdUfOS",
        "new_sheet": false,
        "run_control": {
          "read_only": false
        },
        "scrolled": true
      },
      "outputs": [],
      "source": [
        "### type your answer here"
      ]
    },
    {
      "cell_type": "markdown",
      "metadata": {
        "button": false,
        "deletable": true,
        "id": "rp0O0JYQUfOS",
        "new_sheet": false,
        "run_control": {
          "read_only": false
        }
      },
      "source": [
        "Nhấp đúp  __vào đây__ để xem lời giải.\n",
        "<!-- The correct answer is:\n",
        "df_CI.describe()\n",
        "-->"
      ]
    },
    {
      "cell_type": "markdown",
      "metadata": {
        "button": false,
        "deletable": true,
        "editable": true,
        "id": "Ymb4H52PUfOS",
        "new_sheet": false,
        "run_control": {
          "read_only": false
        }
      },
      "source": [
        "Bước 2: Vẽ biểu đồ"
      ]
    },
    {
      "cell_type": "code",
      "execution_count": null,
      "metadata": {
        "button": false,
        "deletable": true,
        "id": "3GzE56I8UfOS",
        "new_sheet": false,
        "run_control": {
          "read_only": false
        }
      },
      "outputs": [],
      "source": [
        "### type your answer here"
      ]
    },
    {
      "cell_type": "markdown",
      "metadata": {
        "button": false,
        "deletable": true,
        "id": "Cr32PYPfUfOS",
        "new_sheet": false,
        "run_control": {
          "read_only": false
        }
      },
      "source": [
        "Nhấp đúp  __vào đây__ để xem lời giải.\n",
        "<!-- The correct answer is:\n",
        "df_CI.plot(kind='box', figsize=(10, 7))\n",
        "-->\n",
        "\n",
        "<!--\n",
        "plt.title('Box plots of Immigrants from China and India (1980 - 2013)')\n",
        "plt.ylabel('Number of Immigrants')\n",
        "-->\n",
        "\n",
        "<!--\n",
        "plt.show()\n",
        "-->"
      ]
    },
    {
      "cell_type": "markdown",
      "metadata": {
        "button": false,
        "deletable": true,
        "editable": true,
        "id": "LOnGVWDWUfOS",
        "new_sheet": false,
        "run_control": {
          "read_only": false
        }
      },
      "source": [
        "Chúng ta có thể thấy rằng, mặc dù cả hai quốc gia đều có cùng dân số nhập cư trung bình (~20,000 người), nhưng phạm vi dân số nhập cư của Trung Quốc lại trải rộng hơn so với Ấn Độ. Dân số tối đa của Ấn Độ trong bất kỳ năm nào (36,210) đều thấp hơn khoảng 15% so với dân số tối đa từ Trung Quốc (42,584).\n"
      ]
    },
    {
      "cell_type": "markdown",
      "metadata": {
        "button": false,
        "deletable": true,
        "id": "U_M3LMvBUfOS",
        "new_sheet": false,
        "run_control": {
          "read_only": false
        }
      },
      "source": [
        "Nếu muốn tạo các đồ thị hộp ngang, bạn có thể truyền tham số `vert` trong hàm **plot**  và gán *False* cho nó. Bạn cũng có thể chỉ định một màu khác trong trường hợp bạn không muốn màu đỏ mặc định."
      ]
    },
    {
      "cell_type": "code",
      "execution_count": null,
      "metadata": {
        "button": false,
        "deletable": true,
        "id": "rFTjj4XpUfOT",
        "new_sheet": false,
        "run_control": {
          "read_only": false
        }
      },
      "outputs": [],
      "source": [
        "# horizontal box plots\n",
        "df_CI.plot(kind=\"box\", figsize=(10, 7), color=\"blue\", vert=False)\n",
        "\n",
        "plt.title(\"Box plots of Immigrants from China and India (1980 - 2013)\")\n",
        "plt.ylabel(\"Number of Immigrants\")\n",
        "\n",
        "plt.show()"
      ]
    },
    {
      "cell_type": "markdown",
      "metadata": {
        "button": false,
        "deletable": true,
        "editable": true,
        "id": "m8tkQ9AnUfOT",
        "new_sheet": false,
        "run_control": {
          "read_only": false
        }
      },
      "source": [
        "**Subplot**\n",
        "\n",
        "Thông thường, chúng ta muốn vẽ nhiều biểu đồ trong cùng một hình. Ví dụ: chúng ta có thể thực hiện so sánh song song giữa biểu đồ hộp với biểu đồ đường di cư của Trung Quốc và Ấn Độ.\n",
        "\n",
        "Để hiển thị nhiều biểu đồ với nhau, chúng ta có thể tạo một **`figure`** (canvas tổng thể) và chia nó thành các **`subplot`**, mỗi subplot chứa một biểu đồ. Với các **`subplot`**, chúng ta thường làm việc với **artist layer** thay vì **scripting layer**.\n",
        "\n",
        "Cú pháp điển hình như sau: <br>\n",
        "```python\n",
        "    fig = plt.figure() # create figure\n",
        "    ax = fig.add_subplot(nrows, ncols, plot_number) # create subplots\n",
        "```\n",
        "Trong đó:\n",
        "- `nrows` và `ncols` được sử dụng để chia tách figure theo ý muốn thành các trục phụ (`nrows` \\* `ncols`),\n",
        "- `plot_number` được sử dụng để xác định subplot cụ thể mà hàm này tạo ra trong notional grid. `plot_number` bắt đầu từ 1, tăng dần trên các hàng trước tiên và có max là `nrows` * `ncols` như hình dưới đây.\n",
        "\n",
        "<img src=\"https://s3-api.us-geo.objectstorage.softlayer.net/cf-courses-data/CognitiveClass/DV0101EN/labs/Images/Mod3Fig5Subplots_V2.png\" width=500 align=\"center\">"
      ]
    },
    {
      "cell_type": "markdown",
      "metadata": {
        "button": false,
        "deletable": true,
        "editable": true,
        "id": "eYSvy9OUUfOT",
        "new_sheet": false,
        "run_control": {
          "read_only": false
        }
      },
      "source": [
        "Sau đó, chúng ta có thể chỉ định subplot nào để đặt mỗi biểu đồ bằng cách truyền vào tham số `ax` trong phương thức `plot()` như sau:"
      ]
    },
    {
      "cell_type": "code",
      "execution_count": null,
      "metadata": {
        "button": false,
        "deletable": true,
        "editable": true,
        "id": "hjD2jhXTUfOT",
        "new_sheet": false,
        "run_control": {
          "read_only": false
        }
      },
      "outputs": [],
      "source": [
        "fig = plt.figure()  # create figure\n",
        "\n",
        "ax0 = fig.add_subplot(1, 2, 1)  # add subplot 1 (1 row, 2 columns, first plot)\n",
        "ax1 = fig.add_subplot(\n",
        "    1, 2, 2\n",
        ")  # add subplot 2 (1 row, 2 columns, second plot). See tip below**\n",
        "\n",
        "# Subplot 1: Box plot\n",
        "df_CI.plot(\n",
        "    kind=\"box\", color=\"blue\", vert=False, figsize=(20, 6), ax=ax0\n",
        ")  # add to subplot 1\n",
        "ax0.set_title(\"Box Plots of Immigrants from China and India (1980 - 2013)\")\n",
        "ax0.set_ylabel(\"Number of Immigrants\")\n",
        "ax0.set_xlabel(\"Countries\")\n",
        "\n",
        "# Subplot 2: Line plot\n",
        "df_CI.plot(kind=\"line\", figsize=(20, 6), ax=ax1)  # add to subplot 2\n",
        "ax1.set_title(\"Line Plots of Immigrants from China and India (1980 - 2013)\")\n",
        "ax1.set_ylabel(\"Number of Immigrants\")\n",
        "ax1.set_xlabel(\"Years\")\n",
        "\n",
        "plt.show()"
      ]
    },
    {
      "cell_type": "markdown",
      "metadata": {
        "button": false,
        "deletable": true,
        "editable": true,
        "id": "rhEZKheaUfOT",
        "new_sheet": false,
        "run_control": {
          "read_only": false
        }
      },
      "source": [
        "**Mẹo về quy ước subplot**\n",
        "\n",
        "Trong trường hợp khi `nrows`, `ncols` và `plot_number` đều nhỏ hơn 10, thì tồn tại một sự tiện lợi là có thể đưa ra 3 chữ số thay thế, trong đó hàng trăm đại diện cho `nrows`, hàng chục đại diện cho `ncols` và các đơn vị đại diện cho `plot_number`. Ví dụ:\n",
        "```python\n",
        "   subplot(211) == subplot(2, 1, 1)\n",
        "```\n",
        "tạo ra một trục phụ trong figure đại diện cho biểu đồ trên cùng (tức là biểu đồ đầu tiên) trong notional grid 2 hàng x 1 cột (thực tế không tồn tại lưới nào, nhưng về mặt khái niệm thì đây là cách subplot trả về được định vị)."
      ]
    },
    {
      "cell_type": "markdown",
      "metadata": {
        "button": false,
        "deletable": true,
        "editable": true,
        "id": "6IKmhQn6UfOT",
        "new_sheet": false,
        "run_control": {
          "read_only": false
        }
      },
      "source": [
        "Hãy thử cái gì đó cao cấp hơn một chút.\n",
        "\n",
        "Trước đó, chúng ta đã xác định 15 quốc gia hàng đầu dựa trên tổng số người nhập cư từ năm 1980-2013.\n",
        "\n",
        "**Câu hỏi:** Tạo một biểu đồ hộp để hình dung sự phân bố của 15 quốc gia hàng đầu (dựa trên tổng số người nhập cư) được nhóm theo các *thập kỷ* `1980s`, `1990s` và `2000s`."
      ]
    },
    {
      "cell_type": "markdown",
      "metadata": {
        "button": false,
        "deletable": true,
        "editable": true,
        "id": "8RDOkSVjUfOT",
        "new_sheet": false,
        "run_control": {
          "read_only": false
        }
      },
      "source": [
        "Bước 1: Lấy tập dữ liệu. Nhận 15 quốc gia hàng đầu dựa trên Tổng số người nhập cư. Đặt tên cho dataframe là **df_top15**."
      ]
    },
    {
      "cell_type": "code",
      "execution_count": null,
      "metadata": {
        "button": false,
        "deletable": true,
        "editable": true,
        "id": "3v1-bMj_UfOU",
        "new_sheet": false,
        "run_control": {
          "read_only": false
        },
        "scrolled": true
      },
      "outputs": [],
      "source": [
        "### type your answer here"
      ]
    },
    {
      "cell_type": "markdown",
      "metadata": {
        "button": false,
        "deletable": true,
        "id": "RztRlYHzUfOU",
        "new_sheet": false,
        "run_control": {
          "read_only": false
        }
      },
      "source": [
        "Nhấp đúp  __vào đây__ để xem lời giải.\n",
        "<!-- The correct answer is:\n",
        "df_top15 = df_can.sort_values(['Total'], ascending=False, axis=0).head(15)\n",
        "df_top15\n",
        "-->"
      ]
    },
    {
      "cell_type": "markdown",
      "metadata": {
        "button": false,
        "deletable": true,
        "id": "x1-0MQ2WUfOU",
        "new_sheet": false,
        "run_control": {
          "read_only": false
        }
      },
      "source": [
        "Bước 2: Tạo dataframe mới chứa tổng hợp cho mỗi thập kỷ. Cách để làm điều đó:\n",
        "   1. Tạo list tất cả các năm trong các thập kỷ 80, 90 và 00.\n",
        "   2. Cắt dataframe df_can ban đầu để tạo series cho mỗi thập kỷ và tổng hợp trong tất cả các năm cho mỗi quốc gia.\n",
        "   3. Hợp nhất ba series thành dataframe mới. Gọi dataframe của bạn là **new_df**."
      ]
    },
    {
      "cell_type": "code",
      "execution_count": null,
      "metadata": {
        "button": false,
        "deletable": true,
        "editable": true,
        "id": "dyI7X8SDUfOU",
        "new_sheet": false,
        "run_control": {
          "read_only": false
        },
        "scrolled": true
      },
      "outputs": [],
      "source": [
        "### type your answer here"
      ]
    },
    {
      "cell_type": "markdown",
      "metadata": {
        "button": false,
        "deletable": true,
        "id": "4PZksqBBUfOU",
        "new_sheet": false,
        "run_control": {
          "read_only": false
        }
      },
      "source": [
        "Nhấp đúp  __vào đây__ để xem lời giải.\n",
        "<!-- The correct answer is:\n",
        "\\\\ # create a list of all years in decades 80's, 90's, and 00's\n",
        "years_80s = list(map(str, range(1980, 1990)))\n",
        "years_90s = list(map(str, range(1990, 2000)))\n",
        "years_00s = list(map(str, range(2000, 2010)))\n",
        "-->\n",
        "\n",
        "<!--\n",
        "\\\\ # slice the original dataframe df_can to create a series for each decade\n",
        "df_80s = df_top15.loc[:, years_80s].sum(axis=1)\n",
        "df_90s = df_top15.loc[:, years_90s].sum(axis=1)\n",
        "df_00s = df_top15.loc[:, years_00s].sum(axis=1)\n",
        "-->\n",
        "\n",
        "<!--\n",
        "\\\\ # merge the three series into a new data frame\n",
        "new_df = pd.DataFrame({'1980s': df_80s, '1990s': df_90s, '2000s':df_00s})\n",
        "-->\n",
        "\n",
        "<!--\n",
        "\\\\ # display dataframe\n",
        "new_df.head()\n",
        "-->"
      ]
    },
    {
      "cell_type": "markdown",
      "metadata": {
        "button": false,
        "deletable": true,
        "id": "WXrbx1P3UfOU",
        "new_sheet": false,
        "run_control": {
          "read_only": false
        }
      },
      "source": [
        "Hãy tìm hiểu thêm về các thống kê được liên kết với dataframe bằng phương thức `describe()`."
      ]
    },
    {
      "cell_type": "code",
      "execution_count": null,
      "metadata": {
        "button": false,
        "deletable": true,
        "id": "8nOugSvPUfOU",
        "new_sheet": false,
        "run_control": {
          "read_only": false
        },
        "scrolled": true
      },
      "outputs": [],
      "source": [
        "### type your answer here"
      ]
    },
    {
      "cell_type": "markdown",
      "metadata": {
        "button": false,
        "deletable": true,
        "id": "HNoU5QbOUfOU",
        "new_sheet": false,
        "run_control": {
          "read_only": false
        }
      },
      "source": [
        "Nhấp đúp  __vào đây__ để xem lời giải.\n",
        "<!-- The correct answer is:\n",
        "new_df.describe()\n",
        "-->"
      ]
    },
    {
      "cell_type": "markdown",
      "metadata": {
        "button": false,
        "deletable": true,
        "id": "ScEzZzqtUfOV",
        "new_sheet": false,
        "run_control": {
          "read_only": false
        }
      },
      "source": [
        "Bước 3: Vẽ biểu đồ hộp."
      ]
    },
    {
      "cell_type": "code",
      "execution_count": null,
      "metadata": {
        "button": false,
        "deletable": true,
        "editable": true,
        "id": "6iP4yz3wUfOV",
        "new_sheet": false,
        "run_control": {
          "read_only": false
        },
        "scrolled": false
      },
      "outputs": [],
      "source": [
        "### type your answer here"
      ]
    },
    {
      "cell_type": "markdown",
      "metadata": {
        "button": false,
        "deletable": true,
        "id": "KSCqvfuaUfOV",
        "new_sheet": false,
        "run_control": {
          "read_only": false
        }
      },
      "source": [
        "Nhấp đúp  __vào đây__ để xem lời giải.\n",
        "<!-- The correct answer is:\n",
        "new_df.plot(kind='box', figsize=(10, 6))\n",
        "-->\n",
        "\n",
        "<!--\n",
        "plt.title('Immigration from top 15 countries for decades 80s, 90s and 2000s')\n",
        "-->\n",
        "\n",
        "<!--\n",
        "plt.show()\n",
        "-->"
      ]
    },
    {
      "cell_type": "markdown",
      "metadata": {
        "button": false,
        "deletable": true,
        "editable": true,
        "id": "DaEoJkomUfOV",
        "new_sheet": false,
        "run_control": {
          "read_only": false
        }
      },
      "source": [
        "Lưu ý: biểu đồ hộp khác với bảng tóm tắt đã tạo. Biểu đồ hộp quét dữ liệu và xác định các outlier (ngoại lai). Để trở thành outlier, giá trị dữ liệu phải:<br>\n",
        "* lớn hơn Q3 ít nhất 1.5 lần IQR hoặc,\n",
        "* nhỏ hơn Q1 ít nhất 1.5 lần IQR.\n",
        "\n",
        "Hãy coi thập kỷ 2000 làm ví dụ: <br>\n",
        "* Q1 (25%) = 36,101.5 <br>\n",
        "* Q3 (75%) = 105,505.5 <br>\n",
        "* IQR = Q3 - Q1 = 69,404 <br>\n",
        "\n",
        "Theo định nghĩa của outlier, bất kỳ giá trị nào lớn hơn Q3 x 1.5 lần IQR sẽ được gắn cờ là outlier.\n",
        "\n",
        "Outlier > 105,505.5 + (1.5 * 69,404) <br>\n",
        "Outlier > 209,611.5"
      ]
    },
    {
      "cell_type": "code",
      "execution_count": null,
      "metadata": {
        "button": false,
        "deletable": true,
        "editable": true,
        "id": "quBCsnc0UfOV",
        "new_sheet": false,
        "run_control": {
          "read_only": false
        },
        "scrolled": true
      },
      "outputs": [],
      "source": [
        "# let's check how many entries fall above the outlier threshold\n",
        "new_df[new_df[\"2000s\"] > 209611.5]"
      ]
    },
    {
      "cell_type": "markdown",
      "metadata": {
        "button": false,
        "deletable": true,
        "editable": true,
        "id": "hLEnMA3aUfOV",
        "new_sheet": false,
        "run_control": {
          "read_only": false
        }
      },
      "source": [
        "Trung Quốc và Ấn Độ đều được coi là outlier vì dân số của họ trong thập kỷ vượt quá 209,611.5.\n",
        "\n",
        "Biểu đồ hộp là một công cụ trực quan hóa nâng cao, có nhiều tùy chọn và tùy chỉnh vượt quá phạm vi của lab này. Vui lòng tham khảo [tài liệu Matplotlib](http://matplotlib.org/api/pyplot_api.html#matplotlib.pyplot.boxplot) về biểu đồ hộp để biết thêm thông tin."
      ]
    },
    {
      "cell_type": "markdown",
      "metadata": {
        "button": false,
        "deletable": true,
        "editable": true,
        "id": "vvL-gl-xUfOV",
        "new_sheet": false,
        "run_control": {
          "read_only": false
        }
      },
      "source": [
        "# Biểu đồ phân tán <a id=\"10\"></a>\n",
        "\n",
        "`Biểu đồ phân tán` (2D) là một phương thức hữu dụng để so sánh các giá trị với nhau. Biểu đồ `phân tán` trông tương tự `biểu đồ đường` ở chỗ chúng đều ánh xạ các biến độc lập và phụ thuộc trên đồ thị 2D. Trong khi các điểm dữ liệu được kết nối với nhau bằng một đường trong biểu đồ đường, chúng không được kết nối trong biểu đồ phân tán. Dữ liệu trong biểu đồ phân tán được coi là thể hiện một xu hướng. Với phân tích sâu hơn bằng cách sử dụng các công cụ như hồi quy, chúng ta có thể tính toán toán học mối quan hệ này và sử dụng nó để dự đoán các xu hướng bên ngoài tập dữ liệu.\n",
        "\n",
        "Hãy bắt đầu bằng cách khám phá các nội dung sau:\n",
        "\n",
        "Sử dụng `biểu đồ phân tán`, hãy trực quan hóa xu hướng di cư đến Canada (bao gồm tất cả các quốc gia) trong những năm 1980 - 2013."
      ]
    },
    {
      "cell_type": "markdown",
      "metadata": {
        "button": false,
        "deletable": true,
        "editable": true,
        "id": "pUnQtkr7UfOW",
        "new_sheet": false,
        "run_control": {
          "read_only": false
        }
      },
      "source": [
        "Bước 1: Lấy tập dữ liệu. Bởi vì chúng ta đang kì vọng sử dụng mối quan hệ giữa `years` và `total population`, chúng ta sẽ chuyển đổi từ kiểu `years` sang `int`."
      ]
    },
    {
      "cell_type": "code",
      "execution_count": null,
      "metadata": {
        "button": false,
        "deletable": true,
        "editable": true,
        "id": "ToJJZrlQUfOW",
        "new_sheet": false,
        "run_control": {
          "read_only": false
        }
      },
      "outputs": [],
      "source": [
        "# we can use the sum() method to get the total population per year\n",
        "df_tot = pd.DataFrame(df_can[years].sum(axis=0))\n",
        "\n",
        "# change the years to type int (useful for regression later on)\n",
        "df_tot.index = map(int, df_tot.index)\n",
        "\n",
        "# reset the index to put in back in as a column in the df_tot dataframe\n",
        "df_tot.reset_index(inplace=True)\n",
        "\n",
        "# rename columns\n",
        "df_tot.columns = [\"year\", \"total\"]\n",
        "\n",
        "# view the final dataframe\n",
        "df_tot.head()"
      ]
    },
    {
      "cell_type": "markdown",
      "metadata": {
        "button": false,
        "deletable": true,
        "editable": true,
        "id": "7xPL8SoNUfOW",
        "new_sheet": false,
        "run_control": {
          "read_only": false
        }
      },
      "source": [
        "Bước 2: Trình bày dữ liệu bằng biểu đồ. Trong `Matplotlib`, chúng ta có thể tạo một biểu đồ `phân tán` bằng cách truyền `kind='scatter'` làm đối số biểu đồ. Chúng ta cũng sẽ cần truyền từ khóa `x` và `y` để chỉ định các cột sẽ là trục x và y."
      ]
    },
    {
      "cell_type": "code",
      "execution_count": null,
      "metadata": {
        "button": false,
        "deletable": true,
        "editable": true,
        "id": "ABqpfiImUfOW",
        "new_sheet": false,
        "run_control": {
          "read_only": false
        }
      },
      "outputs": [],
      "source": [
        "df_tot.plot(kind=\"scatter\", x=\"year\", y=\"total\", figsize=(10, 6), color=\"darkblue\")\n",
        "\n",
        "plt.title(\"Total Immigration to Canada from 1980 - 2013\")\n",
        "plt.xlabel(\"Year\")\n",
        "plt.ylabel(\"Number of Immigrants\")\n",
        "\n",
        "plt.show()"
      ]
    },
    {
      "cell_type": "markdown",
      "metadata": {
        "button": false,
        "deletable": true,
        "editable": true,
        "id": "wwPFPQ6kUfOW",
        "new_sheet": false,
        "run_control": {
          "read_only": false
        }
      },
      "source": [
        "*Lưu ý* làm thế nào để biểu đồ phân tán không kết nối các điểm dữ liệu với nhau. Chúng ta có thể quan sát rõ ràng có một xu hướng tăng trong dữ liệu: khi một năm trôi qua, tổng số người nhập cư tăng lên. Chúng ta có thể phân tích toán học xu hướng tăng này bằng cách sử dụng đường hồi quy (đường phù hợp nhất)."
      ]
    },
    {
      "cell_type": "markdown",
      "metadata": {
        "button": false,
        "deletable": true,
        "editable": true,
        "id": "Pqj1h3bhUfOW",
        "new_sheet": false,
        "run_control": {
          "read_only": false
        }
      },
      "source": [
        "Hãy thử vẽ đường tuyến tính phù hợp nhất, và sử dụng để dự đoán số lượng người di cư vào năm 2015.\n",
        "\n",
        "Bước 1: Lấy phương trình của dòng phù hợp nhất. Chúng ta sẽ sử dụng phương thức `polyfit()` **Numpy** bằng cách truyền vào như sau:\n",
        "- `x`: tọa độ x của dữ liệu..\n",
        "- `y`: tọa độ y của dữ liệu..\n",
        "- `deg`: Bậc của đa thức chỉnh hợp. 1 = tuyến tính, 2 = bậc hai, v.v."
      ]
    },
    {
      "cell_type": "code",
      "execution_count": null,
      "metadata": {
        "button": false,
        "deletable": true,
        "editable": true,
        "id": "9S5-N-z8UfOW",
        "new_sheet": false,
        "run_control": {
          "read_only": false
        }
      },
      "outputs": [],
      "source": [
        "x = df_tot[\"year\"]  # year on x-axis\n",
        "y = df_tot[\"total\"]  # total on y-axis\n",
        "fit = np.polyfit(x, y, deg=1)\n",
        "\n",
        "fit"
      ]
    },
    {
      "cell_type": "markdown",
      "metadata": {
        "button": false,
        "deletable": true,
        "editable": true,
        "id": "0wd4u4lwUfOW",
        "new_sheet": false,
        "run_control": {
          "read_only": false
        }
      },
      "source": [
        "Output là một mảng có hệ số đa thức, lũy thừa cao nhất trước. Vì chúng ta đang vẽ một hồi quy tuyến tính `y= a*x + b`, output của chúng ta có 2 phần tử `[5.56709228e+03, -1.09261952e+07]` với hệ số góc ở vị trí 0 và giao điểm ở vị trí 1.\n",
        "\n",
        "Bước 2: Vẽ đường hồi quy trên `biểu đồ phân tán`."
      ]
    },
    {
      "cell_type": "code",
      "execution_count": null,
      "metadata": {
        "button": false,
        "deletable": true,
        "editable": true,
        "id": "qDhON_dkUfOX",
        "new_sheet": false,
        "run_control": {
          "read_only": false
        },
        "scrolled": false
      },
      "outputs": [],
      "source": [
        "df_tot.plot(kind=\"scatter\", x=\"year\", y=\"total\", figsize=(10, 6), color=\"darkblue\")\n",
        "\n",
        "plt.title(\"Total Immigration to Canada from 1980 - 2013\")\n",
        "plt.xlabel(\"Year\")\n",
        "plt.ylabel(\"Number of Immigrants\")\n",
        "\n",
        "# plot line of best fit\n",
        "plt.plot(x, fit[0] * x + fit[1], color=\"red\")  # recall that x is the Years\n",
        "plt.annotate(\"y={0:.0f} x + {1:.0f}\".format(fit[0], fit[1]), xy=(2000, 150000))\n",
        "\n",
        "plt.show()\n",
        "\n",
        "# print out the line of best fit\n",
        "\"No. Immigrants = {0:.0f} * Year + {1:.0f}\".format(fit[0], fit[1])"
      ]
    },
    {
      "cell_type": "markdown",
      "metadata": {
        "button": false,
        "deletable": true,
        "editable": true,
        "id": "rxjN03PrUfOX",
        "new_sheet": false,
        "run_control": {
          "read_only": false
        }
      },
      "source": [
        "Sử dụng phương trình đường phù hợp nhất, chúng ta có thể ước tính số lượng người nhập cư vào năm 2015:\n",
        "```python\n",
        "No. Immigrants = 5567 * Year - 10926195\n",
        "No. Immigrants = 5567 * 2015 - 10926195\n",
        "No. Immigrants = 291,310\n",
        "```\n",
        "Khi so sánh với thực tế từ Bộ Quốc tịch và Nhập cư Canada (CIC) [Báo cáo thường niên năm 2016](http://www.cic.gc.ca/english/resources/publications/annual-report-2016/index.asp), chúng ta thấy rằng Canada đã nhận 271.845 người nhập cư vào năm 2015. Giá trị ước tính của chúng ta là 291.310 chỉ nằm trong khoảng 7% so với con số thực tế, vẫn khá tốt khi xem xét dữ liệu ban đầu của chúng ta từ Liên hợp quốc (và có thể khác một chút so với dữ liệu CIC).\n",
        "\n",
        "Lưu ý thêm, chúng ta có thể quan sát thấy nhập cư đã giảm trong khoảng năm 1993 - 1997. Phân tích sâu hơn về chủ đề này cho thấy rằng vào năm 1993, Canada đã đưa vào thực tiễn Dự luật C-86 của Canada thành công, đưa ra các sửa đổi đối với hệ thống xác định người tị nạn, hầu hết là hạn chế. Những sửa đổi bổ sung đối với Quy định Nhập cư đã hủy bỏ quyền bảo trợ cần thiết cho \"người thân được trợ giúp\" và giảm số điểm được trao cho họ, khiến các thành viên gia đình (ngoài gia đình hạt nhân) khó nhập cư vào Canada hơn. Những biện pháp hạn chế này đã có tác động trực tiếp đến số lượng nhập cư trong vài năm tới."
      ]
    },
    {
      "cell_type": "markdown",
      "metadata": {
        "button": false,
        "deletable": true,
        "id": "vKd53OAbUfOX",
        "new_sheet": false,
        "run_control": {
          "read_only": false
        }
      },
      "source": [
        "**Câu hỏi**: Tạo một biểu đồ phân tán về tổng lượng di cư từ Đan Mạch, Na Uy, và Thụy Điển vào Canada từ năm 1980 đến năm 2013?"
      ]
    },
    {
      "cell_type": "markdown",
      "metadata": {
        "button": false,
        "deletable": true,
        "id": "niuco1LMUfOX",
        "new_sheet": false,
        "run_control": {
          "read_only": false
        }
      },
      "source": [
        "Bước 1: Thu thập dữ liệu:\n",
        "   1. Tạo khung dữ liệu chỉ bao gồm các số được liên kết với Đan Mạch, Na Uy và Thụy Điển. Gọi nó là **df_countries**.\n",
        "   2. Tính tổng số lượng di cư hàng năm ở 3 quốc gia và chuyển kết quả thành một khung dữ liệu. Đặt tên khung dữ liệu mới là **df_total**.\n",
        "   3. Cài đặt lại chỉ số ở các địa điểm.\n",
        "   4. Đặt tên lại các cột thành **year** và **total**.\n",
        "   5. Hiển thị khung dữ liệu kết quả."
      ]
    },
    {
      "cell_type": "code",
      "execution_count": null,
      "metadata": {
        "button": false,
        "deletable": true,
        "id": "VnlQkCkfUfOX",
        "new_sheet": false,
        "run_control": {
          "read_only": false
        },
        "scrolled": true
      },
      "outputs": [],
      "source": [
        "### type your answer here"
      ]
    },
    {
      "cell_type": "markdown",
      "metadata": {
        "button": false,
        "deletable": true,
        "id": "Fkqj3Xe8UfOX",
        "new_sheet": false,
        "run_control": {
          "read_only": false
        }
      },
      "source": [
        "Nhấn đúp __vào đây__ để xem giải pháp.\n",
        "<!-- The correct answer is:\n",
        "\\\\ # create df_countries dataframe\n",
        "df_countries = df_can.loc[['Denmark', 'Norway', 'Sweden'], years].transpose()\n",
        "-->\n",
        "\n",
        "<!--\n",
        "\\\\ # create df_total by summing across three countries for each year\n",
        "df_total = pd.DataFrame(df_countries.sum(axis=1))\n",
        "-->\n",
        "\n",
        "<!--\n",
        "\\\\ # reset index in place\n",
        "df_total.reset_index(inplace=True)\n",
        "-->\n",
        "\n",
        "<!--\n",
        "\\\\ # rename columns\n",
        "df_total.columns = ['year', 'total']\n",
        "-->\n",
        "\n",
        "<!--\n",
        "\\\\ # change column year from string to int to create scatter plot\n",
        "df_total['year'] = df_total['year'].astype(int)\n",
        "-->\n",
        "\n",
        "<!--\n",
        "\\\\ # show resulting dataframe\n",
        "df_total.head()\n",
        "-->"
      ]
    },
    {
      "cell_type": "markdown",
      "metadata": {
        "button": false,
        "deletable": true,
        "id": "YelkQG6iUfOX",
        "new_sheet": false,
        "run_control": {
          "read_only": false
        }
      },
      "source": [
        "Bước 2: Tạo biểu đồ phân tán bằng cách vẽ total vs year trong **df_total**."
      ]
    },
    {
      "cell_type": "code",
      "execution_count": null,
      "metadata": {
        "button": false,
        "deletable": true,
        "id": "IWuv9BeYUfOY",
        "new_sheet": false,
        "run_control": {
          "read_only": false
        }
      },
      "outputs": [],
      "source": [
        "### type your answer here"
      ]
    },
    {
      "cell_type": "markdown",
      "metadata": {
        "button": false,
        "deletable": true,
        "id": "f7PIjymNUfOY",
        "new_sheet": false,
        "run_control": {
          "read_only": false
        }
      },
      "source": [
        "Nhấn đúp __vào đây__ để xem giải pháp.\n",
        "<!-- The correct answer is:\n",
        "\\\\ # generate scatter plot\n",
        "df_total.plot(kind='scatter', x='year', y='total', figsize=(10, 6), color='darkblue')\n",
        "-->\n",
        "\n",
        "<!--\n",
        "\\\\ # add title and label to axes\n",
        "plt.title('Immigration from Denmark, Norway, and Sweden to Canada from 1980 - 2013')\n",
        "plt.xlabel('Year')\n",
        "plt.ylabel('Number of Immigrants')\n",
        "-->\n",
        "\n",
        "<!--\n",
        "\\\\ # show plot\n",
        "plt.show()\n",
        "-->"
      ]
    },
    {
      "cell_type": "markdown",
      "metadata": {
        "button": false,
        "deletable": true,
        "editable": true,
        "id": "A5lIS7AIUfOY",
        "new_sheet": false,
        "run_control": {
          "read_only": false
        }
      },
      "source": [
        "# Biểu đồ bong bóng <a id=\"12\"></a>\n",
        "\n",
        "`Biểu đồ bong bóng` là một biến thể của `biểu đồ phân tán` hiển thị 3 chiều của dữ liệu (x, y, z). Các điểm dữ liệu được thay thế bởi các bong bóng, và kích thước bong bóng được quyết định bởi biến thứ 3 'z', hay còn gọi là trọng số. Trong `maplotlib`, chúng ta có thể truyền vào một mảng hoặc scalar cho từ khóa `s` cho `plot()`, chứa trọng số của mỗi điểm.\n",
        "\n",
        "**Hãy bắt đầu bằng việc phân tích ảnh hưởng của cuộc đại suy thoái ở Argentina **.\n",
        "\n",
        "Argentina đã trải qua một cuộc khủng hoảng lớn từ năm 1998 - 2002, gây ra tình trạng thất nghiệp lan rộng, bạo loạn, sự sụp đổ của chính phủ và vỡ nợ từ nước ngoài. Về thu nhập, hơn 50% người dân Argentina là người nghèo, và cứ 10 trẻ em Argentina thì có bảy trẻ em nghèo ở đỉnh điểm cuộc khủng hoảng năm 2002.\n",
        "\n",
        "Hãy phân tích ảnh hưởng của cuộc khủng hoảng này, và so sánh tình trạng di dân ở Argentina so với hàng xóm Brazil. Thực hiện điều đó bằng cách dùng `biểu đồ Chúng ta sẽ đặt trọng số cho bong bóng dưới dạng giá trị *normalized* của dân số hàng năm."
      ]
    },
    {
      "cell_type": "markdown",
      "metadata": {
        "button": false,
        "deletable": true,
        "editable": true,
        "id": "B0aEzkmEUfOY",
        "new_sheet": false,
        "run_control": {
          "read_only": false
        }
      },
      "source": [
        "Bước 1: Thu thập dữ liệu của Brazil và Argentina. Giống như trong ví dụ trước, chúng ta sẽ chuyển đổi `Years` thành kiểu int và đưa nó vào khung dữ liệu."
      ]
    },
    {
      "cell_type": "code",
      "execution_count": null,
      "metadata": {
        "button": false,
        "deletable": true,
        "editable": true,
        "id": "ivyWda-YUfOY",
        "new_sheet": false,
        "run_control": {
          "read_only": false
        },
        "scrolled": true
      },
      "outputs": [],
      "source": [
        "df_can_t = df_can[years].transpose()  # transposed dataframe\n",
        "\n",
        "# cast the Years (the index) to type int\n",
        "df_can_t.index = map(int, df_can_t.index)\n",
        "\n",
        "# let's label the index. This will automatically be the column name when we reset the index\n",
        "df_can_t.index.name = \"Year\"\n",
        "\n",
        "# reset index to bring the Year in as a column\n",
        "df_can_t.reset_index(inplace=True)\n",
        "\n",
        "# view the changes\n",
        "df_can_t.head()"
      ]
    },
    {
      "cell_type": "markdown",
      "metadata": {
        "button": false,
        "deletable": true,
        "editable": true,
        "id": "CjLuVkBBUfOY",
        "new_sheet": false,
        "run_control": {
          "read_only": false
        }
      },
      "source": [
        "Bước 2: Tạo các trọng số đã được chuẩn hóa.\n",
        "\n",
        "Có một vài phương thức chuẩn hóa trong thống kê, mỗi phương thức có công dụng riêng. Trong trường hợp này, chúng ta sẽ sử dụng [feature scaling](https://en.wikipedia.org/wiki/Feature_scaling) để đưa tất cả các giá trị vào khoảng [0,1]. Công thức chung là:\n",
        "\n",
        "<img src=\"https://s3-api.us-geo.objectstorage.softlayer.net/cf-courses-data/CognitiveClass/DV0101EN/labs/Images/Mod3Fig3FeatureScaling.png\" align=\"center\">\n",
        "\n",
        "trong đó *`X`* là giá trị ban đầu, *`X'`* là giá trị đã chuẩn hóa. Công thức đặt giá trị lớn nhất ở tập dữ liệu là 1, và đặt giá trị nhỏ nhất là 0. Các điểm dữ liệu còn lại thì nằm trong khoảng từ 0-1.\n"
      ]
    },
    {
      "cell_type": "code",
      "execution_count": null,
      "metadata": {
        "button": false,
        "deletable": true,
        "editable": true,
        "id": "bhAfhsqnUfOZ",
        "new_sheet": false,
        "run_control": {
          "read_only": false
        },
        "scrolled": true
      },
      "outputs": [],
      "source": [
        "# normalize Brazil data\n",
        "norm_brazil = (df_can_t[\"Brazil\"] - df_can_t[\"Brazil\"].min()) / (\n",
        "    df_can_t[\"Brazil\"].max() - df_can_t[\"Brazil\"].min()\n",
        ")\n",
        "\n",
        "# normalize Argentina data\n",
        "norm_argentina = (df_can_t[\"Argentina\"] - df_can_t[\"Argentina\"].min()) / (\n",
        "    df_can_t[\"Argentina\"].max() - df_can_t[\"Argentina\"].min()\n",
        ")"
      ]
    },
    {
      "cell_type": "markdown",
      "metadata": {
        "button": false,
        "deletable": true,
        "editable": true,
        "id": "7sHclPCbUfOZ",
        "new_sheet": false,
        "run_control": {
          "read_only": false
        }
      },
      "source": [
        "Bước 3: Trình bày dữ liệu bằng biểu đồ.\n",
        "- Để vẽ 2 biểu đồ phân tán khác nhau trong một biểu đồ, chúng ta có thể đưa các trục của một biểu đồ vào biểu đồ khác bằng cách truyền vào thông qua tham số `ax`.\n",
        "- Chúng ta cũng sẽ truyền vào các trọng số bằng các tham số `s`. Giả sử các trọng số được chuẩn hóa nằm trong khoảng 0-1, chúng sẽ không thể nhìn thấy được trên biểu đồ. Do đó, chúng ta sẽ:\n",
        "    - nhân các trọng số với 2000 để có thể hiển thị trên biểu đồ và,\n",
        "    - thêm 10 vào mỗi giá trị nhỏ nhất (có trọng số 0 nên có thể nhân với 2000)."
      ]
    },
    {
      "cell_type": "code",
      "execution_count": null,
      "metadata": {
        "button": false,
        "deletable": true,
        "editable": true,
        "id": "9iLWPV-3UfOZ",
        "new_sheet": false,
        "run_control": {
          "read_only": false
        }
      },
      "outputs": [],
      "source": [
        "# Brazil\n",
        "ax0 = df_can_t.plot(\n",
        "    kind=\"scatter\",\n",
        "    x=\"Year\",\n",
        "    y=\"Brazil\",\n",
        "    figsize=(14, 8),\n",
        "    alpha=0.5,  # transparency\n",
        "    color=\"green\",\n",
        "    s=norm_brazil * 2000 + 10,  # pass in weights\n",
        "    xlim=(1975, 2015),\n",
        ")\n",
        "\n",
        "# Argentina\n",
        "ax1 = df_can_t.plot(\n",
        "    kind=\"scatter\",\n",
        "    x=\"Year\",\n",
        "    y=\"Argentina\",\n",
        "    alpha=0.5,\n",
        "    color=\"blue\",\n",
        "    s=norm_argentina * 2000 + 10,\n",
        "    ax=ax0,\n",
        ")\n",
        "\n",
        "ax0.set_ylabel(\"Number of Immigrants\")\n",
        "ax0.set_title(\"Immigration from Brazil and Argentina from 1980 - 2013\")\n",
        "ax0.legend([\"Brazil\", \"Argentina\"], loc=\"upper left\", fontsize=\"x-large\")"
      ]
    },
    {
      "cell_type": "markdown",
      "metadata": {
        "button": false,
        "deletable": true,
        "editable": true,
        "id": "rKHTswwwUfOZ",
        "new_sheet": false,
        "run_control": {
          "read_only": false
        }
      },
      "source": [
        "Kích thước của bong bóng tương ứng với mức độ dân số nhập cư trong năm đó, so với dữ liệu 1980-2013. Bong bóng càng lớn, số lượng người nhập cư năm đó càng nhiều.\n",
        "\n",
        "Từ biểu đồ trên, chúng ta có thể thấy lượng nhập cư từ Argentina gia tăng tương ứng trong cuộc đại suy thoái 1998 - 2002. Chúng ta cũng có thể quan sát thấy một đợt tăng đột biến tương tự vào khoảng năm 1985 đến 1993. Trên thực tế, Argentina đã phải trải qua một cuộc đại suy thoái từ năm 1974 - 1990, ngay trước khi bắt đầu cuộc đại suy thoái 1998 - 2002.\n",
        "\n",
        "Tương tự, Brazil đã phải chịu đựng * Hiệu ứng Samba * khi đồng real Brazil (tiền tệ) giảm gần 35% vào năm 1999. Người ta lo ngại về một cuộc khủng hoảng tài chính Nam Mỹ vì nhiều nước Nam Mỹ phụ thuộc nhiều vào xuất khẩu công nghiệp từ Brazil. Chính phủ Brazil sau đó đã thông qua một chương trình thắt lưng buộc bụng và nền kinh tế dần phục hồi trong những năm qua, đỉnh điểm là sự tăng vọt vào năm 2010. Dữ liệu nhập cư phản ánh những sự kiện này."
      ]
    },
    {
      "cell_type": "markdown",
      "metadata": {
        "button": false,
        "deletable": true,
        "id": "wawuvXSOUfOZ",
        "new_sheet": false,
        "run_control": {
          "read_only": false
        }
      },
      "source": [
        "**Câu hỏi**: Ở phần trước của bài lab này, chúng ta đã tạo biểu đồ hộp để so sánh việc di dân từ Trung Quốc và Ấn Độ sang Canada. Tạo một biểu đồ bong bóng về việc di dân từ Trung Quốc và Ấn Độ để trực quan hóa sự khác nhau trong thời điểm từ 1980 đến 2013. Bạn có thể sử dụng **df_can_t** mà chúng ta đã xác định và sử dụng trong ví dụ trước."
      ]
    },
    {
      "cell_type": "markdown",
      "metadata": {
        "button": false,
        "deletable": true,
        "id": "sEyg2b-DUfOa",
        "new_sheet": false,
        "run_control": {
          "read_only": false
        }
      },
      "source": [
        "Bước 1: Chuẩn hóa các dữ liệu của Trung Quốc và Ấn Độ."
      ]
    },
    {
      "cell_type": "code",
      "execution_count": null,
      "metadata": {
        "button": false,
        "collapsed": true,
        "deletable": true,
        "id": "2TLaIOhMUfOa",
        "new_sheet": false,
        "run_control": {
          "read_only": false
        }
      },
      "outputs": [],
      "source": [
        "### type your answer here"
      ]
    },
    {
      "cell_type": "markdown",
      "metadata": {
        "button": false,
        "deletable": true,
        "id": "5UeLh_oqUfOa",
        "new_sheet": false,
        "run_control": {
          "read_only": false
        }
      },
      "source": [
        "Nhấn đúp __vào đây__ để xem giải pháp.\n",
        "<!-- The correct answer is:\n",
        "\\\\ # normalize China data\n",
        "norm_china = (df_can_t['China'] - df_can_t['China'].min()) / (df_can_t['China'].max() - df_can_t['China'].min())\n",
        "-->\n",
        "\n",
        "<!--\n",
        "# normalize India data\n",
        "norm_india = (df_can_t['India'] - df_can_t['India'].min()) / (df_can_t['India'].max() - df_can_t['India'].min())\n",
        "-->"
      ]
    },
    {
      "cell_type": "markdown",
      "metadata": {
        "button": false,
        "deletable": true,
        "id": "LET06HW7UfOa",
        "new_sheet": false,
        "run_control": {
          "read_only": false
        }
      },
      "source": [
        "Bước 2: Tạo biểu đồ bong bóng."
      ]
    },
    {
      "cell_type": "code",
      "execution_count": null,
      "metadata": {
        "button": false,
        "deletable": true,
        "id": "qYyJLCmgUfOa",
        "new_sheet": false,
        "run_control": {
          "read_only": false
        }
      },
      "outputs": [],
      "source": [
        "### type your answer here"
      ]
    },
    {
      "cell_type": "markdown",
      "metadata": {
        "button": false,
        "deletable": true,
        "id": "ek_IFeS3UfOa",
        "new_sheet": false,
        "run_control": {
          "read_only": false
        }
      },
      "source": [
        "Nhấn đúp __vào đây__ để xem giải pháp.\n",
        "<!-- The correct answer is:\n",
        "\\\\ # China\n",
        "ax0 = df_can_t.plot(kind='scatter',\n",
        "                    x='Year',\n",
        "                    y='China',\n",
        "                    figsize=(14, 8),\n",
        "                    alpha=0.5,                  # transparency\n",
        "                    color='green',\n",
        "                    s=norm_china * 2000 + 10,  # pass in weights\n",
        "                    xlim=(1975, 2015)\n",
        "                   )\n",
        "-->\n",
        "\n",
        "<!--\n",
        "\\\\ # India\n",
        "ax1 = df_can_t.plot(kind='scatter',\n",
        "                    x='Year',\n",
        "                    y='India',\n",
        "                    alpha=0.5,\n",
        "                    color=\"blue\",\n",
        "                    s=norm_india * 2000 + 10,\n",
        "                    ax = ax0\n",
        "                   )\n",
        "-->\n",
        "\n",
        "<!--\n",
        "ax0.set_ylabel('Number of Immigrants')\n",
        "ax0.set_title('Immigration from China and India from 1980 - 2013')\n",
        "ax0.legend(['China', 'India'], loc='upper left', fontsize='x-large')\n",
        "-->"
      ]
    }
  ],
  "metadata": {
    "colab": {
      "provenance": [],
      "toc_visible": true
    },
    "kernelspec": {
      "display_name": "Python 3 (ipykernel)",
      "language": "python",
      "name": "python3"
    },
    "language_info": {
      "codemirror_mode": {
        "name": "ipython",
        "version": 3
      },
      "file_extension": ".py",
      "mimetype": "text/x-python",
      "name": "python",
      "nbconvert_exporter": "python",
      "pygments_lexer": "ipython3",
      "version": "3.9.16"
    }
  },
  "nbformat": 4,
  "nbformat_minor": 0
}